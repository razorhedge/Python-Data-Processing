{
 "cells": [
  {
   "cell_type": "code",
   "execution_count": 1,
   "metadata": {},
   "outputs": [],
   "source": [
    "import pandas as pd\n",
    "import numpy as np\n",
    "import os\n",
    "import datetime"
   ]
  },
  {
   "cell_type": "code",
   "execution_count": 2,
   "metadata": {},
   "outputs": [],
   "source": [
    "dfs = {}"
   ]
  },
  {
   "cell_type": "code",
   "execution_count": 3,
   "metadata": {},
   "outputs": [],
   "source": [
    "mainpath = \"C:/Users/mromo/Desktop/Rappi/Datasets\"\n",
    "#24, 25, 26, 27\n",
    "special_path = \"C:/Users/mromo/Desktop/Rappi/Datasets/S27/Consolidado RTs S27.xlsx\"\n",
    "special_path2 = \"C:/Users/mromo/Desktop/Rappi/Datasets/S27/Consolidado RTs S27.xlsx\""
   ]
  },
  {
   "cell_type": "code",
   "execution_count": 4,
   "metadata": {},
   "outputs": [],
   "source": [
    "for x in range (24,28):\n",
    "    semana = str(x)\n",
    "    dfs[x] = pd.read_excel(special_path,'Resumen s'+semana, header = 1)"
   ]
  },
  {
   "cell_type": "code",
   "execution_count": 5,
   "metadata": {},
   "outputs": [
    {
     "name": "stdout",
     "output_type": "stream",
     "text": [
      "Leyendo: C:/Users/mromo/Desktop/Rappi/Datasets/S28/Consolidado RTs S28.xlsx\n",
      "Leyendo: C:/Users/mromo/Desktop/Rappi/Datasets/S29/Consolidado RTs S29.xlsx\n",
      "Leyendo: C:/Users/mromo/Desktop/Rappi/Datasets/S30/Consolidado RTs S30.xlsx\n",
      "Leyendo: C:/Users/mromo/Desktop/Rappi/Datasets/S31/Consolidado RTs S31.xlsx\n"
     ]
    }
   ],
   "source": [
    "for x in range (28,32):\n",
    "    semana = str(x)\n",
    "    path = mainpath + \"/S\"+semana+\"/Consolidado RTs S\"+semana+\".xlsx\"\n",
    "    print(\"Leyendo: \"+path)\n",
    "    dfs[x] = pd.read_excel(path,'resumen')"
   ]
  },
  {
   "cell_type": "code",
   "execution_count": 6,
   "metadata": {},
   "outputs": [],
   "source": [
    "def createDummies(df,var_name):\n",
    "    dummy = pd.get_dummies(df[var_name], prefix = var_name)\n",
    "    df = df.drop(var_name, axis=1)\n",
    "    df = pd.concat([df,dummy], axis =1)\n",
    "    return df"
   ]
  },
  {
   "cell_type": "code",
   "execution_count": 7,
   "metadata": {},
   "outputs": [],
   "source": [
    "for x in range(31,40):\n",
    "    semana = str(x)\n",
    "    dfx = pd.read_excel(mainpath + \"/S\"+semana+\"/Resumen S\"+semana+\".xlsx\", 'Resumen Ganancia')\n",
    "    dfy = pd.read_excel(mainpath + \"/S\"+semana+\"/Resumen S\"+semana+\".xlsx\", 'Resumen Deuda')\n",
    "    dfx = dfx.drop('model_id', axis =1)\n",
    "    dfy = dfy.drop('model_id', axis =1)\n",
    "    dft = pd.merge(dfx,dfy, how = 'outer', on =['storekeeper_id', 'created_at', 'name', 'total']).sort_values('storekeeper_id')\n",
    "    dft = dft.drop('dispersion_id', axis =1)\n",
    "    dft = dft.groupby(['storekeeper_id','name']).total.sum().reset_index()\n",
    "    dfs[x] = dft"
   ]
  },
  {
   "cell_type": "code",
   "execution_count": 8,
   "metadata": {},
   "outputs": [],
   "source": [
    "t = pd.merge(dfs[36],dfs[37], how = 'outer', on =['storekeeper_id', 'name','total']).sort_values('storekeeper_id')\n",
    "t = t[t['name']!='past_debt_manual_debt']\n",
    "t = t.groupby(['storekeeper_id','name']).total.sum().reset_index()\n",
    "z = pd.merge(dfs[38],dfs[39], how = 'outer', on =['storekeeper_id', 'name','total']).sort_values('storekeeper_id')\n",
    "z = z[z['name']!='past_debt_manual_debt']\n",
    "z = z.groupby(['storekeeper_id','name']).total.sum().reset_index()\n",
    "df_septiembre = pd.merge(t,z,how='outer', on=t.columns.tolist())"
   ]
  },
  {
   "cell_type": "code",
   "execution_count": 9,
   "metadata": {},
   "outputs": [],
   "source": [
    "#Junio\n",
    "df_junio = dfs[24]\n",
    "for x in range(25,27):\n",
    "    df_junio = pd.merge(df_junio,dfs[x], how ='outer', on =df_junio.columns.tolist())"
   ]
  },
  {
   "cell_type": "code",
   "execution_count": 10,
   "metadata": {},
   "outputs": [
    {
     "data": {
      "text/plain": [
       "21"
      ]
     },
     "execution_count": 10,
     "metadata": {},
     "output_type": "execute_result"
    }
   ],
   "source": [
    "indice = dfs[29].columns.tolist()\n",
    "dfs[29].columns.size"
   ]
  },
  {
   "cell_type": "code",
   "execution_count": 11,
   "metadata": {},
   "outputs": [
    {
     "data": {
      "text/plain": [
       "21"
      ]
     },
     "execution_count": 11,
     "metadata": {},
     "output_type": "execute_result"
    }
   ],
   "source": [
    "dfs[30].columns.size"
   ]
  },
  {
   "cell_type": "markdown",
   "metadata": {},
   "source": [
    "#Julio\n",
    "df_julio = dfs[29]\n",
    "for x in range(30,32):\n",
    "    df_julio = pd.merge(df_julio,dfs[x], how ='outer', on =df_julio.columns.tolist())"
   ]
  },
  {
   "cell_type": "code",
   "execution_count": 12,
   "metadata": {},
   "outputs": [],
   "source": [
    "#Agosto\n",
    "df_agosto = dfs[31]\n",
    "for x in range(32,36):\n",
    "    df_agosto = pd.merge(df_agosto,dfs[x], how ='outer', on =df_septiembre.columns.tolist())"
   ]
  },
  {
   "cell_type": "code",
   "execution_count": 13,
   "metadata": {},
   "outputs": [],
   "source": [
    "#Septiembre\n",
    "df_septiembre = dfs[36]\n",
    "for x in range(37,40):\n",
    "    df_septiembre = pd.merge(df_septiembre,dfs[x], how ='outer', on =df_septiembre.columns.tolist())"
   ]
  },
  {
   "cell_type": "code",
   "execution_count": 14,
   "metadata": {},
   "outputs": [
    {
     "data": {
      "text/html": [
       "<div>\n",
       "<style scoped>\n",
       "    .dataframe tbody tr th:only-of-type {\n",
       "        vertical-align: middle;\n",
       "    }\n",
       "\n",
       "    .dataframe tbody tr th {\n",
       "        vertical-align: top;\n",
       "    }\n",
       "\n",
       "    .dataframe thead th {\n",
       "        text-align: right;\n",
       "    }\n",
       "</style>\n",
       "<table border=\"1\" class=\"dataframe\">\n",
       "  <thead>\n",
       "    <tr style=\"text-align: right;\">\n",
       "      <th></th>\n",
       "      <th>id</th>\n",
       "      <th>dias trabajados</th>\n",
       "      <th>Conexión (horas)</th>\n",
       "      <th>Cupos Reservados</th>\n",
       "      <th>Cupos Cumplidos</th>\n",
       "      <th>Cumplimiento (%)</th>\n",
       "      <th>N° Ordenes Producción</th>\n",
       "      <th>Producción Semanal</th>\n",
       "      <th>Propinas</th>\n",
       "      <th>Sampling</th>\n",
       "      <th>Promos</th>\n",
       "      <th>Bonos</th>\n",
       "      <th>Subtotal Ganancias</th>\n",
       "      <th>Total efectivoRT</th>\n",
       "      <th>Dcto efectivoRT real</th>\n",
       "      <th>Descto Equipamiento</th>\n",
       "      <th>Total a Pagar</th>\n",
       "      <th>deuda Pendiente</th>\n",
       "    </tr>\n",
       "  </thead>\n",
       "  <tbody>\n",
       "    <tr>\n",
       "      <th>0</th>\n",
       "      <td>10042</td>\n",
       "      <td>1</td>\n",
       "      <td>0.1875</td>\n",
       "      <td>0</td>\n",
       "      <td>0</td>\n",
       "      <td>0.000000</td>\n",
       "      <td>0</td>\n",
       "      <td>0</td>\n",
       "      <td>0</td>\n",
       "      <td>0</td>\n",
       "      <td>0</td>\n",
       "      <td>0.0</td>\n",
       "      <td>0.0</td>\n",
       "      <td>0</td>\n",
       "      <td>0</td>\n",
       "      <td>0</td>\n",
       "      <td>0.0</td>\n",
       "      <td>0</td>\n",
       "    </tr>\n",
       "    <tr>\n",
       "      <th>1</th>\n",
       "      <td>10045</td>\n",
       "      <td>7</td>\n",
       "      <td>54.6993</td>\n",
       "      <td>41</td>\n",
       "      <td>31</td>\n",
       "      <td>0.756098</td>\n",
       "      <td>83</td>\n",
       "      <td>133700</td>\n",
       "      <td>32624</td>\n",
       "      <td>0</td>\n",
       "      <td>43700</td>\n",
       "      <td>24000.0</td>\n",
       "      <td>234024.0</td>\n",
       "      <td>-52115</td>\n",
       "      <td>-52115</td>\n",
       "      <td>-12500</td>\n",
       "      <td>169409.0</td>\n",
       "      <td>0</td>\n",
       "    </tr>\n",
       "    <tr>\n",
       "      <th>2</th>\n",
       "      <td>10046</td>\n",
       "      <td>3</td>\n",
       "      <td>3.3617</td>\n",
       "      <td>0</td>\n",
       "      <td>0</td>\n",
       "      <td>0.000000</td>\n",
       "      <td>2</td>\n",
       "      <td>2800</td>\n",
       "      <td>1000</td>\n",
       "      <td>0</td>\n",
       "      <td>0</td>\n",
       "      <td>0.0</td>\n",
       "      <td>3800.0</td>\n",
       "      <td>-67637</td>\n",
       "      <td>-3800</td>\n",
       "      <td>0</td>\n",
       "      <td>0.0</td>\n",
       "      <td>-63837</td>\n",
       "    </tr>\n",
       "    <tr>\n",
       "      <th>3</th>\n",
       "      <td>10047</td>\n",
       "      <td>6</td>\n",
       "      <td>5.4211</td>\n",
       "      <td>0</td>\n",
       "      <td>0</td>\n",
       "      <td>0.000000</td>\n",
       "      <td>1</td>\n",
       "      <td>1400</td>\n",
       "      <td>1100</td>\n",
       "      <td>0</td>\n",
       "      <td>0</td>\n",
       "      <td>0.0</td>\n",
       "      <td>2500.0</td>\n",
       "      <td>0</td>\n",
       "      <td>0</td>\n",
       "      <td>-2500</td>\n",
       "      <td>0.0</td>\n",
       "      <td>0</td>\n",
       "    </tr>\n",
       "    <tr>\n",
       "      <th>4</th>\n",
       "      <td>10048</td>\n",
       "      <td>7</td>\n",
       "      <td>71.8145</td>\n",
       "      <td>47</td>\n",
       "      <td>39</td>\n",
       "      <td>0.829787</td>\n",
       "      <td>74</td>\n",
       "      <td>123800</td>\n",
       "      <td>28000</td>\n",
       "      <td>0</td>\n",
       "      <td>111000</td>\n",
       "      <td>10000.0</td>\n",
       "      <td>272800.0</td>\n",
       "      <td>-44709</td>\n",
       "      <td>-44709</td>\n",
       "      <td>-12300</td>\n",
       "      <td>215791.0</td>\n",
       "      <td>0</td>\n",
       "    </tr>\n",
       "  </tbody>\n",
       "</table>\n",
       "</div>"
      ],
      "text/plain": [
       "      id  dias trabajados  Conexión (horas)  Cupos Reservados  \\\n",
       "0  10042                1            0.1875                 0   \n",
       "1  10045                7           54.6993                41   \n",
       "2  10046                3            3.3617                 0   \n",
       "3  10047                6            5.4211                 0   \n",
       "4  10048                7           71.8145                47   \n",
       "\n",
       "   Cupos Cumplidos  Cumplimiento (%)  N° Ordenes Producción  \\\n",
       "0                0          0.000000                      0   \n",
       "1               31          0.756098                     83   \n",
       "2                0          0.000000                      2   \n",
       "3                0          0.000000                      1   \n",
       "4               39          0.829787                     74   \n",
       "\n",
       "   Producción Semanal  Propinas  Sampling  Promos    Bonos  \\\n",
       "0                   0         0         0       0      0.0   \n",
       "1              133700     32624         0   43700  24000.0   \n",
       "2                2800      1000         0       0      0.0   \n",
       "3                1400      1100         0       0      0.0   \n",
       "4              123800     28000         0  111000  10000.0   \n",
       "\n",
       "   Subtotal Ganancias  Total efectivoRT  Dcto efectivoRT real  \\\n",
       "0                 0.0                 0                     0   \n",
       "1            234024.0            -52115                -52115   \n",
       "2              3800.0            -67637                 -3800   \n",
       "3              2500.0                 0                     0   \n",
       "4            272800.0            -44709                -44709   \n",
       "\n",
       "   Descto Equipamiento  Total a Pagar  deuda Pendiente  \n",
       "0                    0            0.0                0  \n",
       "1               -12500       169409.0                0  \n",
       "2                    0            0.0           -63837  \n",
       "3                -2500            0.0                0  \n",
       "4               -12300       215791.0                0  "
      ]
     },
     "execution_count": 14,
     "metadata": {},
     "output_type": "execute_result"
    }
   ],
   "source": [
    "dfs[28].head()"
   ]
  },
  {
   "cell_type": "code",
   "execution_count": 15,
   "metadata": {},
   "outputs": [],
   "source": [
    "df_junio.to_excel(\"C:/Users/mromo/Desktop/Rappi/Datasets/Resumen Total Junio 2018.xlsx\")"
   ]
  },
  {
   "cell_type": "code",
   "execution_count": 16,
   "metadata": {},
   "outputs": [],
   "source": [
    "df_septiembre.to_excel(\"C:/Users/mromo/Desktop/Rappi/Datasets/Resumen Total Septiembre 2018.xlsx\")"
   ]
  },
  {
   "cell_type": "code",
   "execution_count": 17,
   "metadata": {},
   "outputs": [],
   "source": [
    "df_agosto.to_excel(\"C:/Users/mromo/Desktop/Rappi/Datasets/Resumen Total Agosto 2018.xlsx\")"
   ]
  }
 ],
 "metadata": {
  "kernelspec": {
   "display_name": "Python 3",
   "language": "python",
   "name": "python3"
  },
  "language_info": {
   "codemirror_mode": {
    "name": "ipython",
    "version": 3
   },
   "file_extension": ".py",
   "mimetype": "text/x-python",
   "name": "python",
   "nbconvert_exporter": "python",
   "pygments_lexer": "ipython3",
   "version": "3.6.5"
  }
 },
 "nbformat": 4,
 "nbformat_minor": 2
}
