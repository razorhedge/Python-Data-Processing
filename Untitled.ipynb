{
 "cells": [
  {
   "cell_type": "code",
   "execution_count": 1,
   "metadata": {},
   "outputs": [],
   "source": [
    "import pandas as pd\n",
    "from datetime import datetime\n",
    "import os"
   ]
  },
  {
   "cell_type": "code",
   "execution_count": 2,
   "metadata": {},
   "outputs": [],
   "source": [
    "mainpath = \"C:/Users/mromo/Desktop/Rappi/Datasets\"\n",
    "filepath2 = \"BD Datos RT.xlsx\"\n",
    "filepath = \"Datos Bancarios-Vista General.xlsx\"\n",
    "filepath3 = \"BBDD Periscope-Vista General RTs.xlsx\"\n",
    "fullpath = os.path.join(mainpath, filepath)\n",
    "fullpath2 = os.path.join(mainpath, filepath2)\n",
    "fullpath3 = os.path.join(mainpath, filepath3)"
   ]
  },
  {
   "cell_type": "code",
   "execution_count": 3,
   "metadata": {},
   "outputs": [],
   "source": [
    "df_cuentas = pd.read_excel(fullpath)\n",
    "df_datos = pd.read_excel(fullpath2)\n",
    "df_bd = pd.read_excel(fullpath3)"
   ]
  },
  {
   "cell_type": "code",
   "execution_count": 4,
   "metadata": {},
   "outputs": [
    {
     "data": {
      "text/plain": [
       "ID_RegCuenta                        int64\n",
       "SKID                                int64\n",
       "ID                                  int64\n",
       "RUT Titular                        object\n",
       "Nombre Completo Titular            object\n",
       "Banco                              object\n",
       "Tipo de Cuenta                     object\n",
       "N° de Cuenta                      float64\n",
       "Timestamp                  datetime64[ns]\n",
       "Predeterminada                     object\n",
       "dtype: object"
      ]
     },
     "execution_count": 4,
     "metadata": {},
     "output_type": "execute_result"
    }
   ],
   "source": [
    "df_cuentas.dtypes"
   ]
  },
  {
   "cell_type": "code",
   "execution_count": 5,
   "metadata": {},
   "outputs": [
    {
     "data": {
      "text/plain": [
       "Index(['id', 'first_name', 'last_name', 'telephone', 'gender', 'birthday',\n",
       "       'identification_type', 'identification', 'email', 'password', 'state',\n",
       "       'deleted_at', 'created_at', 'updated_at', 'address', 'city', 'country',\n",
       "       'profile_pic', 'type', 'is_active', 'payment_type',\n",
       "       'payment_identification', 'payment_telephone', 'expediter_id',\n",
       "       'cms_zone_id', 'is_expert', 'pos_terminal', 'transport_media_type',\n",
       "       'has_delivery_kit', 'has_uber', 'know_how', 'is_trusted',\n",
       "       'storekeeper_rank_id', 'card_number', 'cashless',\n",
       "       'delivery_kit_is_active', 'terminal_is_active', 'delivery_kit_size',\n",
       "       'pay_schedule_type_id', 'order_level_id', 'city_address_id',\n",
       "       'has_billing_agreement', 'requires_profile_pic', 'Unnamed: 43',\n",
       "       'Unnamed: 44'],\n",
       "      dtype='object')"
      ]
     },
     "execution_count": 5,
     "metadata": {},
     "output_type": "execute_result"
    }
   ],
   "source": [
    "df_datos.columns"
   ]
  },
  {
   "cell_type": "code",
   "execution_count": 6,
   "metadata": {},
   "outputs": [
    {
     "data": {
      "text/plain": [
       "skid                        int64\n",
       "Nombres                    object\n",
       "Apellidos                  object\n",
       "identificacion             object\n",
       "Teléfono                   object\n",
       "E-Mail                     object\n",
       "Dirección                  object\n",
       "Cuentas Bancarias         float64\n",
       "Cuenta Predeterminada      object\n",
       "Cuentas Bancarias copy     object\n",
       "ID                        float64\n",
       "dtype: object"
      ]
     },
     "execution_count": 6,
     "metadata": {},
     "output_type": "execute_result"
    }
   ],
   "source": [
    "df_bd.dtypes"
   ]
  },
  {
   "cell_type": "code",
   "execution_count": 7,
   "metadata": {},
   "outputs": [],
   "source": [
    "df_bd = df_bd.fillna(0)"
   ]
  },
  {
   "cell_type": "code",
   "execution_count": 8,
   "metadata": {},
   "outputs": [],
   "source": [
    "df_ruts = df_bd[df_bd['identificacion'].str.startswith(\"1\", na =False)]"
   ]
  },
  {
   "cell_type": "code",
   "execution_count": 9,
   "metadata": {},
   "outputs": [],
   "source": [
    "df_cuentas2 = df_cuentas.loc[:,['ID','N° de Cuenta']]"
   ]
  },
  {
   "cell_type": "code",
   "execution_count": 10,
   "metadata": {},
   "outputs": [],
   "source": [
    "df_ruts = df_ruts.rename(columns = { 'ID':'ID2','skid':'ID'})"
   ]
  },
  {
   "cell_type": "code",
   "execution_count": 11,
   "metadata": {},
   "outputs": [],
   "source": [
    "df_ruts2 = df_ruts.loc[:,['ID','Nombres','Apellidos','identificacion']]"
   ]
  },
  {
   "cell_type": "code",
   "execution_count": 12,
   "metadata": {},
   "outputs": [],
   "source": [
    "df_merge = pd.merge(df_ruts2, df_cuentas2, how ='inner', on='ID')"
   ]
  },
  {
   "cell_type": "code",
   "execution_count": 13,
   "metadata": {},
   "outputs": [],
   "source": [
    "df_revisar =df_merge[df_merge['N° de Cuenta'].astype(str).str.startswith('1')]"
   ]
  },
  {
   "cell_type": "code",
   "execution_count": 14,
   "metadata": {},
   "outputs": [],
   "source": [
    "df_revisar.to_excel(\"C:/Users/mromo/Desktop/Rappi/Datasets/Casos/Revisar cuentas.xlsx\")"
   ]
  },
  {
   "cell_type": "code",
   "execution_count": null,
   "metadata": {},
   "outputs": [],
   "source": []
  }
 ],
 "metadata": {
  "kernelspec": {
   "display_name": "Python 3",
   "language": "python",
   "name": "python3"
  },
  "language_info": {
   "codemirror_mode": {
    "name": "ipython",
    "version": 3
   },
   "file_extension": ".py",
   "mimetype": "text/x-python",
   "name": "python",
   "nbconvert_exporter": "python",
   "pygments_lexer": "ipython3",
   "version": "3.6.5"
  }
 },
 "nbformat": 4,
 "nbformat_minor": 2
}
