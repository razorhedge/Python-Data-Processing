{
 "cells": [
  {
   "cell_type": "code",
   "execution_count": 1,
   "metadata": {},
   "outputs": [],
   "source": [
    "import pandas as pd\n",
    "import os\n",
    "import numpy as np\n",
    "import matplotlib.pyplot as plt\n",
    "from datetime import *"
   ]
  },
  {
   "cell_type": "code",
   "execution_count": 2,
   "metadata": {},
   "outputs": [
    {
     "name": "stdout",
     "output_type": "stream",
     "text": [
      "Ingrese Semana: 43\n"
     ]
    }
   ],
   "source": [
    "semana = input(\"Ingrese Semana: \")"
   ]
  },
  {
   "cell_type": "code",
   "execution_count": 3,
   "metadata": {},
   "outputs": [],
   "source": [
    "mainpath = \"C:/Users/mromo/Desktop/Rappi/Datasets/S\"+semana+\"/Incentivos S\"+semana\n",
    "files = os.listdir(mainpath)\n",
    "filedir = {}"
   ]
  },
  {
   "cell_type": "code",
   "execution_count": 4,
   "metadata": {},
   "outputs": [
    {
     "data": {
      "text/plain": [
       "['20181022 CL_Incentivo Lunes 12pm a 3pm.xlsx',\n",
       " '20181022 CL_Incentivo Lunes 7pm a 10pm.xlsx',\n",
       " '20181022 CL_Incentivo Lunes 8am a 10.59am.xlsx',\n",
       " '20181023 CL_Incentivo Martes 7pm a 10pm.xlsx',\n",
       " '20181023 CL_Incentivo Martes 8am a 10.59am.xlsx',\n",
       " '20181025 CL_Incentivo Jueves 12pm a 3pm.xlsx',\n",
       " '20181025 CL_Incentivo Jueves 6.30pm a 10pm.xlsx',\n",
       " '20181025 CL_Incentivo Jueves 8am a 10.59am.xlsx',\n",
       " '20181026 CL_Incentivo Viernes 1pm a 3pm.xlsx',\n",
       " '20181026 CL_Incentivo Viernes 7pm a 10pm.xlsx',\n",
       " '20181026 CL_Incentivo Viernes 8am a 10.59am.xlsx',\n",
       " '20181027 CL_Incentivo Sabado 12.05pm a 3pm.xlsx',\n",
       " '20181027 CL_Incentivo Sabado 7pm a 10pm.xlsx',\n",
       " '20181027 CL_Incentivo Sabado 9am 11.59am.xlsx',\n",
       " '20181028 CL_Incentivo Domingo 12pm a 3pm.xlsx',\n",
       " '20181028 Cl_Incentivo Domingo 7pm a 10pm.xlsx',\n",
       " '20181028 CL_Incentivo Domingo 9am a 11.59am.xlsx']"
      ]
     },
     "execution_count": 4,
     "metadata": {},
     "output_type": "execute_result"
    }
   ],
   "source": [
    "files"
   ]
  },
  {
   "cell_type": "code",
   "execution_count": 5,
   "metadata": {},
   "outputs": [],
   "source": [
    "def compensacion(aceptacion, monto, minimo):\n",
    "    if(aceptacion > minimo and aceptacion <0.9):\n",
    "        return monto\n",
    "    else:\n",
    "        return 0"
   ]
  },
  {
   "cell_type": "code",
   "execution_count": 6,
   "metadata": {},
   "outputs": [
    {
     "name": "stdout",
     "output_type": "stream",
     "text": [
      "Cargando Archivo : C:/Users/mromo/Desktop/Rappi/Datasets/S43/Incentivos S43\\20181022 CL_Incentivo Lunes 12pm a 3pm.xlsx\n",
      "Cargando Archivo : C:/Users/mromo/Desktop/Rappi/Datasets/S43/Incentivos S43\\20181022 CL_Incentivo Lunes 7pm a 10pm.xlsx\n",
      "Cargando Archivo : C:/Users/mromo/Desktop/Rappi/Datasets/S43/Incentivos S43\\20181022 CL_Incentivo Lunes 8am a 10.59am.xlsx\n",
      "Cargando Archivo : C:/Users/mromo/Desktop/Rappi/Datasets/S43/Incentivos S43\\20181023 CL_Incentivo Martes 7pm a 10pm.xlsx\n",
      "Cargando Archivo : C:/Users/mromo/Desktop/Rappi/Datasets/S43/Incentivos S43\\20181023 CL_Incentivo Martes 8am a 10.59am.xlsx\n",
      "Cargando Archivo : C:/Users/mromo/Desktop/Rappi/Datasets/S43/Incentivos S43\\20181025 CL_Incentivo Jueves 12pm a 3pm.xlsx\n",
      "Cargando Archivo : C:/Users/mromo/Desktop/Rappi/Datasets/S43/Incentivos S43\\20181025 CL_Incentivo Jueves 6.30pm a 10pm.xlsx\n",
      "Cargando Archivo : C:/Users/mromo/Desktop/Rappi/Datasets/S43/Incentivos S43\\20181025 CL_Incentivo Jueves 8am a 10.59am.xlsx\n",
      "Cargando Archivo : C:/Users/mromo/Desktop/Rappi/Datasets/S43/Incentivos S43\\20181026 CL_Incentivo Viernes 1pm a 3pm.xlsx\n",
      "Cargando Archivo : C:/Users/mromo/Desktop/Rappi/Datasets/S43/Incentivos S43\\20181026 CL_Incentivo Viernes 7pm a 10pm.xlsx\n",
      "Cargando Archivo : C:/Users/mromo/Desktop/Rappi/Datasets/S43/Incentivos S43\\20181026 CL_Incentivo Viernes 8am a 10.59am.xlsx\n",
      "Cargando Archivo : C:/Users/mromo/Desktop/Rappi/Datasets/S43/Incentivos S43\\20181027 CL_Incentivo Sabado 12.05pm a 3pm.xlsx\n",
      "Cargando Archivo : C:/Users/mromo/Desktop/Rappi/Datasets/S43/Incentivos S43\\20181027 CL_Incentivo Sabado 7pm a 10pm.xlsx\n",
      "Cargando Archivo : C:/Users/mromo/Desktop/Rappi/Datasets/S43/Incentivos S43\\20181027 CL_Incentivo Sabado 9am 11.59am.xlsx\n",
      "Cargando Archivo : C:/Users/mromo/Desktop/Rappi/Datasets/S43/Incentivos S43\\20181028 CL_Incentivo Domingo 12pm a 3pm.xlsx\n",
      "Cargando Archivo : C:/Users/mromo/Desktop/Rappi/Datasets/S43/Incentivos S43\\20181028 Cl_Incentivo Domingo 7pm a 10pm.xlsx\n",
      "Cargando Archivo : C:/Users/mromo/Desktop/Rappi/Datasets/S43/Incentivos S43\\20181028 CL_Incentivo Domingo 9am a 11.59am.xlsx\n"
     ]
    }
   ],
   "source": [
    "for x in range(0, len(files)):\n",
    "    fullpath = os.path.join(mainpath,files[x])\n",
    "    print(\"Cargando Archivo : \"+fullpath)\n",
    "    filedir[x] = pd.read_excel(fullpath, sheet_name = \"Resumen\")\n",
    "    filedir[x].insert(0,\"Incentivo\",files[x])"
   ]
  },
  {
   "cell_type": "code",
   "execution_count": 7,
   "metadata": {},
   "outputs": [
    {
     "ename": "TypeError",
     "evalue": "'>' not supported between instances of 'str' and 'float'",
     "output_type": "error",
     "traceback": [
      "\u001b[1;31m---------------------------------------------------------------------------\u001b[0m",
      "\u001b[1;31mTypeError\u001b[0m                                 Traceback (most recent call last)",
      "\u001b[1;32m<ipython-input-7-4da4cb2dbe6e>\u001b[0m in \u001b[0;36m<module>\u001b[1;34m()\u001b[0m\n\u001b[0;32m      1\u001b[0m \u001b[0mdf_inc\u001b[0m \u001b[1;33m=\u001b[0m \u001b[0mpd\u001b[0m\u001b[1;33m.\u001b[0m\u001b[0mconcat\u001b[0m\u001b[1;33m(\u001b[0m\u001b[0mfiledir\u001b[0m\u001b[1;33m,\u001b[0m \u001b[0msort\u001b[0m \u001b[1;33m=\u001b[0m \u001b[1;32mFalse\u001b[0m\u001b[1;33m)\u001b[0m\u001b[1;33m\u001b[0m\u001b[0m\n\u001b[1;32m----> 2\u001b[1;33m \u001b[0mdf_inc\u001b[0m\u001b[1;33m.\u001b[0m\u001b[0minsert\u001b[0m\u001b[1;33m(\u001b[0m\u001b[1;36m13\u001b[0m\u001b[1;33m,\u001b[0m \u001b[1;34m'Compensacion'\u001b[0m\u001b[1;33m,\u001b[0m \u001b[0mdf_inc\u001b[0m\u001b[1;33m[\u001b[0m\u001b[1;34m'Tasa de aceptacion'\u001b[0m\u001b[1;33m]\u001b[0m\u001b[1;33m.\u001b[0m\u001b[0mapply\u001b[0m\u001b[1;33m(\u001b[0m\u001b[1;32mlambda\u001b[0m \u001b[0mx\u001b[0m\u001b[1;33m:\u001b[0m \u001b[0mcompensacion\u001b[0m\u001b[1;33m(\u001b[0m\u001b[0mx\u001b[0m\u001b[1;33m,\u001b[0m\u001b[1;36m5000\u001b[0m\u001b[1;33m,\u001b[0m\u001b[1;36m0.75\u001b[0m\u001b[1;33m)\u001b[0m\u001b[1;33m)\u001b[0m\u001b[1;33m)\u001b[0m\u001b[1;33m\u001b[0m\u001b[0m\n\u001b[0m\u001b[0;32m      3\u001b[0m \u001b[0mdf_inc\u001b[0m\u001b[1;33m[\u001b[0m\u001b[0mdf_inc\u001b[0m\u001b[1;33m[\u001b[0m\u001b[1;34m'Pedidos Calientes'\u001b[0m\u001b[1;33m]\u001b[0m\u001b[1;33m>\u001b[0m\u001b[1;36m5\u001b[0m\u001b[1;33m]\u001b[0m\u001b[1;33m.\u001b[0m\u001b[0mCompensacion\u001b[0m\u001b[1;33m.\u001b[0m\u001b[0msum\u001b[0m\u001b[1;33m(\u001b[0m\u001b[1;33m)\u001b[0m\u001b[1;33m\u001b[0m\u001b[0m\n",
      "\u001b[1;32m~\\Anaconda3\\lib\\site-packages\\pandas\\core\\series.py\u001b[0m in \u001b[0;36mapply\u001b[1;34m(self, func, convert_dtype, args, **kwds)\u001b[0m\n\u001b[0;32m   3190\u001b[0m             \u001b[1;32melse\u001b[0m\u001b[1;33m:\u001b[0m\u001b[1;33m\u001b[0m\u001b[0m\n\u001b[0;32m   3191\u001b[0m                 \u001b[0mvalues\u001b[0m \u001b[1;33m=\u001b[0m \u001b[0mself\u001b[0m\u001b[1;33m.\u001b[0m\u001b[0mastype\u001b[0m\u001b[1;33m(\u001b[0m\u001b[0mobject\u001b[0m\u001b[1;33m)\u001b[0m\u001b[1;33m.\u001b[0m\u001b[0mvalues\u001b[0m\u001b[1;33m\u001b[0m\u001b[0m\n\u001b[1;32m-> 3192\u001b[1;33m                 \u001b[0mmapped\u001b[0m \u001b[1;33m=\u001b[0m \u001b[0mlib\u001b[0m\u001b[1;33m.\u001b[0m\u001b[0mmap_infer\u001b[0m\u001b[1;33m(\u001b[0m\u001b[0mvalues\u001b[0m\u001b[1;33m,\u001b[0m \u001b[0mf\u001b[0m\u001b[1;33m,\u001b[0m \u001b[0mconvert\u001b[0m\u001b[1;33m=\u001b[0m\u001b[0mconvert_dtype\u001b[0m\u001b[1;33m)\u001b[0m\u001b[1;33m\u001b[0m\u001b[0m\n\u001b[0m\u001b[0;32m   3193\u001b[0m \u001b[1;33m\u001b[0m\u001b[0m\n\u001b[0;32m   3194\u001b[0m         \u001b[1;32mif\u001b[0m \u001b[0mlen\u001b[0m\u001b[1;33m(\u001b[0m\u001b[0mmapped\u001b[0m\u001b[1;33m)\u001b[0m \u001b[1;32mand\u001b[0m \u001b[0misinstance\u001b[0m\u001b[1;33m(\u001b[0m\u001b[0mmapped\u001b[0m\u001b[1;33m[\u001b[0m\u001b[1;36m0\u001b[0m\u001b[1;33m]\u001b[0m\u001b[1;33m,\u001b[0m \u001b[0mSeries\u001b[0m\u001b[1;33m)\u001b[0m\u001b[1;33m:\u001b[0m\u001b[1;33m\u001b[0m\u001b[0m\n",
      "\u001b[1;32mpandas/_libs/src\\inference.pyx\u001b[0m in \u001b[0;36mpandas._libs.lib.map_infer\u001b[1;34m()\u001b[0m\n",
      "\u001b[1;32m<ipython-input-7-4da4cb2dbe6e>\u001b[0m in \u001b[0;36m<lambda>\u001b[1;34m(x)\u001b[0m\n\u001b[0;32m      1\u001b[0m \u001b[0mdf_inc\u001b[0m \u001b[1;33m=\u001b[0m \u001b[0mpd\u001b[0m\u001b[1;33m.\u001b[0m\u001b[0mconcat\u001b[0m\u001b[1;33m(\u001b[0m\u001b[0mfiledir\u001b[0m\u001b[1;33m,\u001b[0m \u001b[0msort\u001b[0m \u001b[1;33m=\u001b[0m \u001b[1;32mFalse\u001b[0m\u001b[1;33m)\u001b[0m\u001b[1;33m\u001b[0m\u001b[0m\n\u001b[1;32m----> 2\u001b[1;33m \u001b[0mdf_inc\u001b[0m\u001b[1;33m.\u001b[0m\u001b[0minsert\u001b[0m\u001b[1;33m(\u001b[0m\u001b[1;36m13\u001b[0m\u001b[1;33m,\u001b[0m \u001b[1;34m'Compensacion'\u001b[0m\u001b[1;33m,\u001b[0m \u001b[0mdf_inc\u001b[0m\u001b[1;33m[\u001b[0m\u001b[1;34m'Tasa de aceptacion'\u001b[0m\u001b[1;33m]\u001b[0m\u001b[1;33m.\u001b[0m\u001b[0mapply\u001b[0m\u001b[1;33m(\u001b[0m\u001b[1;32mlambda\u001b[0m \u001b[0mx\u001b[0m\u001b[1;33m:\u001b[0m \u001b[0mcompensacion\u001b[0m\u001b[1;33m(\u001b[0m\u001b[0mx\u001b[0m\u001b[1;33m,\u001b[0m\u001b[1;36m5000\u001b[0m\u001b[1;33m,\u001b[0m\u001b[1;36m0.75\u001b[0m\u001b[1;33m)\u001b[0m\u001b[1;33m)\u001b[0m\u001b[1;33m)\u001b[0m\u001b[1;33m\u001b[0m\u001b[0m\n\u001b[0m\u001b[0;32m      3\u001b[0m \u001b[0mdf_inc\u001b[0m\u001b[1;33m[\u001b[0m\u001b[0mdf_inc\u001b[0m\u001b[1;33m[\u001b[0m\u001b[1;34m'Pedidos Calientes'\u001b[0m\u001b[1;33m]\u001b[0m\u001b[1;33m>\u001b[0m\u001b[1;36m5\u001b[0m\u001b[1;33m]\u001b[0m\u001b[1;33m.\u001b[0m\u001b[0mCompensacion\u001b[0m\u001b[1;33m.\u001b[0m\u001b[0msum\u001b[0m\u001b[1;33m(\u001b[0m\u001b[1;33m)\u001b[0m\u001b[1;33m\u001b[0m\u001b[0m\n",
      "\u001b[1;32m<ipython-input-5-58dd2a374c9a>\u001b[0m in \u001b[0;36mcompensacion\u001b[1;34m(aceptacion, monto, minimo)\u001b[0m\n\u001b[0;32m      1\u001b[0m \u001b[1;32mdef\u001b[0m \u001b[0mcompensacion\u001b[0m\u001b[1;33m(\u001b[0m\u001b[0maceptacion\u001b[0m\u001b[1;33m,\u001b[0m \u001b[0mmonto\u001b[0m\u001b[1;33m,\u001b[0m \u001b[0mminimo\u001b[0m\u001b[1;33m)\u001b[0m\u001b[1;33m:\u001b[0m\u001b[1;33m\u001b[0m\u001b[0m\n\u001b[1;32m----> 2\u001b[1;33m     \u001b[1;32mif\u001b[0m\u001b[1;33m(\u001b[0m\u001b[0maceptacion\u001b[0m \u001b[1;33m>\u001b[0m \u001b[0mminimo\u001b[0m \u001b[1;32mand\u001b[0m \u001b[0maceptacion\u001b[0m \u001b[1;33m<\u001b[0m\u001b[1;36m0.9\u001b[0m\u001b[1;33m)\u001b[0m\u001b[1;33m:\u001b[0m\u001b[1;33m\u001b[0m\u001b[0m\n\u001b[0m\u001b[0;32m      3\u001b[0m         \u001b[1;32mreturn\u001b[0m \u001b[0mmonto\u001b[0m\u001b[1;33m\u001b[0m\u001b[0m\n\u001b[0;32m      4\u001b[0m     \u001b[1;32melse\u001b[0m\u001b[1;33m:\u001b[0m\u001b[1;33m\u001b[0m\u001b[0m\n\u001b[0;32m      5\u001b[0m         \u001b[1;32mreturn\u001b[0m \u001b[1;36m0\u001b[0m\u001b[1;33m\u001b[0m\u001b[0m\n",
      "\u001b[1;31mTypeError\u001b[0m: '>' not supported between instances of 'str' and 'float'"
     ]
    }
   ],
   "source": [
    "df_inc = pd.concat(filedir, sort = False)\n",
    "df_inc.insert(13, 'Compensacion', df_inc['Tasa de aceptacion'].apply(lambda x: compensacion(x,5000,0.75)))\n",
    "df_inc[df_inc['Pedidos Calientes']>5].Compensacion.sum()"
   ]
  },
  {
   "cell_type": "code",
   "execution_count": null,
   "metadata": {},
   "outputs": [],
   "source": [
    "df_inc.to_excel(mainpath + \" - Resumen.xlsx\")"
   ]
  },
  {
   "cell_type": "code",
   "execution_count": null,
   "metadata": {},
   "outputs": [],
   "source": [
    "df_inc.head()"
   ]
  },
  {
   "cell_type": "code",
   "execution_count": null,
   "metadata": {},
   "outputs": [],
   "source": [
    "filedir[0]"
   ]
  },
  {
   "cell_type": "code",
   "execution_count": null,
   "metadata": {},
   "outputs": [],
   "source": [
    "x = df_inc['SKID'].count()\n",
    "y = int(np.ceil(1+np.log2(x)))\n",
    "plt.boxplot(df_inc['Tasa de aceptacion'].astype(float))\n",
    "plt.ylabel(\"Tasa de Aceptacion\")\n",
    "plt.title(\"Tasa de Aceptacion Incentivos\")\n",
    "df_inc['Tasa de aceptacion'].describe()"
   ]
  },
  {
   "cell_type": "code",
   "execution_count": null,
   "metadata": {},
   "outputs": [],
   "source": []
  },
  {
   "cell_type": "code",
   "execution_count": null,
   "metadata": {},
   "outputs": [],
   "source": []
  }
 ],
 "metadata": {
  "kernelspec": {
   "display_name": "Python 3",
   "language": "python",
   "name": "python3"
  },
  "language_info": {
   "codemirror_mode": {
    "name": "ipython",
    "version": 3
   },
   "file_extension": ".py",
   "mimetype": "text/x-python",
   "name": "python",
   "nbconvert_exporter": "python",
   "pygments_lexer": "ipython3",
   "version": "3.6.5"
  }
 },
 "nbformat": 4,
 "nbformat_minor": 2
}
