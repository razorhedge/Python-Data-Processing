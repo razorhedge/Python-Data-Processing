{
 "cells": [
  {
   "cell_type": "code",
   "execution_count": 1,
   "metadata": {},
   "outputs": [],
   "source": [
    "import pandas as pd\n",
    "import numpy as np\n",
    "import os\n",
    "from datetime import datetime"
   ]
  },
  {
   "cell_type": "code",
   "execution_count": 2,
   "metadata": {},
   "outputs": [
    {
     "name": "stdout",
     "output_type": "stream",
     "text": [
      "Ingrese Semana:42\n"
     ]
    }
   ],
   "source": [
    "semana = input(\"Ingrese Semana:\")"
   ]
  },
  {
   "cell_type": "code",
   "execution_count": 3,
   "metadata": {},
   "outputs": [],
   "source": [
    "mainpath = \"C:/Users/mromo/Desktop/Rappi/Datasets/S\"+semana+\"/Data\"\n",
    "ganancias_path = \"Detalle Ganancia S\"+semana+\".csv\"\n",
    "deuda_path = \"Detalle Deuda S\"+semana+\".csv\"\n",
    "garantias_path = \"Garantias Turnos.xlsx\"\n",
    "conexion_path = \"Info Conexion.csv\"\n",
    "ordenes_path = \"Detalle Ordenes S\"+semana+\".csv\"\n",
    "\n",
    "fp_earn = os.path.join(mainpath,ganancias_path)\n",
    "fp_debt = os.path.join(mainpath,deuda_path)\n",
    "fp_garantias = os.path.join(mainpath,garantias_path)\n",
    "fp_conexion = os.path.join(mainpath,conexion_path)\n",
    "fp_ordenes = os.path.join(mainpath,ordenes_path)"
   ]
  },
  {
   "cell_type": "code",
   "execution_count": 4,
   "metadata": {},
   "outputs": [],
   "source": [
    "df_ganancia = pd.read_csv(fp_earn, parse_dates = ['created_at'])\n",
    "df_conexion = pd.read_csv(fp_conexion, parse_dates = ['fecha'])\n",
    "df_ldam = pd.read_excel(fp_garantias, sheet_name = \"La Dehesa AM\")\n",
    "df_ldpm = pd.read_excel(fp_garantias, sheet_name = \"La Dehesa PM\")\n",
    "df_autos = pd.read_excel(fp_garantias, sheet_name = \"Autos\")\n",
    "df_vina = pd.read_excel(fp_garantias, sheet_name = \"Viña\")\n",
    "df_ordenes = pd.read_csv(fp_ordenes, parse_dates = ['CREATED_AT'])"
   ]
  },
  {
   "cell_type": "code",
   "execution_count": 5,
   "metadata": {},
   "outputs": [],
   "source": [
    "ldam = df_ldam['ID'].tolist()\n",
    "ldpm = df_ldpm['ID'].tolist()\n",
    "autos = df_autos['ID'].tolist()\n",
    "vina = df_vina['ID'].tolist()"
   ]
  },
  {
   "cell_type": "code",
   "execution_count": 6,
   "metadata": {},
   "outputs": [],
   "source": [
    "rts_gar = ldam + ldpm\n",
    "rts_gar = rts_gar + autos\n",
    "rts_gar = rts_gar + vina\n",
    "ld = ldam + ldpm"
   ]
  },
  {
   "cell_type": "code",
   "execution_count": 7,
   "metadata": {
    "scrolled": true
   },
   "outputs": [],
   "source": [
    "df_conexion = df_conexion[df_conexion['skid'].isin(rts_gar)]"
   ]
  },
  {
   "cell_type": "code",
   "execution_count": 8,
   "metadata": {},
   "outputs": [],
   "source": [
    "def calculoGarantia(tiempo, valor):\n",
    "    if(tiempo >= 30):\n",
    "        return valor"
   ]
  },
  {
   "cell_type": "code",
   "execution_count": 9,
   "metadata": {},
   "outputs": [],
   "source": [
    "def garantiasHorarias(df_conexion, horaA, horaC, dias, lista, valor):\n",
    "    dft1 = df_conexion[df_conexion['hora']>=horaA]\n",
    "    dft1 = dft1[dft1['hora']<horaC]\n",
    "    dft1.insert(2,'Dia',dft1['fecha'].apply(lambda x: x.strftime(\"%w\")))\n",
    "    dft1 = dft1[dft1['skid'].isin(lista)]\n",
    "    dft1 = dft1[dft1['Dia'].astype(int).isin(dias)]\n",
    "    dft1.insert(8, \"Garantia\", dft1['time'].apply(lambda x: calculoGarantia(x,valor)))\n",
    "    dft1 = dft1.fillna(0)\n",
    "    dft1 = dft1.groupby(['skid','fecha','Dia']).sum().reset_index()\n",
    "    dft1.insert(8,'Garantia Efectiva',np.maximum(0,dft1.Garantia-dft1.ganancia))\n",
    "    return dft1"
   ]
  },
  {
   "cell_type": "code",
   "execution_count": 10,
   "metadata": {},
   "outputs": [
    {
     "data": {
      "text/html": [
       "<div>\n",
       "<style scoped>\n",
       "    .dataframe tbody tr th:only-of-type {\n",
       "        vertical-align: middle;\n",
       "    }\n",
       "\n",
       "    .dataframe tbody tr th {\n",
       "        vertical-align: top;\n",
       "    }\n",
       "\n",
       "    .dataframe thead th {\n",
       "        text-align: right;\n",
       "    }\n",
       "</style>\n",
       "<table border=\"1\" class=\"dataframe\">\n",
       "  <thead>\n",
       "    <tr style=\"text-align: right;\">\n",
       "      <th></th>\n",
       "      <th>STOREKEEPER_ID</th>\n",
       "      <th>CREATED_AT</th>\n",
       "      <th>NAME</th>\n",
       "      <th>MODEL_ID</th>\n",
       "      <th>ADDRESS</th>\n",
       "      <th>VERTICAL</th>\n",
       "      <th>TOTAL</th>\n",
       "      <th>DESCRIPTION</th>\n",
       "    </tr>\n",
       "  </thead>\n",
       "  <tbody>\n",
       "    <tr>\n",
       "      <th>0</th>\n",
       "      <td>10042</td>\n",
       "      <td>2018-10-19 23:03:52.871</td>\n",
       "      <td>service_cost</td>\n",
       "      <td>332858</td>\n",
       "      <td>Marín 145</td>\n",
       "      <td>restaurantes</td>\n",
       "      <td>2400.0</td>\n",
       "      <td>NaN</td>\n",
       "    </tr>\n",
       "    <tr>\n",
       "      <th>1</th>\n",
       "      <td>10042</td>\n",
       "      <td>2018-10-19 23:03:52.871</td>\n",
       "      <td>service_cost</td>\n",
       "      <td>332858</td>\n",
       "      <td>Marín 145</td>\n",
       "      <td>restaurantes</td>\n",
       "      <td>2400.0</td>\n",
       "      <td>NaN</td>\n",
       "    </tr>\n",
       "    <tr>\n",
       "      <th>2</th>\n",
       "      <td>10042</td>\n",
       "      <td>2018-10-19 23:03:52.871</td>\n",
       "      <td>service_cost</td>\n",
       "      <td>332858</td>\n",
       "      <td>Marín 145</td>\n",
       "      <td>restaurantes</td>\n",
       "      <td>2400.0</td>\n",
       "      <td>NaN</td>\n",
       "    </tr>\n",
       "    <tr>\n",
       "      <th>3</th>\n",
       "      <td>10042</td>\n",
       "      <td>2018-10-19 23:03:52.871</td>\n",
       "      <td>service_cost</td>\n",
       "      <td>332858</td>\n",
       "      <td>Marín 145</td>\n",
       "      <td>restaurantes</td>\n",
       "      <td>2400.0</td>\n",
       "      <td>NaN</td>\n",
       "    </tr>\n",
       "    <tr>\n",
       "      <th>4</th>\n",
       "      <td>10042</td>\n",
       "      <td>2018-10-19 23:03:52.891</td>\n",
       "      <td>surcharge_paid_for_rappi</td>\n",
       "      <td>332858</td>\n",
       "      <td>Marín 145</td>\n",
       "      <td>restaurantes</td>\n",
       "      <td>525.0</td>\n",
       "      <td>NaN</td>\n",
       "    </tr>\n",
       "  </tbody>\n",
       "</table>\n",
       "</div>"
      ],
      "text/plain": [
       "   STOREKEEPER_ID              CREATED_AT                      NAME  MODEL_ID  \\\n",
       "0           10042 2018-10-19 23:03:52.871              service_cost    332858   \n",
       "1           10042 2018-10-19 23:03:52.871              service_cost    332858   \n",
       "2           10042 2018-10-19 23:03:52.871              service_cost    332858   \n",
       "3           10042 2018-10-19 23:03:52.871              service_cost    332858   \n",
       "4           10042 2018-10-19 23:03:52.891  surcharge_paid_for_rappi    332858   \n",
       "\n",
       "     ADDRESS      VERTICAL   TOTAL  DESCRIPTION  \n",
       "0  Marín 145  restaurantes  2400.0          NaN  \n",
       "1  Marín 145  restaurantes  2400.0          NaN  \n",
       "2  Marín 145  restaurantes  2400.0          NaN  \n",
       "3  Marín 145  restaurantes  2400.0          NaN  \n",
       "4  Marín 145  restaurantes   525.0          NaN  "
      ]
     },
     "execution_count": 10,
     "metadata": {},
     "output_type": "execute_result"
    }
   ],
   "source": [
    "df_ordenes.head()"
   ]
  },
  {
   "cell_type": "code",
   "execution_count": 11,
   "metadata": {},
   "outputs": [],
   "source": [
    "df_ganancia.insert(2,'fecha',df_ganancia['created_at'].apply(lambda x: x.strftime(\"%Y-%M-%d\")))\n",
    "df_ganancia.insert(3,'hora',df_ganancia['created_at'].apply(lambda x: x.strftime(\"%H\")))\n",
    "df_ganancia = df_ganancia.rename(columns ={'storekeeper_id':'skid'})"
   ]
  },
  {
   "cell_type": "code",
   "execution_count": 12,
   "metadata": {
    "scrolled": true
   },
   "outputs": [
    {
     "data": {
      "text/html": [
       "<div>\n",
       "<style scoped>\n",
       "    .dataframe tbody tr th:only-of-type {\n",
       "        vertical-align: middle;\n",
       "    }\n",
       "\n",
       "    .dataframe tbody tr th {\n",
       "        vertical-align: top;\n",
       "    }\n",
       "\n",
       "    .dataframe thead th {\n",
       "        text-align: right;\n",
       "    }\n",
       "</style>\n",
       "<table border=\"1\" class=\"dataframe\">\n",
       "  <thead>\n",
       "    <tr style=\"text-align: right;\">\n",
       "      <th></th>\n",
       "      <th>skid</th>\n",
       "      <th>created_at</th>\n",
       "      <th>fecha</th>\n",
       "      <th>hora</th>\n",
       "      <th>name</th>\n",
       "      <th>model_id</th>\n",
       "      <th>total</th>\n",
       "      <th>description</th>\n",
       "    </tr>\n",
       "  </thead>\n",
       "  <tbody>\n",
       "    <tr>\n",
       "      <th>0</th>\n",
       "      <td>10042</td>\n",
       "      <td>2018-10-19 23:03:52.871</td>\n",
       "      <td>2018-03-19</td>\n",
       "      <td>23</td>\n",
       "      <td>service_cost</td>\n",
       "      <td>332858</td>\n",
       "      <td>2400.0</td>\n",
       "      <td>NaN</td>\n",
       "    </tr>\n",
       "    <tr>\n",
       "      <th>1</th>\n",
       "      <td>10042</td>\n",
       "      <td>2018-10-19 23:03:52.891</td>\n",
       "      <td>2018-03-19</td>\n",
       "      <td>23</td>\n",
       "      <td>surcharge_paid_for_rappi</td>\n",
       "      <td>332858</td>\n",
       "      <td>525.0</td>\n",
       "      <td>NaN</td>\n",
       "    </tr>\n",
       "    <tr>\n",
       "      <th>2</th>\n",
       "      <td>10042</td>\n",
       "      <td>2018-10-19 23:42:51.978</td>\n",
       "      <td>2018-42-19</td>\n",
       "      <td>23</td>\n",
       "      <td>service_cost</td>\n",
       "      <td>333059</td>\n",
       "      <td>2400.0</td>\n",
       "      <td>NaN</td>\n",
       "    </tr>\n",
       "    <tr>\n",
       "      <th>3</th>\n",
       "      <td>10042</td>\n",
       "      <td>2018-10-19 23:42:51.992</td>\n",
       "      <td>2018-42-19</td>\n",
       "      <td>23</td>\n",
       "      <td>tip</td>\n",
       "      <td>333059</td>\n",
       "      <td>500.0</td>\n",
       "      <td>NaN</td>\n",
       "    </tr>\n",
       "    <tr>\n",
       "      <th>4</th>\n",
       "      <td>10042</td>\n",
       "      <td>2018-10-19 23:42:52.006</td>\n",
       "      <td>2018-42-19</td>\n",
       "      <td>23</td>\n",
       "      <td>surcharge_paid_for_rappi</td>\n",
       "      <td>333059</td>\n",
       "      <td>575.0</td>\n",
       "      <td>NaN</td>\n",
       "    </tr>\n",
       "  </tbody>\n",
       "</table>\n",
       "</div>"
      ],
      "text/plain": [
       "    skid              created_at       fecha hora                      name  \\\n",
       "0  10042 2018-10-19 23:03:52.871  2018-03-19   23              service_cost   \n",
       "1  10042 2018-10-19 23:03:52.891  2018-03-19   23  surcharge_paid_for_rappi   \n",
       "2  10042 2018-10-19 23:42:51.978  2018-42-19   23              service_cost   \n",
       "3  10042 2018-10-19 23:42:51.992  2018-42-19   23                       tip   \n",
       "4  10042 2018-10-19 23:42:52.006  2018-42-19   23  surcharge_paid_for_rappi   \n",
       "\n",
       "   model_id   total description  \n",
       "0    332858  2400.0         NaN  \n",
       "1    332858   525.0         NaN  \n",
       "2    333059  2400.0         NaN  \n",
       "3    333059   500.0         NaN  \n",
       "4    333059   575.0         NaN  "
      ]
     },
     "execution_count": 12,
     "metadata": {},
     "output_type": "execute_result"
    }
   ],
   "source": [
    "df_ganancia.head()"
   ]
  },
  {
   "cell_type": "code",
   "execution_count": 13,
   "metadata": {},
   "outputs": [],
   "source": [
    "df_ganancia['hora'] = df_ganancia['hora'].apply(lambda x: int(x))"
   ]
  },
  {
   "cell_type": "code",
   "execution_count": 14,
   "metadata": {},
   "outputs": [],
   "source": [
    "#Garantia la Dehesa 9 a 9, Lunes a Domingo\n",
    "dft1 = df_conexion[df_conexion['hora']>8] \n",
    "dft1 = dft1[dft1['hora']<22]\n",
    "dft1.insert(2,'Dia',dft1['fecha'].apply(lambda x: x.strftime(\"%w\")))\n",
    "dft_autos1 = dft1[dft1['Dia'].astype(int)==6]\n",
    "dft_autos1 = dft_autos1[dft_autos1['skid'].isin(autos)]\n",
    "dft_vina = dft1[dft1['skid'].isin(vina)]\n",
    "dft1 = dft1[dft1['skid'].isin(ldam)]\n",
    "dft1.insert(8, \"Garantia\", dft1['time'].apply(lambda x: calculoGarantia(x,2800)))\n",
    "dft1 = dft1.fillna(0)"
   ]
  },
  {
   "cell_type": "code",
   "execution_count": 15,
   "metadata": {},
   "outputs": [],
   "source": [
    "dft1 = dft1.groupby(['skid','fecha','Dia']).sum().reset_index()\n",
    "dft1.insert(8,'Garantia Efectiva',np.maximum(0,dft1.Garantia-dft1.ganancia))"
   ]
  },
  {
   "cell_type": "code",
   "execution_count": 16,
   "metadata": {},
   "outputs": [],
   "source": [
    "#Garantia la Dehesa 9 a 9, Lunes a Domingo\n",
    "dias = [0,1,2,3,4,5,6]\n",
    "dft_ldam = garantiasHorarias(df_conexion,9,21, dias, ldam, 2800)"
   ]
  },
  {
   "cell_type": "code",
   "execution_count": 17,
   "metadata": {},
   "outputs": [],
   "source": [
    "dft_vina.insert(8, \"Garantia\", dft_vina['time'].apply(lambda x: calculoGarantia(x,2800)))\n",
    "dft_vina = dft_vina.groupby(['skid','fecha','Dia']).sum().reset_index()\n",
    "dft_vina.insert(8,'Garantia Efectiva', np.minimum(25200,dft_vina.Garantia-dft_vina.ganancia))"
   ]
  },
  {
   "cell_type": "code",
   "execution_count": 18,
   "metadata": {},
   "outputs": [],
   "source": [
    "dft_vResumen = dft_vina.groupby('skid').sum()"
   ]
  },
  {
   "cell_type": "code",
   "execution_count": 19,
   "metadata": {},
   "outputs": [],
   "source": [
    "#Garantia la dehesa 12 a 12, Lunes a Jueves y Domingo\n",
    "dft2 = df_conexion[df_conexion['hora']>11]\n",
    "dft2 = dft2[dft2['hora']<24]\n",
    "dft2.insert(2,'Dia',dft2['fecha'].apply(lambda x: x.strftime(\"%w\")))\n",
    "dft2.drop((dft2['Dia'].astype(int)==5).index)\n",
    "dft2.drop((dft2['Dia'].astype(int)==6).index)\n",
    "dft2 = dft2[dft2['skid'].isin(ldpm)]\n",
    "dft2.insert(8, \"Garantia\", dft2['time'].apply(lambda x: calculoGarantia(x,2800)))\n",
    "dft2 = dft2.fillna(0)\n",
    "dft2 = dft2.groupby(['skid','fecha','Dia']).sum().reset_index()\n",
    "dft2.insert(8,'Garantia Efectiva',np.maximum(0,dft2.Garantia-dft2.ganancia))"
   ]
  },
  {
   "cell_type": "code",
   "execution_count": 20,
   "metadata": {
    "scrolled": true
   },
   "outputs": [],
   "source": [
    "#Garantia la dehesa 15 a 3, Viernes y Sabado\n",
    "dft4 = df_conexion[df_conexion['hora']>14] \n",
    "dft5 = dft4[dft4['hora']<3] \n",
    "dft6 = pd.merge(dft4,dft5,how = 'outer', on=['skid', 'fecha','hora','time', 'orders', 'ganancia', 'tenia_cupo'])\n",
    "dft6 = dft6.fillna(0)\n",
    "dft6.insert(2,'Dia',dft6['fecha'].apply(lambda x: x.strftime(\"%w\")))\n",
    "dfdummy1 = dft6[dft6['Dia'].astype(int)==4]\n",
    "dfdummy2 = dft6[dft6['Dia'].astype(int)==5]\n",
    "dft10 = pd.merge(dfdummy1, dfdummy2, how = 'outer', on=['skid', 'fecha','hora','time', 'orders', 'ganancia', 'tenia_cupo','Dia'])\n",
    "dft10 = dft10[dft10['skid'].isin(ldpm)]\n",
    "dft10.insert(8, \"Garantia\", dft10['time'].apply(lambda x: calculoGarantia(x,2800)))"
   ]
  },
  {
   "cell_type": "code",
   "execution_count": 21,
   "metadata": {},
   "outputs": [],
   "source": [
    "dft10 = dft10.groupby(['skid','fecha','Dia']).sum().reset_index()\n",
    "dft10.insert(8,'Garantia Efectiva', np.maximum(0,dft10.Garantia-dft10.ganancia))"
   ]
  },
  {
   "cell_type": "code",
   "execution_count": 22,
   "metadata": {},
   "outputs": [],
   "source": [
    "#Garantia la Dehesa 12 a 12, Lunes a Jueves y Domingo y 15 a 3, Viernes y Sabado\n",
    "dias = [0,1,2,3,4]\n",
    "df_ldpm1 = garantiasHorarias(df_conexion, 12, 24, dias, ldpm, 2800)\n",
    "df_ldpm2 = garantiasHorarias(df_conexion, 12, 24, [5,6], ldpm, 2800)\n",
    "dft_ldpm = pd.merge(df_ldpm1, df_ldpm2, how='outer', on=df_ldpm1.columns.tolist())"
   ]
  },
  {
   "cell_type": "code",
   "execution_count": 23,
   "metadata": {
    "scrolled": true
   },
   "outputs": [],
   "source": [
    "#Garantia 10 a 10, Autos Domingo\n",
    "dft3 = df_conexion[df_conexion['hora']>9] \n",
    "dft3 = dft3[dft3['hora']<22] \n",
    "dft3 = dft3.fillna(0)\n",
    "dft3.insert(2,'Dia',dft3['fecha'].apply(lambda x: x.strftime(\"%w\")))\n",
    "dft_autos2 = dft3[dft3['Dia'].astype(int)==0]\n",
    "dft_autos2 = dft_autos2[dft_autos2['skid'].isin(autos)]\n",
    "dft_autos = pd.merge(dft_autos1, dft_autos2, how = 'outer', on = dft_autos1.columns.tolist())"
   ]
  },
  {
   "cell_type": "code",
   "execution_count": 24,
   "metadata": {},
   "outputs": [],
   "source": [
    "dft_autos = dft_autos.groupby(['skid','fecha','Dia']).sum().reset_index()\n",
    "dft_autos.insert(7,'Garantia Efectiva', 40000-dft_autos.ganancia)"
   ]
  },
  {
   "cell_type": "code",
   "execution_count": 25,
   "metadata": {},
   "outputs": [],
   "source": [
    "df_ordLD = df_ordenes[df_ordenes['STOREKEEPER_ID'].isin(ld)]\n",
    "df_ordLD = df_ordLD[df_ordLD['NAME']=='service_cost']\n",
    "df_ordLD = df_ordLD.groupby(['STOREKEEPER_ID','MODEL_ID', 'NAME', 'ADDRESS','CREATED_AT']).sum()"
   ]
  },
  {
   "cell_type": "code",
   "execution_count": 26,
   "metadata": {},
   "outputs": [
    {
     "data": {
      "text/html": [
       "<div>\n",
       "<style scoped>\n",
       "    .dataframe tbody tr th:only-of-type {\n",
       "        vertical-align: middle;\n",
       "    }\n",
       "\n",
       "    .dataframe tbody tr th {\n",
       "        vertical-align: top;\n",
       "    }\n",
       "\n",
       "    .dataframe thead th {\n",
       "        text-align: right;\n",
       "    }\n",
       "</style>\n",
       "<table border=\"1\" class=\"dataframe\">\n",
       "  <thead>\n",
       "    <tr style=\"text-align: right;\">\n",
       "      <th></th>\n",
       "      <th>skid</th>\n",
       "      <th>fecha</th>\n",
       "      <th>Dia</th>\n",
       "      <th>hora</th>\n",
       "      <th>time</th>\n",
       "      <th>orders</th>\n",
       "      <th>ganancia</th>\n",
       "      <th>Garantia</th>\n",
       "      <th>Garantia Efectiva</th>\n",
       "    </tr>\n",
       "  </thead>\n",
       "  <tbody>\n",
       "    <tr>\n",
       "      <th>0</th>\n",
       "      <td>11956</td>\n",
       "      <td>2018-10-21</td>\n",
       "      <td>0</td>\n",
       "      <td>186</td>\n",
       "      <td>691.466667</td>\n",
       "      <td>12.0</td>\n",
       "      <td>25200.0</td>\n",
       "      <td>40008</td>\n",
       "      <td>14808.0</td>\n",
       "    </tr>\n",
       "  </tbody>\n",
       "</table>\n",
       "</div>"
      ],
      "text/plain": [
       "    skid      fecha Dia  hora        time  orders  ganancia  Garantia  \\\n",
       "0  11956 2018-10-21   0   186  691.466667    12.0   25200.0     40008   \n",
       "\n",
       "   Garantia Efectiva  \n",
       "0            14808.0  "
      ]
     },
     "execution_count": 26,
     "metadata": {},
     "output_type": "execute_result"
    }
   ],
   "source": [
    "#Garantia 10 a 10 Domingo y 9 a 9 Sabado Autos\n",
    "df_autos1 = garantiasHorarias(df_conexion, 9, 21, [6], autos, 3334)\n",
    "df_autos2 = garantiasHorarias(df_conexion, 10, 22, [0], autos, 3334)\n",
    "df_autos = pd.merge(df_autos1, df_autos2, how = 'outer', on = df_autos1.columns.tolist())\n",
    "df_autos2"
   ]
  },
  {
   "cell_type": "code",
   "execution_count": 27,
   "metadata": {},
   "outputs": [],
   "source": [
    "#Garantias Viña 3 Turnos\n",
    "dias = [0,1,2,3,4,5,6]\n",
    "dft_vina1 = garantiasHorarias(df_conexion,11,23, dias, vina, 2800)"
   ]
  },
  {
   "cell_type": "code",
   "execution_count": 28,
   "metadata": {},
   "outputs": [
    {
     "name": "stdout",
     "output_type": "stream",
     "text": [
      "Garantias Calculadas en C:/Users/mromo/Desktop/Rappi/Datasets/S42/Garantias S42.xlsx\n"
     ]
    }
   ],
   "source": [
    "writer = pd.ExcelWriter('C:/Users/mromo/Desktop/Rappi/Datasets/S'+semana+'/Garantias S'+semana+'.xlsx')\n",
    "dft1.to_excel(writer,'Garantia Dehesa 9-9')\n",
    "dft2.to_excel(writer,'Garantia Dehesa PM 12-24')\n",
    "dft10.to_excel(writer,'Garantia Dehesa PM 15 a 3')\n",
    "dft_autos.to_excel(writer,'Garantias Autos')\n",
    "dft_vina.to_excel(writer,'Garantias Viña')\n",
    "writer.save()\n",
    "writer.close()\n",
    "print(\"Garantias Calculadas en C:/Users/mromo/Desktop/Rappi/Datasets/S\"+semana+\"/Garantias S\"+semana+\".xlsx\")"
   ]
  },
  {
   "cell_type": "code",
   "execution_count": 29,
   "metadata": {},
   "outputs": [
    {
     "name": "stdout",
     "output_type": "stream",
     "text": [
      "Garantias Calculadas en C:/Users/mromo/Desktop/Rappi/Datasets/S42/Garantias S42 v2.xlsx\n"
     ]
    }
   ],
   "source": [
    "writer = pd.ExcelWriter('C:/Users/mromo/Desktop/Rappi/Datasets/S'+semana+'/Garantias S'+semana+' v2.xlsx')\n",
    "dft_ldam.to_excel(writer,'Garantia Dehesa AM')\n",
    "dft_ldpm.to_excel(writer,'Garantia Dehesa PM')\n",
    "df_autos.to_excel(writer,'Garantia Autos')\n",
    "dft_vina.to_excel(writer,'Garantias Viña')\n",
    "writer.save()\n",
    "writer.close()\n",
    "print(\"Garantias Calculadas en C:/Users/mromo/Desktop/Rappi/Datasets/S\"+semana+\"/Garantias S\"+semana+\" v2.xlsx\")"
   ]
  },
  {
   "cell_type": "code",
   "execution_count": 30,
   "metadata": {},
   "outputs": [],
   "source": [
    "df_ordLD.to_excel('C:/Users/mromo/Desktop/Rappi/Datasets/S'+semana+'/Ordenes LD S'+semana+'.xlsx')"
   ]
  },
  {
   "cell_type": "code",
   "execution_count": null,
   "metadata": {},
   "outputs": [],
   "source": []
  }
 ],
 "metadata": {
  "kernelspec": {
   "display_name": "Python 3",
   "language": "python",
   "name": "python3"
  },
  "language_info": {
   "codemirror_mode": {
    "name": "ipython",
    "version": 3
   },
   "file_extension": ".py",
   "mimetype": "text/x-python",
   "name": "python",
   "nbconvert_exporter": "python",
   "pygments_lexer": "ipython3",
   "version": "3.6.5"
  }
 },
 "nbformat": 4,
 "nbformat_minor": 2
}
