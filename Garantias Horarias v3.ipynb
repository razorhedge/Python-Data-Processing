{
 "cells": [
  {
   "cell_type": "code",
   "execution_count": 1,
   "metadata": {},
   "outputs": [],
   "source": [
    "import pandas as pd\n",
    "import numpy as np\n",
    "import os\n",
    "from datetime import datetime"
   ]
  },
  {
   "cell_type": "code",
   "execution_count": 2,
   "metadata": {},
   "outputs": [
    {
     "name": "stdout",
     "output_type": "stream",
     "text": [
      "Ingrese Semana:43\n"
     ]
    }
   ],
   "source": [
    "semana = input(\"Ingrese Semana:\")"
   ]
  },
  {
   "cell_type": "code",
   "execution_count": 3,
   "metadata": {},
   "outputs": [],
   "source": [
    "mainpath = \"C:/Users/mromo/Desktop/Rappi/Datasets/S\"+semana+\"/Data\"\n",
    "ganancias_path = \"Detalle Ganancia S\"+semana+\".csv\"\n",
    "deuda_path = \"Detalle Deuda S\"+semana+\".csv\"\n",
    "garantias_path = \"Garantias Turnos S\"+semana+\".xlsx\"\n",
    "conexion_path = \"Info Conexion.csv\"\n",
    "ordenes_path = \"Detalle Ordenes S\"+semana+\".csv\"\n",
    "\n",
    "fp_earn = os.path.join(mainpath,ganancias_path)\n",
    "fp_debt = os.path.join(mainpath,deuda_path)\n",
    "fp_garantias = os.path.join(mainpath,garantias_path)\n",
    "fp_conexion = os.path.join(mainpath,conexion_path)\n",
    "fp_ordenes = os.path.join(mainpath,ordenes_path)"
   ]
  },
  {
   "cell_type": "code",
   "execution_count": 4,
   "metadata": {},
   "outputs": [],
   "source": [
    "df_ganancia = pd.read_csv(fp_earn, parse_dates = ['created_at'])\n",
    "df_conexion = pd.read_csv(fp_conexion, parse_dates = ['fecha'])\n",
    "df_ldam = pd.read_excel(fp_garantias, sheet_name = \"La Dehesa AM\")\n",
    "df_ldpm = pd.read_excel(fp_garantias, sheet_name = \"La Dehesa PM\")\n",
    "df_autos = pd.read_excel(fp_garantias, sheet_name = \"Autos\")\n",
    "df_vinaAm = pd.read_excel(fp_garantias, sheet_name = \"Viña AM\")\n",
    "df_vinaPm = pd.read_excel(fp_garantias, sheet_name = \"Viña PM\")\n",
    "df_vina19 = pd.read_excel(fp_garantias, sheet_name = \"Viña 19-23\")\n",
    "df_vina13 = pd.read_excel(fp_garantias, sheet_name = \"Viña 13-1\")\n",
    "df_ordenes = pd.read_csv(fp_ordenes, parse_dates = ['CREATED_AT'])"
   ]
  },
  {
   "cell_type": "code",
   "execution_count": 5,
   "metadata": {},
   "outputs": [],
   "source": [
    "ldam = df_ldam['ID'].tolist()\n",
    "ldpm = df_ldpm['ID'].tolist()\n",
    "#ldesp = df_ldpm['Martes Miercoles'].tolist()\n",
    "autos = df_autos['ID'].tolist()\n",
    "vinaAm = df_vinaAm['ID'].tolist()\n",
    "vinaPm = df_vinaPm['ID'].tolist()\n",
    "vina19 = df_vina19['ID'].tolist()\n",
    "vina13 = df_vina13['ID'].tolist()"
   ]
  },
  {
   "cell_type": "code",
   "execution_count": 6,
   "metadata": {},
   "outputs": [],
   "source": [
    "rts_gar = ldam + ldpm\n",
    "rts_gar = rts_gar + autos\n",
    "rts_gar = rts_gar + vinaAm + vinaPm + vina19 + vina13 #+ldesp\n",
    "ld = ldam + ldpm"
   ]
  },
  {
   "cell_type": "code",
   "execution_count": 7,
   "metadata": {
    "scrolled": true
   },
   "outputs": [],
   "source": [
    "df_conexion = df_conexion[df_conexion['skid'].isin(rts_gar)]"
   ]
  },
  {
   "cell_type": "code",
   "execution_count": 8,
   "metadata": {},
   "outputs": [],
   "source": [
    "def calculoGarantia(tiempo, valor):\n",
    "    if(tiempo >= 30):\n",
    "        return valor"
   ]
  },
  {
   "cell_type": "code",
   "execution_count": 9,
   "metadata": {},
   "outputs": [],
   "source": [
    "def garantiasHorarias(df_conexion, horaA, horaC, dias, lista, valor):\n",
    "    if(horaA < horaC):\n",
    "        dft1 = df_conexion[df_conexion['hora']>=horaA]\n",
    "        dft1 = dft1[dft1['hora']<horaC]\n",
    "    if(horaA > horaC):\n",
    "        dft2 = df_conexion[df_conexion['hora']>horaA] \n",
    "        dft3 = df_conexion[df_conexion['hora']<horaC] \n",
    "        dft1 = pd.merge(dft2,dft3,how = 'outer', on=dft2.columns.tolist())\n",
    "    dft1.insert(2,'Dia',dft1['fecha'].apply(lambda x: x.strftime(\"%w\")))\n",
    "    dft1 = dft1[dft1['skid'].isin(lista)]\n",
    "    dft1 = dft1[dft1['Dia'].astype(int).isin(dias)]\n",
    "    dft1.insert(8, \"Garantia\", dft1['time'].apply(lambda x: calculoGarantia(x,valor)))\n",
    "    dft1 = dft1.fillna(0)\n",
    "    dft1 = dft1.groupby(['skid','fecha','Dia']).sum().reset_index()\n",
    "    dft1.insert(8,'Garantia Efectiva',np.maximum(0,dft1.Garantia-dft1.ganancia))\n",
    "    dft1 = dft1.drop(labels = 'hora', axis = 1)\n",
    "    return dft1"
   ]
  },
  {
   "cell_type": "code",
   "execution_count": 10,
   "metadata": {},
   "outputs": [
    {
     "data": {
      "text/html": [
       "<div>\n",
       "<style scoped>\n",
       "    .dataframe tbody tr th:only-of-type {\n",
       "        vertical-align: middle;\n",
       "    }\n",
       "\n",
       "    .dataframe tbody tr th {\n",
       "        vertical-align: top;\n",
       "    }\n",
       "\n",
       "    .dataframe thead th {\n",
       "        text-align: right;\n",
       "    }\n",
       "</style>\n",
       "<table border=\"1\" class=\"dataframe\">\n",
       "  <thead>\n",
       "    <tr style=\"text-align: right;\">\n",
       "      <th></th>\n",
       "      <th>STOREKEEPER_ID</th>\n",
       "      <th>CREATED_AT</th>\n",
       "      <th>NAME</th>\n",
       "      <th>MODEL_ID</th>\n",
       "      <th>ADDRESS</th>\n",
       "      <th>VERTICAL</th>\n",
       "      <th>TOTAL</th>\n",
       "      <th>DESCRIPTION</th>\n",
       "    </tr>\n",
       "  </thead>\n",
       "  <tbody>\n",
       "    <tr>\n",
       "      <th>0</th>\n",
       "      <td>1</td>\n",
       "      <td>2018-10-26 20:08:27.720</td>\n",
       "      <td>service_cost</td>\n",
       "      <td>374443</td>\n",
       "      <td>Enrique Foster Sur 207, Las Condes</td>\n",
       "      <td>rappifavor</td>\n",
       "      <td>2651.6</td>\n",
       "      <td>NaN</td>\n",
       "    </tr>\n",
       "    <tr>\n",
       "      <th>1</th>\n",
       "      <td>1</td>\n",
       "      <td>2018-10-26 23:54:36.964</td>\n",
       "      <td>service_cost</td>\n",
       "      <td>376919</td>\n",
       "      <td>Enrique Foster Sur 207, Las Condes</td>\n",
       "      <td>rappifavor</td>\n",
       "      <td>2651.6</td>\n",
       "      <td>NaN</td>\n",
       "    </tr>\n",
       "    <tr>\n",
       "      <th>2</th>\n",
       "      <td>10042</td>\n",
       "      <td>2018-10-24 18:56:20.461</td>\n",
       "      <td>service_cost</td>\n",
       "      <td>356832</td>\n",
       "      <td>Brown Norte</td>\n",
       "      <td>restaurantes</td>\n",
       "      <td>1400.0</td>\n",
       "      <td>NaN</td>\n",
       "    </tr>\n",
       "    <tr>\n",
       "      <th>3</th>\n",
       "      <td>10045</td>\n",
       "      <td>2018-10-23 16:12:54.402</td>\n",
       "      <td>service_cost</td>\n",
       "      <td>351050</td>\n",
       "      <td>Diagonal Paraguay 24</td>\n",
       "      <td>super</td>\n",
       "      <td>2100.0</td>\n",
       "      <td>NaN</td>\n",
       "    </tr>\n",
       "    <tr>\n",
       "      <th>4</th>\n",
       "      <td>10045</td>\n",
       "      <td>2018-10-23 16:12:54.402</td>\n",
       "      <td>service_cost</td>\n",
       "      <td>351050</td>\n",
       "      <td>Diagonal Paraguay 24</td>\n",
       "      <td>super</td>\n",
       "      <td>2100.0</td>\n",
       "      <td>NaN</td>\n",
       "    </tr>\n",
       "  </tbody>\n",
       "</table>\n",
       "</div>"
      ],
      "text/plain": [
       "   STOREKEEPER_ID              CREATED_AT          NAME  MODEL_ID  \\\n",
       "0               1 2018-10-26 20:08:27.720  service_cost    374443   \n",
       "1               1 2018-10-26 23:54:36.964  service_cost    376919   \n",
       "2           10042 2018-10-24 18:56:20.461  service_cost    356832   \n",
       "3           10045 2018-10-23 16:12:54.402  service_cost    351050   \n",
       "4           10045 2018-10-23 16:12:54.402  service_cost    351050   \n",
       "\n",
       "                              ADDRESS      VERTICAL   TOTAL  DESCRIPTION  \n",
       "0  Enrique Foster Sur 207, Las Condes    rappifavor  2651.6          NaN  \n",
       "1  Enrique Foster Sur 207, Las Condes    rappifavor  2651.6          NaN  \n",
       "2                         Brown Norte  restaurantes  1400.0          NaN  \n",
       "3                Diagonal Paraguay 24         super  2100.0          NaN  \n",
       "4                Diagonal Paraguay 24         super  2100.0          NaN  "
      ]
     },
     "execution_count": 10,
     "metadata": {},
     "output_type": "execute_result"
    }
   ],
   "source": [
    "df_ordenes.head()"
   ]
  },
  {
   "cell_type": "code",
   "execution_count": 11,
   "metadata": {},
   "outputs": [],
   "source": [
    "df_ganancia.insert(2,'fecha',df_ganancia['created_at'].apply(lambda x: x.strftime(\"%Y-%M-%d\")))\n",
    "df_ganancia.insert(3,'hora',df_ganancia['created_at'].apply(lambda x: x.strftime(\"%H\")))\n",
    "df_ganancia = df_ganancia.rename(columns ={'storekeeper_id':'skid'})"
   ]
  },
  {
   "cell_type": "code",
   "execution_count": 12,
   "metadata": {
    "scrolled": true
   },
   "outputs": [
    {
     "data": {
      "text/html": [
       "<div>\n",
       "<style scoped>\n",
       "    .dataframe tbody tr th:only-of-type {\n",
       "        vertical-align: middle;\n",
       "    }\n",
       "\n",
       "    .dataframe tbody tr th {\n",
       "        vertical-align: top;\n",
       "    }\n",
       "\n",
       "    .dataframe thead th {\n",
       "        text-align: right;\n",
       "    }\n",
       "</style>\n",
       "<table border=\"1\" class=\"dataframe\">\n",
       "  <thead>\n",
       "    <tr style=\"text-align: right;\">\n",
       "      <th></th>\n",
       "      <th>skid</th>\n",
       "      <th>created_at</th>\n",
       "      <th>fecha</th>\n",
       "      <th>hora</th>\n",
       "      <th>name</th>\n",
       "      <th>model_id</th>\n",
       "      <th>total</th>\n",
       "      <th>description</th>\n",
       "    </tr>\n",
       "  </thead>\n",
       "  <tbody>\n",
       "    <tr>\n",
       "      <th>0</th>\n",
       "      <td>1</td>\n",
       "      <td>2018-10-26 20:08:27.720</td>\n",
       "      <td>2018-08-26</td>\n",
       "      <td>20</td>\n",
       "      <td>service_cost</td>\n",
       "      <td>374443</td>\n",
       "      <td>2651.6</td>\n",
       "      <td>NaN</td>\n",
       "    </tr>\n",
       "    <tr>\n",
       "      <th>1</th>\n",
       "      <td>1</td>\n",
       "      <td>2018-10-26 23:54:36.964</td>\n",
       "      <td>2018-54-26</td>\n",
       "      <td>23</td>\n",
       "      <td>service_cost</td>\n",
       "      <td>376919</td>\n",
       "      <td>2651.6</td>\n",
       "      <td>NaN</td>\n",
       "    </tr>\n",
       "    <tr>\n",
       "      <th>2</th>\n",
       "      <td>10042</td>\n",
       "      <td>2018-10-24 18:56:20.461</td>\n",
       "      <td>2018-56-24</td>\n",
       "      <td>18</td>\n",
       "      <td>service_cost</td>\n",
       "      <td>356832</td>\n",
       "      <td>1400.0</td>\n",
       "      <td>NaN</td>\n",
       "    </tr>\n",
       "    <tr>\n",
       "      <th>3</th>\n",
       "      <td>10045</td>\n",
       "      <td>2018-10-23 16:12:54.402</td>\n",
       "      <td>2018-12-23</td>\n",
       "      <td>16</td>\n",
       "      <td>service_cost</td>\n",
       "      <td>351050</td>\n",
       "      <td>2100.0</td>\n",
       "      <td>NaN</td>\n",
       "    </tr>\n",
       "    <tr>\n",
       "      <th>4</th>\n",
       "      <td>10045</td>\n",
       "      <td>2018-10-23 16:12:54.418</td>\n",
       "      <td>2018-12-23</td>\n",
       "      <td>16</td>\n",
       "      <td>tip</td>\n",
       "      <td>351050</td>\n",
       "      <td>1000.0</td>\n",
       "      <td>NaN</td>\n",
       "    </tr>\n",
       "  </tbody>\n",
       "</table>\n",
       "</div>"
      ],
      "text/plain": [
       "    skid              created_at       fecha hora          name  model_id  \\\n",
       "0      1 2018-10-26 20:08:27.720  2018-08-26   20  service_cost    374443   \n",
       "1      1 2018-10-26 23:54:36.964  2018-54-26   23  service_cost    376919   \n",
       "2  10042 2018-10-24 18:56:20.461  2018-56-24   18  service_cost    356832   \n",
       "3  10045 2018-10-23 16:12:54.402  2018-12-23   16  service_cost    351050   \n",
       "4  10045 2018-10-23 16:12:54.418  2018-12-23   16           tip    351050   \n",
       "\n",
       "    total description  \n",
       "0  2651.6         NaN  \n",
       "1  2651.6         NaN  \n",
       "2  1400.0         NaN  \n",
       "3  2100.0         NaN  \n",
       "4  1000.0         NaN  "
      ]
     },
     "execution_count": 12,
     "metadata": {},
     "output_type": "execute_result"
    }
   ],
   "source": [
    "df_ganancia.head()"
   ]
  },
  {
   "cell_type": "code",
   "execution_count": 13,
   "metadata": {},
   "outputs": [],
   "source": [
    "df_ganancia['hora'] = df_ganancia['hora'].apply(lambda x: int(x))"
   ]
  },
  {
   "cell_type": "code",
   "execution_count": 14,
   "metadata": {},
   "outputs": [],
   "source": [
    "#Garantia la Dehesa 9 a 9, Lunes a Domingo\n",
    "dias = [0,1,2,3,4,5,6]\n",
    "dft_ldam = garantiasHorarias(df_conexion,9,21, dias, ldam, 2800)"
   ]
  },
  {
   "cell_type": "code",
   "execution_count": 15,
   "metadata": {},
   "outputs": [],
   "source": [
    "#Garantia la Dehesa PM, grupo que bajo el miercoles.\n",
    "dias = [2,3]\n",
    "#dft_ldesp = garantiasHorarias(df_conexion,12,24, dias, ldesp, 2800)"
   ]
  },
  {
   "cell_type": "code",
   "execution_count": 16,
   "metadata": {},
   "outputs": [],
   "source": [
    "#Garantia la Dehesa 12 a 12, Lunes a Jueves y Domingo y 15 a 3, Viernes y Sabado\n",
    "dias = [0,1,2,3,4]\n",
    "df_ldpm1 = garantiasHorarias(df_conexion, 12, 24, dias, ldpm, 2800)\n",
    "df_ldpm2 = garantiasHorarias(df_conexion, 15, 3, [5,6], ldpm, 2800)\n",
    "dft_ldpm = pd.merge(df_ldpm1, df_ldpm2, how='outer', on=df_ldpm1.columns.tolist())"
   ]
  },
  {
   "cell_type": "code",
   "execution_count": 17,
   "metadata": {},
   "outputs": [],
   "source": [
    "#Garantia 10 a 10 Domingo y 9 a 9 Sabado Autos\n",
    "df_autos1 = garantiasHorarias(df_conexion, 9, 21, [6], autos, 3334)\n",
    "df_autos2 = garantiasHorarias(df_conexion, 10, 22, [0], autos, 3334)\n",
    "df_autos = pd.merge(df_autos1, df_autos2, how = 'outer', on = df_autos1.columns.tolist())"
   ]
  },
  {
   "cell_type": "code",
   "execution_count": 18,
   "metadata": {},
   "outputs": [],
   "source": [
    "df_ordLD = df_ordenes[df_ordenes['STOREKEEPER_ID'].isin(ld)]\n",
    "df_ordLD = df_ordLD[df_ordLD['NAME']=='service_cost']\n",
    "df_ordLD = df_ordLD.groupby(['STOREKEEPER_ID','MODEL_ID', 'NAME', 'ADDRESS','CREATED_AT']).sum()"
   ]
  },
  {
   "cell_type": "code",
   "execution_count": 19,
   "metadata": {},
   "outputs": [],
   "source": [
    "#Garantias Viña 4 Turnos\n",
    "dias = [0,1,2,3,4,5,6]\n",
    "dft_vina1 = garantiasHorarias(df_conexion,8,20, dias, vinaAm, 2800)\n",
    "dft_vina2 = garantiasHorarias(df_conexion,11,23, dias, vinaPm, 2800)\n",
    "dft_vina3 = garantiasHorarias(df_conexion,19,23, dias, vina19, 2800)\n",
    "dft_vina4 = garantiasHorarias(df_conexion,13,1, dias, vina13, 2800)\n",
    "dft_vina5 = garantiasHorarias(df_conexion,11,23, [4,5], [12830], 2800)"
   ]
  },
  {
   "cell_type": "code",
   "execution_count": 20,
   "metadata": {},
   "outputs": [
    {
     "name": "stdout",
     "output_type": "stream",
     "text": [
      "Garantias Calculadas en C:/Users/mromo/Desktop/Rappi/Datasets/S43/Garantias S43.xlsx\n"
     ]
    }
   ],
   "source": [
    "writer = pd.ExcelWriter('C:/Users/mromo/Desktop/Rappi/Datasets/S'+semana+'/Garantias S'+semana+'.xlsx')\n",
    "dft_ldam.to_excel(writer,'Garantia La Dehesa AM')\n",
    "dft_ldpm.to_excel(writer,'Garantia La Dehesa PM')\n",
    "#dft_ldesp.to_excel(writer,'Garantia La Dehesa Esp')\n",
    "df_autos.to_excel(writer,'Garantias Autos')\n",
    "dft_vina1.to_excel(writer,'Garantias Viña AM')\n",
    "dft_vina2.to_excel(writer,'Garantias Viña PM')\n",
    "dft_vina3.to_excel(writer,'Garantias Viña 19-23')\n",
    "dft_vina4.to_excel(writer,'Garantias Viña 13-1')\n",
    "dft_vina5.to_excel(writer,'Garantias Viña RT 12830')\n",
    "writer.save()\n",
    "writer.close()\n",
    "print(\"Garantias Calculadas en C:/Users/mromo/Desktop/Rappi/Datasets/S\"+semana+\"/Garantias S\"+semana+\".xlsx\")"
   ]
  },
  {
   "cell_type": "code",
   "execution_count": 21,
   "metadata": {},
   "outputs": [],
   "source": [
    "df_ordLD.to_excel('C:/Users/mromo/Desktop/Rappi/Datasets/S'+semana+'/Ordenes LD S'+semana+'.xlsx')"
   ]
  },
  {
   "cell_type": "code",
   "execution_count": null,
   "metadata": {},
   "outputs": [],
   "source": []
  },
  {
   "cell_type": "code",
   "execution_count": null,
   "metadata": {},
   "outputs": [],
   "source": []
  }
 ],
 "metadata": {
  "kernelspec": {
   "display_name": "Python 3",
   "language": "python",
   "name": "python3"
  },
  "language_info": {
   "codemirror_mode": {
    "name": "ipython",
    "version": 3
   },
   "file_extension": ".py",
   "mimetype": "text/x-python",
   "name": "python",
   "nbconvert_exporter": "python",
   "pygments_lexer": "ipython3",
   "version": "3.6.5"
  }
 },
 "nbformat": 4,
 "nbformat_minor": 2
}
