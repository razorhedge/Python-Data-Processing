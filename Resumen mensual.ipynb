{
 "cells": [
  {
   "cell_type": "code",
   "execution_count": 1,
   "metadata": {},
   "outputs": [],
   "source": [
    "import pandas as pd\n",
    "import numpy as np\n",
    "import os"
   ]
  },
  {
   "cell_type": "code",
   "execution_count": 2,
   "metadata": {},
   "outputs": [],
   "source": [
    "mainpath1 = \"C:/Users/mromo/Desktop/Rappi/Datasets/S35/Data\"\n",
    "filepath1 = \"Detalle Ganancia S35.csv\"\n",
    "mainpath2 = \"C:/Users/mromo/Desktop/Rappi/Datasets/S36/Data\"\n",
    "filepath2 = \"Detalle Ganancia S36.csv\"\n",
    "mainpath3 = \"C:/Users/mromo/Desktop/Rappi/Datasets/S37/Data\"\n",
    "filepath3 = \"Detalle Ganancia S37.xlsx\"\n",
    "mainpath4 = \"C:/Users/mromo/Desktop/Rappi/Datasets/S38/Data\"\n",
    "filepath4 = \"Detalle Ganancia S38.csv\"\n",
    "mainpath5 = \"C:/Users/mromo/Desktop/Rappi/Datasets/S39/Data\"\n",
    "filepath5 = \"Detalle Ganancia S39.csv\""
   ]
  },
  {
   "cell_type": "code",
   "execution_count": 3,
   "metadata": {},
   "outputs": [],
   "source": [
    "fullpath1 = os.path.join(mainpath1,filepath1)\n",
    "fullpath2 = os.path.join(mainpath2,filepath2)\n",
    "fullpath3 = os.path.join(mainpath3,filepath3)\n",
    "fullpath4 = os.path.join(mainpath4,filepath4)\n",
    "fullpath5 = os.path.join(mainpath5,filepath5)"
   ]
  },
  {
   "cell_type": "code",
   "execution_count": 4,
   "metadata": {},
   "outputs": [],
   "source": [
    "df35 = pd.read_csv(fullpath1)\n",
    "df36 = pd.read_csv(fullpath2)\n",
    "df37 = pd.read_excel(fullpath3)\n",
    "df38 = pd.read_csv(fullpath4)\n",
    "df39 = pd.read_csv(fullpath5)"
   ]
  },
  {
   "cell_type": "code",
   "execution_count": 5,
   "metadata": {},
   "outputs": [
    {
     "name": "stdout",
     "output_type": "stream",
     "text": [
      "2047600.0\n"
     ]
    }
   ],
   "source": [
    "tp35 = df35[df35['name']=='service_cost']\n",
    "total35 = tp35.total.sum()\n",
    "neto35 = tp35.total.count()*1400\n",
    "final35 = total35-neto35\n",
    "print(final35)"
   ]
  },
  {
   "cell_type": "code",
   "execution_count": 6,
   "metadata": {},
   "outputs": [
    {
     "name": "stdout",
     "output_type": "stream",
     "text": [
      "2201991.0\n"
     ]
    }
   ],
   "source": [
    "tp36 = df36[df36['name']=='service_cost']\n",
    "total36 = tp36.total.sum()\n",
    "neto36 = tp36.total.count()*1400\n",
    "final36 = total36-neto36\n",
    "print(final36)"
   ]
  },
  {
   "cell_type": "code",
   "execution_count": 7,
   "metadata": {},
   "outputs": [
    {
     "name": "stdout",
     "output_type": "stream",
     "text": [
      "6184262\n"
     ]
    }
   ],
   "source": [
    "tp37 = df37[df37['name']=='service_cost']\n",
    "total37 = tp37.total.sum()\n",
    "neto37 = tp37.total.count()*1400\n",
    "final37 = total37-neto37\n",
    "print(final37)"
   ]
  },
  {
   "cell_type": "code",
   "execution_count": 8,
   "metadata": {},
   "outputs": [
    {
     "name": "stdout",
     "output_type": "stream",
     "text": [
      "1720365.0\n"
     ]
    }
   ],
   "source": [
    "tp38 = df38[df38['name']=='service_cost']\n",
    "total38 = tp38.total.sum()\n",
    "neto38 = tp38.total.count()*1400\n",
    "final38 = total38-neto38\n",
    "print(final38)"
   ]
  },
  {
   "cell_type": "code",
   "execution_count": 9,
   "metadata": {},
   "outputs": [
    {
     "name": "stdout",
     "output_type": "stream",
     "text": [
      "3400389.0\n"
     ]
    }
   ],
   "source": [
    "tp39 = df39[df39['name']=='service_cost']\n",
    "total39 = tp39.total.sum()\n",
    "neto39 = tp39.total.count()*1400\n",
    "final39 = total39-neto39\n",
    "print(final39)"
   ]
  },
  {
   "cell_type": "code",
   "execution_count": 28,
   "metadata": {},
   "outputs": [
    {
     "name": "stdout",
     "output_type": "stream",
     "text": [
      "68600.0\n"
     ]
    }
   ],
   "source": [
    "ts35 = df35[df35['name']=='sampling']\n",
    "sampling35 = ts35.total.sum()\n",
    "print(sampling35)"
   ]
  },
  {
   "cell_type": "code",
   "execution_count": 29,
   "metadata": {},
   "outputs": [
    {
     "name": "stdout",
     "output_type": "stream",
     "text": [
      "180600.0\n"
     ]
    }
   ],
   "source": [
    "ts36 = df36[df36['name']=='sampling']\n",
    "sampling36 = ts36.total.sum()\n",
    "print(sampling36)"
   ]
  },
  {
   "cell_type": "code",
   "execution_count": 30,
   "metadata": {},
   "outputs": [
    {
     "name": "stdout",
     "output_type": "stream",
     "text": [
      "1120000\n"
     ]
    }
   ],
   "source": [
    "ts37 = df37[df37['name']=='sampling']\n",
    "sampling37 = ts37.total.sum()\n",
    "print(sampling37)"
   ]
  },
  {
   "cell_type": "code",
   "execution_count": 31,
   "metadata": {},
   "outputs": [
    {
     "name": "stdout",
     "output_type": "stream",
     "text": [
      "11200.0\n"
     ]
    }
   ],
   "source": [
    "ts38 = df38[df38['name']=='sampling']\n",
    "sampling38 = ts38.total.sum()\n",
    "print(sampling38)"
   ]
  },
  {
   "cell_type": "code",
   "execution_count": 32,
   "metadata": {},
   "outputs": [
    {
     "name": "stdout",
     "output_type": "stream",
     "text": [
      "14000.0\n"
     ]
    }
   ],
   "source": [
    "ts39 = df39[df39['name']=='sampling']\n",
    "sampling39 = ts39.total.sum()\n",
    "print(sampling39)"
   ]
  },
  {
   "cell_type": "code",
   "execution_count": 21,
   "metadata": {},
   "outputs": [
    {
     "name": "stdout",
     "output_type": "stream",
     "text": [
      "1289150.0\n"
     ]
    }
   ],
   "source": [
    "tsur35 = df35[df35['name']=='surcharge_paid_for_rappi']\n",
    "surcharge35 = tsur35.total.sum()\n",
    "print(surcharge35)"
   ]
  },
  {
   "cell_type": "code",
   "execution_count": 22,
   "metadata": {},
   "outputs": [
    {
     "name": "stdout",
     "output_type": "stream",
     "text": [
      "803625.0\n"
     ]
    }
   ],
   "source": [
    "tsur36 = df36[df36['name']=='surcharge_paid_for_rappi']\n",
    "surcharge36 = tsur36.total.sum()\n",
    "print(surcharge36)"
   ]
  },
  {
   "cell_type": "code",
   "execution_count": 23,
   "metadata": {},
   "outputs": [
    {
     "name": "stdout",
     "output_type": "stream",
     "text": [
      "1139325\n"
     ]
    }
   ],
   "source": [
    "tsur37 = df37[df37['name']=='surcharge_paid_for_rappi']\n",
    "surcharge37 = tsur37.total.sum()\n",
    "print(surcharge37)"
   ]
  },
  {
   "cell_type": "code",
   "execution_count": 24,
   "metadata": {},
   "outputs": [
    {
     "name": "stdout",
     "output_type": "stream",
     "text": [
      "801900.0\n"
     ]
    }
   ],
   "source": [
    "tsur38 = df38[df38['name']=='surcharge_paid_for_rappi']\n",
    "surcharge38 = tsur38.total.sum()\n",
    "print(surcharge38)"
   ]
  },
  {
   "cell_type": "code",
   "execution_count": 27,
   "metadata": {},
   "outputs": [
    {
     "name": "stdout",
     "output_type": "stream",
     "text": [
      "1127275.0\n"
     ]
    }
   ],
   "source": [
    "tsur39 = df39[df39['name']=='surcharge_paid_for_rappi']\n",
    "surcharge39 = tsur39.total.sum()\n",
    "print(surcharge39)"
   ]
  },
  {
   "cell_type": "code",
   "execution_count": 33,
   "metadata": {},
   "outputs": [
    {
     "data": {
      "text/html": [
       "<div>\n",
       "<style scoped>\n",
       "    .dataframe tbody tr th:only-of-type {\n",
       "        vertical-align: middle;\n",
       "    }\n",
       "\n",
       "    .dataframe tbody tr th {\n",
       "        vertical-align: top;\n",
       "    }\n",
       "\n",
       "    .dataframe thead th {\n",
       "        text-align: right;\n",
       "    }\n",
       "</style>\n",
       "<table border=\"1\" class=\"dataframe\">\n",
       "  <thead>\n",
       "    <tr style=\"text-align: right;\">\n",
       "      <th></th>\n",
       "      <th>storekeeper_id</th>\n",
       "      <th>created_at</th>\n",
       "      <th>name</th>\n",
       "      <th>model_id</th>\n",
       "      <th>total</th>\n",
       "      <th>description</th>\n",
       "    </tr>\n",
       "  </thead>\n",
       "  <tbody>\n",
       "    <tr>\n",
       "      <th>7016</th>\n",
       "      <td>10821</td>\n",
       "      <td>2018-09-28 10:29:13.399</td>\n",
       "      <td>sampling</td>\n",
       "      <td>2432</td>\n",
       "      <td>1400.0</td>\n",
       "      <td>NaN</td>\n",
       "    </tr>\n",
       "    <tr>\n",
       "      <th>7538</th>\n",
       "      <td>10866</td>\n",
       "      <td>2018-09-28 16:51:35.611</td>\n",
       "      <td>sampling</td>\n",
       "      <td>2434</td>\n",
       "      <td>1400.0</td>\n",
       "      <td>NaN</td>\n",
       "    </tr>\n",
       "    <tr>\n",
       "      <th>7539</th>\n",
       "      <td>10866</td>\n",
       "      <td>2018-09-28 16:52:05.781</td>\n",
       "      <td>sampling</td>\n",
       "      <td>2435</td>\n",
       "      <td>1400.0</td>\n",
       "      <td>NaN</td>\n",
       "    </tr>\n",
       "    <tr>\n",
       "      <th>7540</th>\n",
       "      <td>10866</td>\n",
       "      <td>2018-09-28 16:52:09.343</td>\n",
       "      <td>sampling</td>\n",
       "      <td>2436</td>\n",
       "      <td>1400.0</td>\n",
       "      <td>NaN</td>\n",
       "    </tr>\n",
       "    <tr>\n",
       "      <th>7541</th>\n",
       "      <td>10866</td>\n",
       "      <td>2018-09-28 16:52:14.67</td>\n",
       "      <td>sampling</td>\n",
       "      <td>2437</td>\n",
       "      <td>1400.0</td>\n",
       "      <td>NaN</td>\n",
       "    </tr>\n",
       "    <tr>\n",
       "      <th>7542</th>\n",
       "      <td>10866</td>\n",
       "      <td>2018-09-28 16:52:22.283</td>\n",
       "      <td>sampling</td>\n",
       "      <td>2438</td>\n",
       "      <td>1400.0</td>\n",
       "      <td>NaN</td>\n",
       "    </tr>\n",
       "    <tr>\n",
       "      <th>7543</th>\n",
       "      <td>10866</td>\n",
       "      <td>2018-09-28 16:52:27.954</td>\n",
       "      <td>sampling</td>\n",
       "      <td>2439</td>\n",
       "      <td>1400.0</td>\n",
       "      <td>NaN</td>\n",
       "    </tr>\n",
       "    <tr>\n",
       "      <th>7544</th>\n",
       "      <td>10866</td>\n",
       "      <td>2018-09-28 16:52:35.848</td>\n",
       "      <td>sampling</td>\n",
       "      <td>2440</td>\n",
       "      <td>1400.0</td>\n",
       "      <td>NaN</td>\n",
       "    </tr>\n",
       "    <tr>\n",
       "      <th>7545</th>\n",
       "      <td>10866</td>\n",
       "      <td>2018-09-28 16:52:39.578</td>\n",
       "      <td>sampling</td>\n",
       "      <td>2441</td>\n",
       "      <td>1400.0</td>\n",
       "      <td>NaN</td>\n",
       "    </tr>\n",
       "    <tr>\n",
       "      <th>7546</th>\n",
       "      <td>10866</td>\n",
       "      <td>2018-09-28 16:53:53.026</td>\n",
       "      <td>sampling</td>\n",
       "      <td>2444</td>\n",
       "      <td>1400.0</td>\n",
       "      <td>NaN</td>\n",
       "    </tr>\n",
       "  </tbody>\n",
       "</table>\n",
       "</div>"
      ],
      "text/plain": [
       "      storekeeper_id               created_at      name  model_id   total  \\\n",
       "7016           10821  2018-09-28 10:29:13.399  sampling      2432  1400.0   \n",
       "7538           10866  2018-09-28 16:51:35.611  sampling      2434  1400.0   \n",
       "7539           10866  2018-09-28 16:52:05.781  sampling      2435  1400.0   \n",
       "7540           10866  2018-09-28 16:52:09.343  sampling      2436  1400.0   \n",
       "7541           10866   2018-09-28 16:52:14.67  sampling      2437  1400.0   \n",
       "7542           10866  2018-09-28 16:52:22.283  sampling      2438  1400.0   \n",
       "7543           10866  2018-09-28 16:52:27.954  sampling      2439  1400.0   \n",
       "7544           10866  2018-09-28 16:52:35.848  sampling      2440  1400.0   \n",
       "7545           10866  2018-09-28 16:52:39.578  sampling      2441  1400.0   \n",
       "7546           10866  2018-09-28 16:53:53.026  sampling      2444  1400.0   \n",
       "\n",
       "     description  \n",
       "7016         NaN  \n",
       "7538         NaN  \n",
       "7539         NaN  \n",
       "7540         NaN  \n",
       "7541         NaN  \n",
       "7542         NaN  \n",
       "7543         NaN  \n",
       "7544         NaN  \n",
       "7545         NaN  \n",
       "7546         NaN  "
      ]
     },
     "execution_count": 33,
     "metadata": {},
     "output_type": "execute_result"
    }
   ],
   "source": [
    "ts39"
   ]
  },
  {
   "cell_type": "code",
   "execution_count": null,
   "metadata": {},
   "outputs": [],
   "source": []
  }
 ],
 "metadata": {
  "kernelspec": {
   "display_name": "Python 3",
   "language": "python",
   "name": "python3"
  },
  "language_info": {
   "codemirror_mode": {
    "name": "ipython",
    "version": 3
   },
   "file_extension": ".py",
   "mimetype": "text/x-python",
   "name": "python",
   "nbconvert_exporter": "python",
   "pygments_lexer": "ipython3",
   "version": "3.6.5"
  }
 },
 "nbformat": 4,
 "nbformat_minor": 2
}
