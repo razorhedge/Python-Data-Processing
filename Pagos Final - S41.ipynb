{
 "cells": [
  {
   "cell_type": "code",
   "execution_count": 1,
   "metadata": {},
   "outputs": [],
   "source": [
    "import pandas as pd\n",
    "import numpy as np\n",
    "import os"
   ]
  },
  {
   "cell_type": "code",
   "execution_count": 2,
   "metadata": {},
   "outputs": [
    {
     "name": "stdout",
     "output_type": "stream",
     "text": [
      "Ingrese Semana: 40\n"
     ]
    }
   ],
   "source": [
    "semana = input(\"Ingrese Semana: \")"
   ]
  },
  {
   "cell_type": "markdown",
   "metadata": {},
   "source": [
    "# Carga de Datos"
   ]
  },
  {
   "cell_type": "code",
   "execution_count": 3,
   "metadata": {},
   "outputs": [],
   "source": [
    "mainpath = \"C:/Users/mromo/Desktop/Rappi/Datasets/S\"+semana+\"/Data\"\n",
    "ganancias_path = \"Detalle Ganancia S\"+semana+\".csv\"\n",
    "deuda_path = \"Detalle Deuda S\"+semana+\".csv\"\n",
    "garantias_path = \"Garantias Semanales.xlsx\"\n",
    "conexion_path = \"Info Conexion.csv\"\n",
    "incentivos_path = \"Incentivos Sem \"+semana+\".xlsx\"\n",
    "\n",
    "fp_earn = os.path.join(mainpath,ganancias_path)\n",
    "fp_debt = os.path.join(mainpath,deuda_path)\n",
    "fp_garantias = os.path.join(mainpath,garantias_path)\n",
    "fp_incentivos = os.path.join(mainpath,incentivos_path)\n",
    "fp_conexion = os.path.join(mainpath,conexion_path)"
   ]
  },
  {
   "cell_type": "markdown",
   "metadata": {},
   "source": [
    "# Data Frames"
   ]
  },
  {
   "cell_type": "code",
   "execution_count": 4,
   "metadata": {},
   "outputs": [],
   "source": [
    "df_earn = pd.read_csv(fp_earn, parse_dates = ['created_at'])\n",
    "df_debt = pd.read_csv(fp_debt, parse_dates = ['created_at'])\n",
    "df_conexion = pd.read_csv(fp_conexion, parse_dates = ['fecha'])"
   ]
  },
  {
   "cell_type": "code",
   "execution_count": 5,
   "metadata": {},
   "outputs": [],
   "source": [
    "ids_vina = [10440, 12061, 12062, 12064, 12065, 12066, 12068, 12081,12082,12083,12084,12085,12086,12088,12391,12096,\n",
    "12098,12097,12099,12138,12140,12141,12142,12208,12145,12212,12209,12211,12244,12241,12242,12250,\n",
    "12249,12243,12247,12248,12246,12245,12253,12254,12302,12319,12326,12325,12310,12460]\n",
    "df_vina = df_conexion[df_conexion['skid'].isin(ids_vina)]"
   ]
  },
  {
   "cell_type": "markdown",
   "metadata": {
    "scrolled": true
   },
   "source": [
    "df_bonus25 = df_bonus25.fillna(0)\n",
    "df_bonus60 = df_bonus60.fillna(0)\n",
    "df_conexion = df_conexion.fillna(0)"
   ]
  },
  {
   "cell_type": "code",
   "execution_count": 6,
   "metadata": {
    "scrolled": true
   },
   "outputs": [],
   "source": [
    "df_earn = df_earn[df_earn['storekeeper_id']!=48]\n",
    "df_earn = df_earn[df_earn['storekeeper_id']!=12060]"
   ]
  },
  {
   "cell_type": "code",
   "execution_count": 7,
   "metadata": {
    "scrolled": true
   },
   "outputs": [
    {
     "data": {
      "text/html": [
       "<div>\n",
       "<style scoped>\n",
       "    .dataframe tbody tr th:only-of-type {\n",
       "        vertical-align: middle;\n",
       "    }\n",
       "\n",
       "    .dataframe tbody tr th {\n",
       "        vertical-align: top;\n",
       "    }\n",
       "\n",
       "    .dataframe thead th {\n",
       "        text-align: right;\n",
       "    }\n",
       "</style>\n",
       "<table border=\"1\" class=\"dataframe\">\n",
       "  <thead>\n",
       "    <tr style=\"text-align: right;\">\n",
       "      <th></th>\n",
       "      <th>storekeeper_id</th>\n",
       "      <th>created_at</th>\n",
       "      <th>name</th>\n",
       "      <th>model_id</th>\n",
       "      <th>total</th>\n",
       "      <th>description</th>\n",
       "    </tr>\n",
       "  </thead>\n",
       "  <tbody>\n",
       "    <tr>\n",
       "      <th>0</th>\n",
       "      <td>10042</td>\n",
       "      <td>2018-10-01 19:10:23.880</td>\n",
       "      <td>service_cost</td>\n",
       "      <td>241626</td>\n",
       "      <td>1400.0</td>\n",
       "      <td>NaN</td>\n",
       "    </tr>\n",
       "    <tr>\n",
       "      <th>1</th>\n",
       "      <td>10042</td>\n",
       "      <td>2018-10-01 20:30:47.866</td>\n",
       "      <td>service_cost</td>\n",
       "      <td>241917</td>\n",
       "      <td>1400.0</td>\n",
       "      <td>NaN</td>\n",
       "    </tr>\n",
       "    <tr>\n",
       "      <th>2</th>\n",
       "      <td>10042</td>\n",
       "      <td>2018-10-01 20:30:47.892</td>\n",
       "      <td>surcharge_paid_for_rappi</td>\n",
       "      <td>241917</td>\n",
       "      <td>25.0</td>\n",
       "      <td>NaN</td>\n",
       "    </tr>\n",
       "    <tr>\n",
       "      <th>3</th>\n",
       "      <td>10042</td>\n",
       "      <td>2018-10-06 12:54:17.416</td>\n",
       "      <td>service_cost</td>\n",
       "      <td>265236</td>\n",
       "      <td>1400.0</td>\n",
       "      <td>NaN</td>\n",
       "    </tr>\n",
       "    <tr>\n",
       "      <th>4</th>\n",
       "      <td>10042</td>\n",
       "      <td>2018-10-06 12:54:17.448</td>\n",
       "      <td>surcharge_paid_for_rappi</td>\n",
       "      <td>265236</td>\n",
       "      <td>100.0</td>\n",
       "      <td>NaN</td>\n",
       "    </tr>\n",
       "    <tr>\n",
       "      <th>5</th>\n",
       "      <td>10042</td>\n",
       "      <td>2018-10-06 13:25:30.721</td>\n",
       "      <td>service_cost</td>\n",
       "      <td>265362</td>\n",
       "      <td>1400.0</td>\n",
       "      <td>NaN</td>\n",
       "    </tr>\n",
       "    <tr>\n",
       "      <th>6</th>\n",
       "      <td>10042</td>\n",
       "      <td>2018-10-06 13:57:42.251</td>\n",
       "      <td>service_cost</td>\n",
       "      <td>265714</td>\n",
       "      <td>1400.0</td>\n",
       "      <td>NaN</td>\n",
       "    </tr>\n",
       "    <tr>\n",
       "      <th>7</th>\n",
       "      <td>10042</td>\n",
       "      <td>2018-10-06 14:42:13.668</td>\n",
       "      <td>service_cost</td>\n",
       "      <td>266092</td>\n",
       "      <td>1400.0</td>\n",
       "      <td>NaN</td>\n",
       "    </tr>\n",
       "    <tr>\n",
       "      <th>8</th>\n",
       "      <td>10042</td>\n",
       "      <td>2018-10-06 14:42:13.691</td>\n",
       "      <td>surcharge_paid_for_rappi</td>\n",
       "      <td>266092</td>\n",
       "      <td>75.0</td>\n",
       "      <td>NaN</td>\n",
       "    </tr>\n",
       "    <tr>\n",
       "      <th>9</th>\n",
       "      <td>10042</td>\n",
       "      <td>2018-10-06 15:21:44.181</td>\n",
       "      <td>service_cost</td>\n",
       "      <td>266534</td>\n",
       "      <td>1400.0</td>\n",
       "      <td>NaN</td>\n",
       "    </tr>\n",
       "  </tbody>\n",
       "</table>\n",
       "</div>"
      ],
      "text/plain": [
       "   storekeeper_id              created_at                      name  model_id  \\\n",
       "0           10042 2018-10-01 19:10:23.880              service_cost    241626   \n",
       "1           10042 2018-10-01 20:30:47.866              service_cost    241917   \n",
       "2           10042 2018-10-01 20:30:47.892  surcharge_paid_for_rappi    241917   \n",
       "3           10042 2018-10-06 12:54:17.416              service_cost    265236   \n",
       "4           10042 2018-10-06 12:54:17.448  surcharge_paid_for_rappi    265236   \n",
       "5           10042 2018-10-06 13:25:30.721              service_cost    265362   \n",
       "6           10042 2018-10-06 13:57:42.251              service_cost    265714   \n",
       "7           10042 2018-10-06 14:42:13.668              service_cost    266092   \n",
       "8           10042 2018-10-06 14:42:13.691  surcharge_paid_for_rappi    266092   \n",
       "9           10042 2018-10-06 15:21:44.181              service_cost    266534   \n",
       "\n",
       "    total description  \n",
       "0  1400.0         NaN  \n",
       "1  1400.0         NaN  \n",
       "2    25.0         NaN  \n",
       "3  1400.0         NaN  \n",
       "4   100.0         NaN  \n",
       "5  1400.0         NaN  \n",
       "6  1400.0         NaN  \n",
       "7  1400.0         NaN  \n",
       "8    75.0         NaN  \n",
       "9  1400.0         NaN  "
      ]
     },
     "execution_count": 7,
     "metadata": {},
     "output_type": "execute_result"
    }
   ],
   "source": [
    "df_earn.head(10)"
   ]
  },
  {
   "cell_type": "code",
   "execution_count": 8,
   "metadata": {
    "scrolled": true
   },
   "outputs": [
    {
     "data": {
      "text/html": [
       "<div>\n",
       "<style scoped>\n",
       "    .dataframe tbody tr th:only-of-type {\n",
       "        vertical-align: middle;\n",
       "    }\n",
       "\n",
       "    .dataframe tbody tr th {\n",
       "        vertical-align: top;\n",
       "    }\n",
       "\n",
       "    .dataframe thead th {\n",
       "        text-align: right;\n",
       "    }\n",
       "</style>\n",
       "<table border=\"1\" class=\"dataframe\">\n",
       "  <thead>\n",
       "    <tr style=\"text-align: right;\">\n",
       "      <th></th>\n",
       "      <th>skid</th>\n",
       "      <th>fecha</th>\n",
       "      <th>hora</th>\n",
       "      <th>time</th>\n",
       "      <th>orders</th>\n",
       "      <th>ganancia</th>\n",
       "      <th>tenia_cupo</th>\n",
       "    </tr>\n",
       "  </thead>\n",
       "  <tbody>\n",
       "    <tr>\n",
       "      <th>0</th>\n",
       "      <td>1</td>\n",
       "      <td>2018-10-01</td>\n",
       "      <td>0</td>\n",
       "      <td>1.283333</td>\n",
       "      <td>NaN</td>\n",
       "      <td>NaN</td>\n",
       "      <td>No</td>\n",
       "    </tr>\n",
       "    <tr>\n",
       "      <th>1</th>\n",
       "      <td>1</td>\n",
       "      <td>2018-10-01</td>\n",
       "      <td>1</td>\n",
       "      <td>1.350000</td>\n",
       "      <td>NaN</td>\n",
       "      <td>NaN</td>\n",
       "      <td>No</td>\n",
       "    </tr>\n",
       "    <tr>\n",
       "      <th>2</th>\n",
       "      <td>1</td>\n",
       "      <td>2018-10-01</td>\n",
       "      <td>2</td>\n",
       "      <td>1.650000</td>\n",
       "      <td>NaN</td>\n",
       "      <td>NaN</td>\n",
       "      <td>No</td>\n",
       "    </tr>\n",
       "    <tr>\n",
       "      <th>3</th>\n",
       "      <td>1</td>\n",
       "      <td>2018-10-01</td>\n",
       "      <td>3</td>\n",
       "      <td>1.400000</td>\n",
       "      <td>NaN</td>\n",
       "      <td>NaN</td>\n",
       "      <td>No</td>\n",
       "    </tr>\n",
       "    <tr>\n",
       "      <th>4</th>\n",
       "      <td>1</td>\n",
       "      <td>2018-10-01</td>\n",
       "      <td>4</td>\n",
       "      <td>1.383333</td>\n",
       "      <td>NaN</td>\n",
       "      <td>NaN</td>\n",
       "      <td>No</td>\n",
       "    </tr>\n",
       "    <tr>\n",
       "      <th>5</th>\n",
       "      <td>1</td>\n",
       "      <td>2018-10-01</td>\n",
       "      <td>5</td>\n",
       "      <td>1.516667</td>\n",
       "      <td>NaN</td>\n",
       "      <td>NaN</td>\n",
       "      <td>No</td>\n",
       "    </tr>\n",
       "    <tr>\n",
       "      <th>6</th>\n",
       "      <td>1</td>\n",
       "      <td>2018-10-01</td>\n",
       "      <td>6</td>\n",
       "      <td>1.450000</td>\n",
       "      <td>NaN</td>\n",
       "      <td>NaN</td>\n",
       "      <td>No</td>\n",
       "    </tr>\n",
       "    <tr>\n",
       "      <th>7</th>\n",
       "      <td>1</td>\n",
       "      <td>2018-10-01</td>\n",
       "      <td>7</td>\n",
       "      <td>1.700000</td>\n",
       "      <td>NaN</td>\n",
       "      <td>NaN</td>\n",
       "      <td>No</td>\n",
       "    </tr>\n",
       "    <tr>\n",
       "      <th>8</th>\n",
       "      <td>1</td>\n",
       "      <td>2018-10-01</td>\n",
       "      <td>8</td>\n",
       "      <td>1.600000</td>\n",
       "      <td>NaN</td>\n",
       "      <td>NaN</td>\n",
       "      <td>No</td>\n",
       "    </tr>\n",
       "    <tr>\n",
       "      <th>9</th>\n",
       "      <td>1</td>\n",
       "      <td>2018-10-01</td>\n",
       "      <td>9</td>\n",
       "      <td>2.033333</td>\n",
       "      <td>NaN</td>\n",
       "      <td>NaN</td>\n",
       "      <td>No</td>\n",
       "    </tr>\n",
       "  </tbody>\n",
       "</table>\n",
       "</div>"
      ],
      "text/plain": [
       "   skid      fecha  hora      time  orders  ganancia tenia_cupo\n",
       "0     1 2018-10-01     0  1.283333     NaN       NaN         No\n",
       "1     1 2018-10-01     1  1.350000     NaN       NaN         No\n",
       "2     1 2018-10-01     2  1.650000     NaN       NaN         No\n",
       "3     1 2018-10-01     3  1.400000     NaN       NaN         No\n",
       "4     1 2018-10-01     4  1.383333     NaN       NaN         No\n",
       "5     1 2018-10-01     5  1.516667     NaN       NaN         No\n",
       "6     1 2018-10-01     6  1.450000     NaN       NaN         No\n",
       "7     1 2018-10-01     7  1.700000     NaN       NaN         No\n",
       "8     1 2018-10-01     8  1.600000     NaN       NaN         No\n",
       "9     1 2018-10-01     9  2.033333     NaN       NaN         No"
      ]
     },
     "execution_count": 8,
     "metadata": {},
     "output_type": "execute_result"
    }
   ],
   "source": [
    "df_conexion.head(10)"
   ]
  },
  {
   "cell_type": "markdown",
   "metadata": {},
   "source": [
    "df_bonus25 = df_bonus25.set_index('Inicio')\n",
    "df_bonus60 = df_bonus60.set_index('Inicio')"
   ]
  },
  {
   "cell_type": "markdown",
   "metadata": {},
   "source": [
    "# Garantias Dias"
   ]
  },
  {
   "cell_type": "markdown",
   "metadata": {},
   "source": [
    "# Totales "
   ]
  },
  {
   "cell_type": "code",
   "execution_count": 9,
   "metadata": {
    "scrolled": false
   },
   "outputs": [
    {
     "data": {
      "text/html": [
       "<div>\n",
       "<style scoped>\n",
       "    .dataframe tbody tr th:only-of-type {\n",
       "        vertical-align: middle;\n",
       "    }\n",
       "\n",
       "    .dataframe tbody tr th {\n",
       "        vertical-align: top;\n",
       "    }\n",
       "\n",
       "    .dataframe thead th {\n",
       "        text-align: right;\n",
       "    }\n",
       "</style>\n",
       "<table border=\"1\" class=\"dataframe\">\n",
       "  <thead>\n",
       "    <tr style=\"text-align: right;\">\n",
       "      <th></th>\n",
       "      <th>dispersion_id</th>\n",
       "      <th>storekeeper_id</th>\n",
       "      <th>created_at</th>\n",
       "      <th>name</th>\n",
       "      <th>model_id</th>\n",
       "      <th>total</th>\n",
       "    </tr>\n",
       "  </thead>\n",
       "  <tbody>\n",
       "    <tr>\n",
       "      <th>2002</th>\n",
       "      <td>324510</td>\n",
       "      <td>10803</td>\n",
       "      <td>2018-10-03 16:38:18.486</td>\n",
       "      <td>order_not_delivered_manual_debt</td>\n",
       "      <td>5279</td>\n",
       "      <td>-15900.0</td>\n",
       "    </tr>\n",
       "    <tr>\n",
       "      <th>2042</th>\n",
       "      <td>324834</td>\n",
       "      <td>11666</td>\n",
       "      <td>2018-10-03 17:46:31.045</td>\n",
       "      <td>order_not_delivered_manual_debt</td>\n",
       "      <td>5282</td>\n",
       "      <td>-44520.0</td>\n",
       "    </tr>\n",
       "    <tr>\n",
       "      <th>2052</th>\n",
       "      <td>324892</td>\n",
       "      <td>12255</td>\n",
       "      <td>2018-10-03 17:59:31.744</td>\n",
       "      <td>order_not_delivered_manual_debt</td>\n",
       "      <td>5283</td>\n",
       "      <td>-3725.0</td>\n",
       "    </tr>\n",
       "    <tr>\n",
       "      <th>2111</th>\n",
       "      <td>325408</td>\n",
       "      <td>11782</td>\n",
       "      <td>2018-10-03 19:12:43.326</td>\n",
       "      <td>order_not_delivered_manual_debt</td>\n",
       "      <td>5285</td>\n",
       "      <td>-68400.0</td>\n",
       "    </tr>\n",
       "    <tr>\n",
       "      <th>2114</th>\n",
       "      <td>325429</td>\n",
       "      <td>11782</td>\n",
       "      <td>2018-10-03 19:14:00.238</td>\n",
       "      <td>order_not_delivered_manual_debt</td>\n",
       "      <td>5286</td>\n",
       "      <td>-23760.0</td>\n",
       "    </tr>\n",
       "    <tr>\n",
       "      <th>2116</th>\n",
       "      <td>325443</td>\n",
       "      <td>11063</td>\n",
       "      <td>2018-10-03 19:15:11.793</td>\n",
       "      <td>order_not_delivered_manual_debt</td>\n",
       "      <td>5287</td>\n",
       "      <td>-68400.0</td>\n",
       "    </tr>\n",
       "    <tr>\n",
       "      <th>2464</th>\n",
       "      <td>328490</td>\n",
       "      <td>10702</td>\n",
       "      <td>2018-10-04 00:01:48.878</td>\n",
       "      <td>order_not_delivered_manual_debt</td>\n",
       "      <td>5288</td>\n",
       "      <td>-47400.0</td>\n",
       "    </tr>\n",
       "    <tr>\n",
       "      <th>2502</th>\n",
       "      <td>328791</td>\n",
       "      <td>12000</td>\n",
       "      <td>2018-10-04 10:11:58.835</td>\n",
       "      <td>order_not_delivered_manual_debt</td>\n",
       "      <td>5290</td>\n",
       "      <td>-10490.0</td>\n",
       "    </tr>\n",
       "    <tr>\n",
       "      <th>3674</th>\n",
       "      <td>333221</td>\n",
       "      <td>10944</td>\n",
       "      <td>2018-10-04 18:04:45.112</td>\n",
       "      <td>order_not_delivered_manual_debt</td>\n",
       "      <td>5303</td>\n",
       "      <td>-38758.0</td>\n",
       "    </tr>\n",
       "    <tr>\n",
       "      <th>3698</th>\n",
       "      <td>333456</td>\n",
       "      <td>11262</td>\n",
       "      <td>2018-10-04 18:40:01.169</td>\n",
       "      <td>order_not_delivered_manual_debt</td>\n",
       "      <td>5304</td>\n",
       "      <td>-15880.0</td>\n",
       "    </tr>\n",
       "    <tr>\n",
       "      <th>4039</th>\n",
       "      <td>338970</td>\n",
       "      <td>11262</td>\n",
       "      <td>2018-10-05 14:35:02.313</td>\n",
       "      <td>order_not_delivered_manual_debt</td>\n",
       "      <td>5350</td>\n",
       "      <td>-13980.0</td>\n",
       "    </tr>\n",
       "    <tr>\n",
       "      <th>4331</th>\n",
       "      <td>341500</td>\n",
       "      <td>10640</td>\n",
       "      <td>2018-10-05 18:36:42.113</td>\n",
       "      <td>order_not_delivered_manual_debt</td>\n",
       "      <td>5361</td>\n",
       "      <td>-3600.0</td>\n",
       "    </tr>\n",
       "  </tbody>\n",
       "</table>\n",
       "</div>"
      ],
      "text/plain": [
       "      dispersion_id  storekeeper_id              created_at  \\\n",
       "2002         324510           10803 2018-10-03 16:38:18.486   \n",
       "2042         324834           11666 2018-10-03 17:46:31.045   \n",
       "2052         324892           12255 2018-10-03 17:59:31.744   \n",
       "2111         325408           11782 2018-10-03 19:12:43.326   \n",
       "2114         325429           11782 2018-10-03 19:14:00.238   \n",
       "2116         325443           11063 2018-10-03 19:15:11.793   \n",
       "2464         328490           10702 2018-10-04 00:01:48.878   \n",
       "2502         328791           12000 2018-10-04 10:11:58.835   \n",
       "3674         333221           10944 2018-10-04 18:04:45.112   \n",
       "3698         333456           11262 2018-10-04 18:40:01.169   \n",
       "4039         338970           11262 2018-10-05 14:35:02.313   \n",
       "4331         341500           10640 2018-10-05 18:36:42.113   \n",
       "\n",
       "                                 name  model_id    total  \n",
       "2002  order_not_delivered_manual_debt      5279 -15900.0  \n",
       "2042  order_not_delivered_manual_debt      5282 -44520.0  \n",
       "2052  order_not_delivered_manual_debt      5283  -3725.0  \n",
       "2111  order_not_delivered_manual_debt      5285 -68400.0  \n",
       "2114  order_not_delivered_manual_debt      5286 -23760.0  \n",
       "2116  order_not_delivered_manual_debt      5287 -68400.0  \n",
       "2464  order_not_delivered_manual_debt      5288 -47400.0  \n",
       "2502  order_not_delivered_manual_debt      5290 -10490.0  \n",
       "3674  order_not_delivered_manual_debt      5303 -38758.0  \n",
       "3698  order_not_delivered_manual_debt      5304 -15880.0  \n",
       "4039  order_not_delivered_manual_debt      5350 -13980.0  \n",
       "4331  order_not_delivered_manual_debt      5361  -3600.0  "
      ]
     },
     "execution_count": 9,
     "metadata": {},
     "output_type": "execute_result"
    }
   ],
   "source": [
    "df_debt[df_debt['name'].str.startswith(\"order\")]"
   ]
  },
  {
   "cell_type": "code",
   "execution_count": 10,
   "metadata": {},
   "outputs": [],
   "source": [
    "df_calcGarantias = df_conexion\n",
    "df_resumen = df_conexion\n",
    "df_resumen = df_resumen.drop(labels = ['hora'], axis =1)"
   ]
  },
  {
   "cell_type": "code",
   "execution_count": 11,
   "metadata": {},
   "outputs": [],
   "source": [
    "dias_trabajados = df_resumen.groupby(['skid','fecha'])"
   ]
  },
  {
   "cell_type": "code",
   "execution_count": 12,
   "metadata": {},
   "outputs": [],
   "source": [
    "#Totales Minutos, Ganancias, etc\n",
    "df_resumen = df_resumen.groupby('skid').sum()"
   ]
  },
  {
   "cell_type": "code",
   "execution_count": 13,
   "metadata": {
    "scrolled": false
   },
   "outputs": [
    {
     "data": {
      "text/html": [
       "<div>\n",
       "<style scoped>\n",
       "    .dataframe tbody tr th:only-of-type {\n",
       "        vertical-align: middle;\n",
       "    }\n",
       "\n",
       "    .dataframe tbody tr th {\n",
       "        vertical-align: top;\n",
       "    }\n",
       "\n",
       "    .dataframe thead th {\n",
       "        text-align: right;\n",
       "    }\n",
       "</style>\n",
       "<table border=\"1\" class=\"dataframe\">\n",
       "  <thead>\n",
       "    <tr style=\"text-align: right;\">\n",
       "      <th></th>\n",
       "      <th>skid</th>\n",
       "      <th>fecha</th>\n",
       "      <th>hora</th>\n",
       "      <th>time</th>\n",
       "      <th>orders</th>\n",
       "      <th>ganancia</th>\n",
       "      <th>tenia_cupo</th>\n",
       "    </tr>\n",
       "  </thead>\n",
       "  <tbody>\n",
       "    <tr>\n",
       "      <th>0</th>\n",
       "      <td>1</td>\n",
       "      <td>2018-10-01</td>\n",
       "      <td>0</td>\n",
       "      <td>1.283333</td>\n",
       "      <td>NaN</td>\n",
       "      <td>NaN</td>\n",
       "      <td>No</td>\n",
       "    </tr>\n",
       "    <tr>\n",
       "      <th>1</th>\n",
       "      <td>1</td>\n",
       "      <td>2018-10-01</td>\n",
       "      <td>1</td>\n",
       "      <td>1.350000</td>\n",
       "      <td>NaN</td>\n",
       "      <td>NaN</td>\n",
       "      <td>No</td>\n",
       "    </tr>\n",
       "    <tr>\n",
       "      <th>2</th>\n",
       "      <td>1</td>\n",
       "      <td>2018-10-01</td>\n",
       "      <td>2</td>\n",
       "      <td>1.650000</td>\n",
       "      <td>NaN</td>\n",
       "      <td>NaN</td>\n",
       "      <td>No</td>\n",
       "    </tr>\n",
       "    <tr>\n",
       "      <th>3</th>\n",
       "      <td>1</td>\n",
       "      <td>2018-10-01</td>\n",
       "      <td>3</td>\n",
       "      <td>1.400000</td>\n",
       "      <td>NaN</td>\n",
       "      <td>NaN</td>\n",
       "      <td>No</td>\n",
       "    </tr>\n",
       "    <tr>\n",
       "      <th>4</th>\n",
       "      <td>1</td>\n",
       "      <td>2018-10-01</td>\n",
       "      <td>4</td>\n",
       "      <td>1.383333</td>\n",
       "      <td>NaN</td>\n",
       "      <td>NaN</td>\n",
       "      <td>No</td>\n",
       "    </tr>\n",
       "    <tr>\n",
       "      <th>5</th>\n",
       "      <td>1</td>\n",
       "      <td>2018-10-01</td>\n",
       "      <td>5</td>\n",
       "      <td>1.516667</td>\n",
       "      <td>NaN</td>\n",
       "      <td>NaN</td>\n",
       "      <td>No</td>\n",
       "    </tr>\n",
       "    <tr>\n",
       "      <th>6</th>\n",
       "      <td>1</td>\n",
       "      <td>2018-10-01</td>\n",
       "      <td>6</td>\n",
       "      <td>1.450000</td>\n",
       "      <td>NaN</td>\n",
       "      <td>NaN</td>\n",
       "      <td>No</td>\n",
       "    </tr>\n",
       "    <tr>\n",
       "      <th>7</th>\n",
       "      <td>1</td>\n",
       "      <td>2018-10-01</td>\n",
       "      <td>7</td>\n",
       "      <td>1.700000</td>\n",
       "      <td>NaN</td>\n",
       "      <td>NaN</td>\n",
       "      <td>No</td>\n",
       "    </tr>\n",
       "    <tr>\n",
       "      <th>8</th>\n",
       "      <td>1</td>\n",
       "      <td>2018-10-01</td>\n",
       "      <td>8</td>\n",
       "      <td>1.600000</td>\n",
       "      <td>NaN</td>\n",
       "      <td>NaN</td>\n",
       "      <td>No</td>\n",
       "    </tr>\n",
       "    <tr>\n",
       "      <th>9</th>\n",
       "      <td>1</td>\n",
       "      <td>2018-10-01</td>\n",
       "      <td>9</td>\n",
       "      <td>2.033333</td>\n",
       "      <td>NaN</td>\n",
       "      <td>NaN</td>\n",
       "      <td>No</td>\n",
       "    </tr>\n",
       "  </tbody>\n",
       "</table>\n",
       "</div>"
      ],
      "text/plain": [
       "   skid      fecha  hora      time  orders  ganancia tenia_cupo\n",
       "0     1 2018-10-01     0  1.283333     NaN       NaN         No\n",
       "1     1 2018-10-01     1  1.350000     NaN       NaN         No\n",
       "2     1 2018-10-01     2  1.650000     NaN       NaN         No\n",
       "3     1 2018-10-01     3  1.400000     NaN       NaN         No\n",
       "4     1 2018-10-01     4  1.383333     NaN       NaN         No\n",
       "5     1 2018-10-01     5  1.516667     NaN       NaN         No\n",
       "6     1 2018-10-01     6  1.450000     NaN       NaN         No\n",
       "7     1 2018-10-01     7  1.700000     NaN       NaN         No\n",
       "8     1 2018-10-01     8  1.600000     NaN       NaN         No\n",
       "9     1 2018-10-01     9  2.033333     NaN       NaN         No"
      ]
     },
     "execution_count": 13,
     "metadata": {},
     "output_type": "execute_result"
    }
   ],
   "source": [
    "df_calcGarantias.head(10)"
   ]
  },
  {
   "cell_type": "code",
   "execution_count": 14,
   "metadata": {},
   "outputs": [],
   "source": [
    "df_calcGarantias.insert(6,\"Total Pedidos\",0)"
   ]
  },
  {
   "cell_type": "code",
   "execution_count": 15,
   "metadata": {},
   "outputs": [],
   "source": [
    "df_calcGarantias.insert(7,\"garantia horas\",0)"
   ]
  },
  {
   "cell_type": "code",
   "execution_count": 16,
   "metadata": {},
   "outputs": [],
   "source": [
    "df_calcGarantias.insert(8,\"garantia especial\",0)"
   ]
  },
  {
   "cell_type": "code",
   "execution_count": 17,
   "metadata": {
    "scrolled": true
   },
   "outputs": [],
   "source": [
    "#df con horas para garantia\n",
    "df_calcGarantias = df_calcGarantias.fillna(0)"
   ]
  },
  {
   "cell_type": "code",
   "execution_count": 18,
   "metadata": {},
   "outputs": [],
   "source": [
    "dias_trabajados = dias_trabajados.sum().reset_index()"
   ]
  },
  {
   "cell_type": "code",
   "execution_count": 19,
   "metadata": {
    "scrolled": true
   },
   "outputs": [
    {
     "data": {
      "text/plain": [
       "skid\n",
       "1        8\n",
       "10042    3\n",
       "10045    1\n",
       "10047    7\n",
       "10048    8\n",
       "10050    2\n",
       "10057    4\n",
       "10059    8\n",
       "10061    5\n",
       "10065    4\n",
       "Name: fecha, dtype: int64"
      ]
     },
     "execution_count": 19,
     "metadata": {},
     "output_type": "execute_result"
    }
   ],
   "source": [
    "#Suma total Dias Trabajados por RT\n",
    "dtrab = dias_trabajados.groupby('skid').fecha.count()\n",
    "dtrab.head(10)"
   ]
  },
  {
   "cell_type": "code",
   "execution_count": 20,
   "metadata": {
    "scrolled": true
   },
   "outputs": [],
   "source": [
    "df_debt = df_debt.sort_values('storekeeper_id',ascending = True)\n",
    "df_debt['total'] = df_debt['total'].astype(int)"
   ]
  },
  {
   "cell_type": "code",
   "execution_count": 21,
   "metadata": {
    "scrolled": true
   },
   "outputs": [
    {
     "data": {
      "text/html": [
       "<div>\n",
       "<style scoped>\n",
       "    .dataframe tbody tr th:only-of-type {\n",
       "        vertical-align: middle;\n",
       "    }\n",
       "\n",
       "    .dataframe tbody tr th {\n",
       "        vertical-align: top;\n",
       "    }\n",
       "\n",
       "    .dataframe thead th {\n",
       "        text-align: right;\n",
       "    }\n",
       "</style>\n",
       "<table border=\"1\" class=\"dataframe\">\n",
       "  <thead>\n",
       "    <tr style=\"text-align: right;\">\n",
       "      <th></th>\n",
       "      <th>dispersion_id</th>\n",
       "      <th>storekeeper_id</th>\n",
       "      <th>created_at</th>\n",
       "      <th>name</th>\n",
       "      <th>model_id</th>\n",
       "      <th>total</th>\n",
       "    </tr>\n",
       "  </thead>\n",
       "  <tbody>\n",
       "    <tr>\n",
       "      <th>258</th>\n",
       "      <td>315544</td>\n",
       "      <td>10042</td>\n",
       "      <td>2018-10-01 19:10:23.863</td>\n",
       "      <td>cash_base</td>\n",
       "      <td>241626</td>\n",
       "      <td>-4000</td>\n",
       "    </tr>\n",
       "    <tr>\n",
       "      <th>4758</th>\n",
       "      <td>348832</td>\n",
       "      <td>10042</td>\n",
       "      <td>2018-10-06 17:38:34.697</td>\n",
       "      <td>cash_base</td>\n",
       "      <td>267737</td>\n",
       "      <td>-347</td>\n",
       "    </tr>\n",
       "    <tr>\n",
       "      <th>2526</th>\n",
       "      <td>329027</td>\n",
       "      <td>10042</td>\n",
       "      <td>2018-10-04 11:46:08.989</td>\n",
       "      <td>debt_by_balance</td>\n",
       "      <td>14</td>\n",
       "      <td>-1175</td>\n",
       "    </tr>\n",
       "  </tbody>\n",
       "</table>\n",
       "</div>"
      ],
      "text/plain": [
       "      dispersion_id  storekeeper_id              created_at             name  \\\n",
       "258          315544           10042 2018-10-01 19:10:23.863        cash_base   \n",
       "4758         348832           10042 2018-10-06 17:38:34.697        cash_base   \n",
       "2526         329027           10042 2018-10-04 11:46:08.989  debt_by_balance   \n",
       "\n",
       "      model_id  total  \n",
       "258     241626  -4000  \n",
       "4758    267737   -347  \n",
       "2526        14  -1175  "
      ]
     },
     "execution_count": 21,
     "metadata": {},
     "output_type": "execute_result"
    }
   ],
   "source": [
    "df_debt[df_debt['storekeeper_id']== 10042]"
   ]
  },
  {
   "cell_type": "code",
   "execution_count": 22,
   "metadata": {},
   "outputs": [],
   "source": [
    "df_earn = df_earn.sort_values('storekeeper_id',ascending = True)\n",
    "df_earn['total'] = df_earn['total'].astype(int)"
   ]
  },
  {
   "cell_type": "code",
   "execution_count": 23,
   "metadata": {},
   "outputs": [
    {
     "data": {
      "text/plain": [
       "Index(['storekeeper_id', 'created_at', 'name', 'model_id', 'total',\n",
       "       'description'],\n",
       "      dtype='object')"
      ]
     },
     "execution_count": 23,
     "metadata": {},
     "output_type": "execute_result"
    }
   ],
   "source": [
    "df_earn.columns"
   ]
  },
  {
   "cell_type": "code",
   "execution_count": 24,
   "metadata": {},
   "outputs": [],
   "source": [
    "#df_incentivos = pd.DataFrame(df_earn.groupby('description').total.sum())"
   ]
  },
  {
   "cell_type": "code",
   "execution_count": 25,
   "metadata": {},
   "outputs": [],
   "source": [
    "#df_incentivos"
   ]
  },
  {
   "cell_type": "markdown",
   "metadata": {},
   "source": [
    "Probar Despues:\n",
    "for i in df_calcGarantias.index:\n",
    "    df_calcGarantias['garantia horas'][i] = getMonto(25,df_calcGarantias['hora'][i],3)"
   ]
  },
  {
   "cell_type": "code",
   "execution_count": 26,
   "metadata": {},
   "outputs": [],
   "source": [
    "earn_res = df_earn.groupby('storekeeper_id')"
   ]
  },
  {
   "cell_type": "code",
   "execution_count": 27,
   "metadata": {},
   "outputs": [],
   "source": [
    "earn_res = earn_res.total.sum()"
   ]
  },
  {
   "cell_type": "code",
   "execution_count": 28,
   "metadata": {},
   "outputs": [],
   "source": [
    "df_ganancia = pd.DataFrame(earn_res)"
   ]
  },
  {
   "cell_type": "code",
   "execution_count": 29,
   "metadata": {
    "scrolled": true
   },
   "outputs": [
    {
     "data": {
      "text/html": [
       "<div>\n",
       "<style scoped>\n",
       "    .dataframe tbody tr th:only-of-type {\n",
       "        vertical-align: middle;\n",
       "    }\n",
       "\n",
       "    .dataframe tbody tr th {\n",
       "        vertical-align: top;\n",
       "    }\n",
       "\n",
       "    .dataframe thead th {\n",
       "        text-align: right;\n",
       "    }\n",
       "</style>\n",
       "<table border=\"1\" class=\"dataframe\">\n",
       "  <thead>\n",
       "    <tr style=\"text-align: right;\">\n",
       "      <th></th>\n",
       "      <th>total</th>\n",
       "    </tr>\n",
       "    <tr>\n",
       "      <th>storekeeper_id</th>\n",
       "      <th></th>\n",
       "    </tr>\n",
       "  </thead>\n",
       "  <tbody>\n",
       "    <tr>\n",
       "      <th>10042</th>\n",
       "      <td>17800</td>\n",
       "    </tr>\n",
       "    <tr>\n",
       "      <th>10047</th>\n",
       "      <td>81550</td>\n",
       "    </tr>\n",
       "    <tr>\n",
       "      <th>10048</th>\n",
       "      <td>146025</td>\n",
       "    </tr>\n",
       "    <tr>\n",
       "      <th>10057</th>\n",
       "      <td>36175</td>\n",
       "    </tr>\n",
       "    <tr>\n",
       "      <th>10059</th>\n",
       "      <td>202350</td>\n",
       "    </tr>\n",
       "    <tr>\n",
       "      <th>10065</th>\n",
       "      <td>134380</td>\n",
       "    </tr>\n",
       "    <tr>\n",
       "      <th>10066</th>\n",
       "      <td>124950</td>\n",
       "    </tr>\n",
       "    <tr>\n",
       "      <th>10067</th>\n",
       "      <td>88410</td>\n",
       "    </tr>\n",
       "    <tr>\n",
       "      <th>10070</th>\n",
       "      <td>17600</td>\n",
       "    </tr>\n",
       "    <tr>\n",
       "      <th>10082</th>\n",
       "      <td>134350</td>\n",
       "    </tr>\n",
       "  </tbody>\n",
       "</table>\n",
       "</div>"
      ],
      "text/plain": [
       "                 total\n",
       "storekeeper_id        \n",
       "10042            17800\n",
       "10047            81550\n",
       "10048           146025\n",
       "10057            36175\n",
       "10059           202350\n",
       "10065           134380\n",
       "10066           124950\n",
       "10067            88410\n",
       "10070            17600\n",
       "10082           134350"
      ]
     },
     "execution_count": 29,
     "metadata": {},
     "output_type": "execute_result"
    }
   ],
   "source": [
    "df_ganancia.head(10)"
   ]
  },
  {
   "cell_type": "code",
   "execution_count": 30,
   "metadata": {
    "scrolled": true
   },
   "outputs": [
    {
     "data": {
      "text/html": [
       "<div>\n",
       "<style scoped>\n",
       "    .dataframe tbody tr th:only-of-type {\n",
       "        vertical-align: middle;\n",
       "    }\n",
       "\n",
       "    .dataframe tbody tr th {\n",
       "        vertical-align: top;\n",
       "    }\n",
       "\n",
       "    .dataframe thead th {\n",
       "        text-align: right;\n",
       "    }\n",
       "</style>\n",
       "<table border=\"1\" class=\"dataframe\">\n",
       "  <thead>\n",
       "    <tr style=\"text-align: right;\">\n",
       "      <th></th>\n",
       "      <th>dispersion_id</th>\n",
       "      <th>storekeeper_id</th>\n",
       "      <th>created_at</th>\n",
       "      <th>name</th>\n",
       "      <th>model_id</th>\n",
       "      <th>total</th>\n",
       "    </tr>\n",
       "  </thead>\n",
       "  <tbody>\n",
       "    <tr>\n",
       "      <th>258</th>\n",
       "      <td>315544</td>\n",
       "      <td>10042</td>\n",
       "      <td>2018-10-01 19:10:23.863</td>\n",
       "      <td>cash_base</td>\n",
       "      <td>241626</td>\n",
       "      <td>-4000</td>\n",
       "    </tr>\n",
       "    <tr>\n",
       "      <th>4758</th>\n",
       "      <td>348832</td>\n",
       "      <td>10042</td>\n",
       "      <td>2018-10-06 17:38:34.697</td>\n",
       "      <td>cash_base</td>\n",
       "      <td>267737</td>\n",
       "      <td>-347</td>\n",
       "    </tr>\n",
       "    <tr>\n",
       "      <th>2526</th>\n",
       "      <td>329027</td>\n",
       "      <td>10042</td>\n",
       "      <td>2018-10-04 11:46:08.989</td>\n",
       "      <td>debt_by_balance</td>\n",
       "      <td>14</td>\n",
       "      <td>-1175</td>\n",
       "    </tr>\n",
       "  </tbody>\n",
       "</table>\n",
       "</div>"
      ],
      "text/plain": [
       "      dispersion_id  storekeeper_id              created_at             name  \\\n",
       "258          315544           10042 2018-10-01 19:10:23.863        cash_base   \n",
       "4758         348832           10042 2018-10-06 17:38:34.697        cash_base   \n",
       "2526         329027           10042 2018-10-04 11:46:08.989  debt_by_balance   \n",
       "\n",
       "      model_id  total  \n",
       "258     241626  -4000  \n",
       "4758    267737   -347  \n",
       "2526        14  -1175  "
      ]
     },
     "execution_count": 30,
     "metadata": {},
     "output_type": "execute_result"
    }
   ],
   "source": [
    "df_debt[df_debt['storekeeper_id']==10042]"
   ]
  },
  {
   "cell_type": "code",
   "execution_count": 31,
   "metadata": {},
   "outputs": [],
   "source": [
    "debt_res = df_debt.groupby(['storekeeper_id','name'])"
   ]
  },
  {
   "cell_type": "code",
   "execution_count": 32,
   "metadata": {},
   "outputs": [],
   "source": [
    "debt_res = pd.DataFrame(debt_res.total.sum())"
   ]
  },
  {
   "cell_type": "code",
   "execution_count": 33,
   "metadata": {
    "scrolled": true
   },
   "outputs": [
    {
     "data": {
      "text/html": [
       "<div>\n",
       "<style scoped>\n",
       "    .dataframe tbody tr th:only-of-type {\n",
       "        vertical-align: middle;\n",
       "    }\n",
       "\n",
       "    .dataframe tbody tr th {\n",
       "        vertical-align: top;\n",
       "    }\n",
       "\n",
       "    .dataframe thead th {\n",
       "        text-align: right;\n",
       "    }\n",
       "</style>\n",
       "<table border=\"1\" class=\"dataframe\">\n",
       "  <thead>\n",
       "    <tr style=\"text-align: right;\">\n",
       "      <th></th>\n",
       "      <th></th>\n",
       "      <th>total</th>\n",
       "    </tr>\n",
       "    <tr>\n",
       "      <th>storekeeper_id</th>\n",
       "      <th>name</th>\n",
       "      <th></th>\n",
       "    </tr>\n",
       "  </thead>\n",
       "  <tbody>\n",
       "    <tr>\n",
       "      <th rowspan=\"2\" valign=\"top\">10042</th>\n",
       "      <th>cash_base</th>\n",
       "      <td>-4347</td>\n",
       "    </tr>\n",
       "    <tr>\n",
       "      <th>debt_by_balance</th>\n",
       "      <td>-1175</td>\n",
       "    </tr>\n",
       "    <tr>\n",
       "      <th>10043</th>\n",
       "      <th>debt_by_balance</th>\n",
       "      <td>-56000</td>\n",
       "    </tr>\n",
       "    <tr>\n",
       "      <th>10045</th>\n",
       "      <th>debt_by_balance</th>\n",
       "      <td>-4230</td>\n",
       "    </tr>\n",
       "    <tr>\n",
       "      <th>10046</th>\n",
       "      <th>debt_by_balance</th>\n",
       "      <td>-25000</td>\n",
       "    </tr>\n",
       "    <tr>\n",
       "      <th rowspan=\"3\" valign=\"top\">10047</th>\n",
       "      <th>cash_base</th>\n",
       "      <td>-11763</td>\n",
       "    </tr>\n",
       "    <tr>\n",
       "      <th>debt_by_balance</th>\n",
       "      <td>-167799</td>\n",
       "    </tr>\n",
       "    <tr>\n",
       "      <th>pay_debt</th>\n",
       "      <td>75025</td>\n",
       "    </tr>\n",
       "    <tr>\n",
       "      <th rowspan=\"2\" valign=\"top\">10048</th>\n",
       "      <th>cash_base</th>\n",
       "      <td>-111531</td>\n",
       "    </tr>\n",
       "    <tr>\n",
       "      <th>debt_by_balance</th>\n",
       "      <td>-94862</td>\n",
       "    </tr>\n",
       "  </tbody>\n",
       "</table>\n",
       "</div>"
      ],
      "text/plain": [
       "                                 total\n",
       "storekeeper_id name                   \n",
       "10042          cash_base         -4347\n",
       "               debt_by_balance   -1175\n",
       "10043          debt_by_balance  -56000\n",
       "10045          debt_by_balance   -4230\n",
       "10046          debt_by_balance  -25000\n",
       "10047          cash_base        -11763\n",
       "               debt_by_balance -167799\n",
       "               pay_debt          75025\n",
       "10048          cash_base       -111531\n",
       "               debt_by_balance  -94862"
      ]
     },
     "execution_count": 33,
     "metadata": {},
     "output_type": "execute_result"
    }
   ],
   "source": [
    "debt_res.head(10)"
   ]
  },
  {
   "cell_type": "code",
   "execution_count": 34,
   "metadata": {},
   "outputs": [],
   "source": [
    "#Resumen total deuda\n",
    "df_deuda = pd.DataFrame(debt_res)\n",
    "df_deuda = df_deuda.groupby('storekeeper_id').total.sum()"
   ]
  },
  {
   "cell_type": "code",
   "execution_count": 35,
   "metadata": {},
   "outputs": [],
   "source": [
    "df_deuda2 = pd.DataFrame(df_deuda)"
   ]
  },
  {
   "cell_type": "code",
   "execution_count": 36,
   "metadata": {},
   "outputs": [
    {
     "data": {
      "text/html": [
       "<div>\n",
       "<style scoped>\n",
       "    .dataframe tbody tr th:only-of-type {\n",
       "        vertical-align: middle;\n",
       "    }\n",
       "\n",
       "    .dataframe tbody tr th {\n",
       "        vertical-align: top;\n",
       "    }\n",
       "\n",
       "    .dataframe thead th {\n",
       "        text-align: right;\n",
       "    }\n",
       "</style>\n",
       "<table border=\"1\" class=\"dataframe\">\n",
       "  <thead>\n",
       "    <tr style=\"text-align: right;\">\n",
       "      <th></th>\n",
       "      <th>total</th>\n",
       "    </tr>\n",
       "    <tr>\n",
       "      <th>storekeeper_id</th>\n",
       "      <th></th>\n",
       "    </tr>\n",
       "  </thead>\n",
       "  <tbody>\n",
       "    <tr>\n",
       "      <th>10042</th>\n",
       "      <td>-5522</td>\n",
       "    </tr>\n",
       "    <tr>\n",
       "      <th>10043</th>\n",
       "      <td>-56000</td>\n",
       "    </tr>\n",
       "    <tr>\n",
       "      <th>10045</th>\n",
       "      <td>-4230</td>\n",
       "    </tr>\n",
       "    <tr>\n",
       "      <th>10046</th>\n",
       "      <td>-25000</td>\n",
       "    </tr>\n",
       "    <tr>\n",
       "      <th>10047</th>\n",
       "      <td>-104537</td>\n",
       "    </tr>\n",
       "    <tr>\n",
       "      <th>10048</th>\n",
       "      <td>-16669</td>\n",
       "    </tr>\n",
       "    <tr>\n",
       "      <th>10049</th>\n",
       "      <td>-703530</td>\n",
       "    </tr>\n",
       "    <tr>\n",
       "      <th>10050</th>\n",
       "      <td>-2490</td>\n",
       "    </tr>\n",
       "    <tr>\n",
       "      <th>10054</th>\n",
       "      <td>-29102</td>\n",
       "    </tr>\n",
       "    <tr>\n",
       "      <th>10057</th>\n",
       "      <td>-184101</td>\n",
       "    </tr>\n",
       "  </tbody>\n",
       "</table>\n",
       "</div>"
      ],
      "text/plain": [
       "                 total\n",
       "storekeeper_id        \n",
       "10042            -5522\n",
       "10043           -56000\n",
       "10045            -4230\n",
       "10046           -25000\n",
       "10047          -104537\n",
       "10048           -16669\n",
       "10049          -703530\n",
       "10050            -2490\n",
       "10054           -29102\n",
       "10057          -184101"
      ]
     },
     "execution_count": 36,
     "metadata": {},
     "output_type": "execute_result"
    }
   ],
   "source": [
    "df_deuda2.head(10)"
   ]
  },
  {
   "cell_type": "code",
   "execution_count": 37,
   "metadata": {
    "scrolled": true
   },
   "outputs": [
    {
     "data": {
      "text/plain": [
       "storekeeper_id                                              1438437\n",
       "name              service_costtipservice_costservice_costtipserv...\n",
       "model_id                                                   35439344\n",
       "total                                                        202350\n",
       "dtype: object"
      ]
     },
     "execution_count": 37,
     "metadata": {},
     "output_type": "execute_result"
    }
   ],
   "source": [
    "df_earn[df_earn['storekeeper_id']==10059].sum()"
   ]
  },
  {
   "cell_type": "code",
   "execution_count": 38,
   "metadata": {},
   "outputs": [
    {
     "data": {
      "text/plain": [
       "47989817"
      ]
     },
     "execution_count": 38,
     "metadata": {},
     "output_type": "execute_result"
    }
   ],
   "source": [
    "#Total Ganado Semana\n",
    "df_ganancia['total'].values.ravel().sum()"
   ]
  },
  {
   "cell_type": "code",
   "execution_count": 39,
   "metadata": {},
   "outputs": [
    {
     "data": {
      "text/plain": [
       "-97924314"
      ]
     },
     "execution_count": 39,
     "metadata": {},
     "output_type": "execute_result"
    }
   ],
   "source": [
    "#Total Cobros Semana\n",
    "df_debt['total'].values.ravel().sum()"
   ]
  },
  {
   "cell_type": "code",
   "execution_count": 40,
   "metadata": {},
   "outputs": [],
   "source": [
    "df_final = pd.merge(df_ganancia,df_deuda2,how='outer',on = 'storekeeper_id')\n",
    "df_final = df_final.fillna(0).sort_values('storekeeper_id')\n",
    "df_final.insert(2,'Total a Pagar', df_final.total_x + df_final.total_y)"
   ]
  },
  {
   "cell_type": "code",
   "execution_count": 41,
   "metadata": {},
   "outputs": [],
   "source": [
    "df_garantias = df_earn[df_earn['name']=='service_cost']"
   ]
  },
  {
   "cell_type": "code",
   "execution_count": 42,
   "metadata": {},
   "outputs": [
    {
     "data": {
      "text/plain": [
       "-97924314"
      ]
     },
     "execution_count": 42,
     "metadata": {},
     "output_type": "execute_result"
    }
   ],
   "source": [
    "#Total Cobros Semana\n",
    "df_debt['total'].values.ravel().sum()"
   ]
  },
  {
   "cell_type": "code",
   "execution_count": 43,
   "metadata": {},
   "outputs": [],
   "source": [
    "#Dataframe con Total de Ordenes por RT\n",
    "df_ppay = df_garantias.groupby('storekeeper_id').total.count()\n",
    "df_ppay2 = pd.DataFrame(df_ppay)\n",
    "df_ppay2 = df_ppay2.reset_index()"
   ]
  },
  {
   "cell_type": "code",
   "execution_count": 44,
   "metadata": {
    "scrolled": true
   },
   "outputs": [
    {
     "data": {
      "text/html": [
       "<div>\n",
       "<style scoped>\n",
       "    .dataframe tbody tr th:only-of-type {\n",
       "        vertical-align: middle;\n",
       "    }\n",
       "\n",
       "    .dataframe tbody tr th {\n",
       "        vertical-align: top;\n",
       "    }\n",
       "\n",
       "    .dataframe thead th {\n",
       "        text-align: right;\n",
       "    }\n",
       "</style>\n",
       "<table border=\"1\" class=\"dataframe\">\n",
       "  <thead>\n",
       "    <tr style=\"text-align: right;\">\n",
       "      <th></th>\n",
       "      <th>dispersion_id</th>\n",
       "      <th>storekeeper_id</th>\n",
       "      <th>created_at</th>\n",
       "      <th>name</th>\n",
       "      <th>model_id</th>\n",
       "      <th>total</th>\n",
       "    </tr>\n",
       "  </thead>\n",
       "  <tbody>\n",
       "    <tr>\n",
       "      <th>4331</th>\n",
       "      <td>341500</td>\n",
       "      <td>10640</td>\n",
       "      <td>2018-10-05 18:36:42.113</td>\n",
       "      <td>order_not_delivered_manual_debt</td>\n",
       "      <td>5361</td>\n",
       "      <td>-3600</td>\n",
       "    </tr>\n",
       "    <tr>\n",
       "      <th>2464</th>\n",
       "      <td>328490</td>\n",
       "      <td>10702</td>\n",
       "      <td>2018-10-04 00:01:48.878</td>\n",
       "      <td>order_not_delivered_manual_debt</td>\n",
       "      <td>5288</td>\n",
       "      <td>-47400</td>\n",
       "    </tr>\n",
       "    <tr>\n",
       "      <th>2002</th>\n",
       "      <td>324510</td>\n",
       "      <td>10803</td>\n",
       "      <td>2018-10-03 16:38:18.486</td>\n",
       "      <td>order_not_delivered_manual_debt</td>\n",
       "      <td>5279</td>\n",
       "      <td>-15900</td>\n",
       "    </tr>\n",
       "    <tr>\n",
       "      <th>3674</th>\n",
       "      <td>333221</td>\n",
       "      <td>10944</td>\n",
       "      <td>2018-10-04 18:04:45.112</td>\n",
       "      <td>order_not_delivered_manual_debt</td>\n",
       "      <td>5303</td>\n",
       "      <td>-38758</td>\n",
       "    </tr>\n",
       "    <tr>\n",
       "      <th>2116</th>\n",
       "      <td>325443</td>\n",
       "      <td>11063</td>\n",
       "      <td>2018-10-03 19:15:11.793</td>\n",
       "      <td>order_not_delivered_manual_debt</td>\n",
       "      <td>5287</td>\n",
       "      <td>-68400</td>\n",
       "    </tr>\n",
       "    <tr>\n",
       "      <th>3698</th>\n",
       "      <td>333456</td>\n",
       "      <td>11262</td>\n",
       "      <td>2018-10-04 18:40:01.169</td>\n",
       "      <td>order_not_delivered_manual_debt</td>\n",
       "      <td>5304</td>\n",
       "      <td>-15880</td>\n",
       "    </tr>\n",
       "    <tr>\n",
       "      <th>4039</th>\n",
       "      <td>338970</td>\n",
       "      <td>11262</td>\n",
       "      <td>2018-10-05 14:35:02.313</td>\n",
       "      <td>order_not_delivered_manual_debt</td>\n",
       "      <td>5350</td>\n",
       "      <td>-13980</td>\n",
       "    </tr>\n",
       "    <tr>\n",
       "      <th>2042</th>\n",
       "      <td>324834</td>\n",
       "      <td>11666</td>\n",
       "      <td>2018-10-03 17:46:31.045</td>\n",
       "      <td>order_not_delivered_manual_debt</td>\n",
       "      <td>5282</td>\n",
       "      <td>-44520</td>\n",
       "    </tr>\n",
       "    <tr>\n",
       "      <th>2114</th>\n",
       "      <td>325429</td>\n",
       "      <td>11782</td>\n",
       "      <td>2018-10-03 19:14:00.238</td>\n",
       "      <td>order_not_delivered_manual_debt</td>\n",
       "      <td>5286</td>\n",
       "      <td>-23760</td>\n",
       "    </tr>\n",
       "    <tr>\n",
       "      <th>2111</th>\n",
       "      <td>325408</td>\n",
       "      <td>11782</td>\n",
       "      <td>2018-10-03 19:12:43.326</td>\n",
       "      <td>order_not_delivered_manual_debt</td>\n",
       "      <td>5285</td>\n",
       "      <td>-68400</td>\n",
       "    </tr>\n",
       "    <tr>\n",
       "      <th>2502</th>\n",
       "      <td>328791</td>\n",
       "      <td>12000</td>\n",
       "      <td>2018-10-04 10:11:58.835</td>\n",
       "      <td>order_not_delivered_manual_debt</td>\n",
       "      <td>5290</td>\n",
       "      <td>-10490</td>\n",
       "    </tr>\n",
       "    <tr>\n",
       "      <th>2052</th>\n",
       "      <td>324892</td>\n",
       "      <td>12255</td>\n",
       "      <td>2018-10-03 17:59:31.744</td>\n",
       "      <td>order_not_delivered_manual_debt</td>\n",
       "      <td>5283</td>\n",
       "      <td>-3725</td>\n",
       "    </tr>\n",
       "  </tbody>\n",
       "</table>\n",
       "</div>"
      ],
      "text/plain": [
       "      dispersion_id  storekeeper_id              created_at  \\\n",
       "4331         341500           10640 2018-10-05 18:36:42.113   \n",
       "2464         328490           10702 2018-10-04 00:01:48.878   \n",
       "2002         324510           10803 2018-10-03 16:38:18.486   \n",
       "3674         333221           10944 2018-10-04 18:04:45.112   \n",
       "2116         325443           11063 2018-10-03 19:15:11.793   \n",
       "3698         333456           11262 2018-10-04 18:40:01.169   \n",
       "4039         338970           11262 2018-10-05 14:35:02.313   \n",
       "2042         324834           11666 2018-10-03 17:46:31.045   \n",
       "2114         325429           11782 2018-10-03 19:14:00.238   \n",
       "2111         325408           11782 2018-10-03 19:12:43.326   \n",
       "2502         328791           12000 2018-10-04 10:11:58.835   \n",
       "2052         324892           12255 2018-10-03 17:59:31.744   \n",
       "\n",
       "                                 name  model_id  total  \n",
       "4331  order_not_delivered_manual_debt      5361  -3600  \n",
       "2464  order_not_delivered_manual_debt      5288 -47400  \n",
       "2002  order_not_delivered_manual_debt      5279 -15900  \n",
       "3674  order_not_delivered_manual_debt      5303 -38758  \n",
       "2116  order_not_delivered_manual_debt      5287 -68400  \n",
       "3698  order_not_delivered_manual_debt      5304 -15880  \n",
       "4039  order_not_delivered_manual_debt      5350 -13980  \n",
       "2042  order_not_delivered_manual_debt      5282 -44520  \n",
       "2114  order_not_delivered_manual_debt      5286 -23760  \n",
       "2111  order_not_delivered_manual_debt      5285 -68400  \n",
       "2502  order_not_delivered_manual_debt      5290 -10490  \n",
       "2052  order_not_delivered_manual_debt      5283  -3725  "
      ]
     },
     "execution_count": 44,
     "metadata": {},
     "output_type": "execute_result"
    }
   ],
   "source": [
    "df_debt[df_debt['name']=='order_not_delivered_manual_debt'].sort_values('storekeeper_id')"
   ]
  },
  {
   "cell_type": "code",
   "execution_count": 45,
   "metadata": {},
   "outputs": [],
   "source": [
    "df_final = df_final.rename(columns= {'total_x':'Total Produccion S/Garantias','total_y':'Total Deuda'})"
   ]
  },
  {
   "cell_type": "code",
   "execution_count": 46,
   "metadata": {},
   "outputs": [
    {
     "data": {
      "text/html": [
       "<div>\n",
       "<style scoped>\n",
       "    .dataframe tbody tr th:only-of-type {\n",
       "        vertical-align: middle;\n",
       "    }\n",
       "\n",
       "    .dataframe tbody tr th {\n",
       "        vertical-align: top;\n",
       "    }\n",
       "\n",
       "    .dataframe thead th {\n",
       "        text-align: right;\n",
       "    }\n",
       "</style>\n",
       "<table border=\"1\" class=\"dataframe\">\n",
       "  <thead>\n",
       "    <tr style=\"text-align: right;\">\n",
       "      <th></th>\n",
       "      <th>storekeeper_id</th>\n",
       "      <th>Total Produccion S/Garantias</th>\n",
       "      <th>Total Deuda</th>\n",
       "      <th>Total a Pagar</th>\n",
       "    </tr>\n",
       "  </thead>\n",
       "  <tbody>\n",
       "    <tr>\n",
       "      <th>303</th>\n",
       "      <td>10736</td>\n",
       "      <td>1400.0</td>\n",
       "      <td>0.0</td>\n",
       "      <td>1400.0</td>\n",
       "    </tr>\n",
       "  </tbody>\n",
       "</table>\n",
       "</div>"
      ],
      "text/plain": [
       "     storekeeper_id  Total Produccion S/Garantias  Total Deuda  Total a Pagar\n",
       "303           10736                        1400.0          0.0         1400.0"
      ]
     },
     "execution_count": 46,
     "metadata": {},
     "output_type": "execute_result"
    }
   ],
   "source": [
    "df_final = df_final.reset_index()\n",
    "df_final[df_final['storekeeper_id']==10736]"
   ]
  },
  {
   "cell_type": "code",
   "execution_count": 48,
   "metadata": {},
   "outputs": [],
   "source": [
    "writer = pd.ExcelWriter('C:/Users/mromo/Desktop/Rappi/Datasets/S'+semana+'/Resumen S'+semana+'.xlsx')\n",
    "df_earn.to_excel(writer,'Resumen Ganancia')\n",
    "df_debt.to_excel(writer,'Resumen Deuda')\n",
    "df_final.to_excel(writer,'Prod-Deuda')\n",
    "df_calcGarantias.to_excel(writer, 'Calculo Garantias')\n",
    "df_ppay2.to_excel(writer, 'Ordenes Totales')\n",
    "df_resumen.to_excel(writer, 'Totales')\n",
    "writer.save()\n",
    "writer.close()"
   ]
  },
  {
   "cell_type": "markdown",
   "metadata": {},
   "source": [
    "Agregar Glosa + Fecha para info que aparecera en la notificacion de la aplicacion."
   ]
  },
  {
   "cell_type": "code",
   "execution_count": 49,
   "metadata": {
    "scrolled": true
   },
   "outputs": [],
   "source": [
    "dtrab.to_excel('C:/Users/mromo/Desktop/Rappi/Datasets/S'+semana+'/Dias Trabajados.xlsx')\n",
    "df_final.to_excel('C:/Users/mromo/Desktop/Rappi/Datasets/S'+semana+'/Pagos S'+semana+'.xlsx')"
   ]
  },
  {
   "cell_type": "code",
   "execution_count": 50,
   "metadata": {},
   "outputs": [],
   "source": [
    "#df_incentivos.to_excel('C:/Users/mromo/Desktop/Rappi/Datasets/S'+semana+'/Detalle Incentivos.xlsx')"
   ]
  },
  {
   "cell_type": "code",
   "execution_count": 51,
   "metadata": {},
   "outputs": [],
   "source": [
    "df_vina.to_excel('C:/Users/mromo/Desktop/Rappi/Datasets/S'+semana+'/Info Conexion '+semana+' - Viña.xlsx')"
   ]
  },
  {
   "cell_type": "code",
   "execution_count": 53,
   "metadata": {},
   "outputs": [],
   "source": [
    "pagos_vina = df_earn[df_earn['storekeeper_id'].isin(ids_vina)]"
   ]
  },
  {
   "cell_type": "code",
   "execution_count": 54,
   "metadata": {},
   "outputs": [
    {
     "data": {
      "text/html": [
       "<div>\n",
       "<style scoped>\n",
       "    .dataframe tbody tr th:only-of-type {\n",
       "        vertical-align: middle;\n",
       "    }\n",
       "\n",
       "    .dataframe tbody tr th {\n",
       "        vertical-align: top;\n",
       "    }\n",
       "\n",
       "    .dataframe thead th {\n",
       "        text-align: right;\n",
       "    }\n",
       "</style>\n",
       "<table border=\"1\" class=\"dataframe\">\n",
       "  <thead>\n",
       "    <tr style=\"text-align: right;\">\n",
       "      <th></th>\n",
       "      <th>storekeeper_id</th>\n",
       "      <th>total</th>\n",
       "    </tr>\n",
       "  </thead>\n",
       "  <tbody>\n",
       "    <tr>\n",
       "      <th>0</th>\n",
       "      <td>10440</td>\n",
       "      <td>2000</td>\n",
       "    </tr>\n",
       "    <tr>\n",
       "      <th>1</th>\n",
       "      <td>12066</td>\n",
       "      <td>8025</td>\n",
       "    </tr>\n",
       "    <tr>\n",
       "      <th>2</th>\n",
       "      <td>12083</td>\n",
       "      <td>11200</td>\n",
       "    </tr>\n",
       "    <tr>\n",
       "      <th>3</th>\n",
       "      <td>12084</td>\n",
       "      <td>2900</td>\n",
       "    </tr>\n",
       "    <tr>\n",
       "      <th>4</th>\n",
       "      <td>12098</td>\n",
       "      <td>7000</td>\n",
       "    </tr>\n",
       "    <tr>\n",
       "      <th>5</th>\n",
       "      <td>12099</td>\n",
       "      <td>2500</td>\n",
       "    </tr>\n",
       "    <tr>\n",
       "      <th>6</th>\n",
       "      <td>12140</td>\n",
       "      <td>2500</td>\n",
       "    </tr>\n",
       "    <tr>\n",
       "      <th>7</th>\n",
       "      <td>12141</td>\n",
       "      <td>3000</td>\n",
       "    </tr>\n",
       "    <tr>\n",
       "      <th>8</th>\n",
       "      <td>12212</td>\n",
       "      <td>3000</td>\n",
       "    </tr>\n",
       "    <tr>\n",
       "      <th>9</th>\n",
       "      <td>12243</td>\n",
       "      <td>8000</td>\n",
       "    </tr>\n",
       "    <tr>\n",
       "      <th>10</th>\n",
       "      <td>12246</td>\n",
       "      <td>32575</td>\n",
       "    </tr>\n",
       "    <tr>\n",
       "      <th>11</th>\n",
       "      <td>12247</td>\n",
       "      <td>6500</td>\n",
       "    </tr>\n",
       "    <tr>\n",
       "      <th>12</th>\n",
       "      <td>12254</td>\n",
       "      <td>6000</td>\n",
       "    </tr>\n",
       "    <tr>\n",
       "      <th>13</th>\n",
       "      <td>12326</td>\n",
       "      <td>11500</td>\n",
       "    </tr>\n",
       "    <tr>\n",
       "      <th>14</th>\n",
       "      <td>12391</td>\n",
       "      <td>2500</td>\n",
       "    </tr>\n",
       "  </tbody>\n",
       "</table>\n",
       "</div>"
      ],
      "text/plain": [
       "    storekeeper_id  total\n",
       "0            10440   2000\n",
       "1            12066   8025\n",
       "2            12083  11200\n",
       "3            12084   2900\n",
       "4            12098   7000\n",
       "5            12099   2500\n",
       "6            12140   2500\n",
       "7            12141   3000\n",
       "8            12212   3000\n",
       "9            12243   8000\n",
       "10           12246  32575\n",
       "11           12247   6500\n",
       "12           12254   6000\n",
       "13           12326  11500\n",
       "14           12391   2500"
      ]
     },
     "execution_count": 54,
     "metadata": {},
     "output_type": "execute_result"
    }
   ],
   "source": [
    "pagos_vina.groupby('storekeeper_id').total.sum().reset_index()"
   ]
  },
  {
   "cell_type": "code",
   "execution_count": null,
   "metadata": {},
   "outputs": [],
   "source": []
  }
 ],
 "metadata": {
  "kernelspec": {
   "display_name": "Python 3",
   "language": "python",
   "name": "python3"
  },
  "language_info": {
   "codemirror_mode": {
    "name": "ipython",
    "version": 3
   },
   "file_extension": ".py",
   "mimetype": "text/x-python",
   "name": "python",
   "nbconvert_exporter": "python",
   "pygments_lexer": "ipython3",
   "version": "3.6.5"
  }
 },
 "nbformat": 4,
 "nbformat_minor": 2
}
