{
 "cells": [
  {
   "cell_type": "code",
   "execution_count": 1,
   "metadata": {},
   "outputs": [],
   "source": [
    "import pandas as pd\n",
    "import numpy as np\n",
    "import os"
   ]
  },
  {
   "cell_type": "code",
   "execution_count": 2,
   "metadata": {},
   "outputs": [
    {
     "name": "stdout",
     "output_type": "stream",
     "text": [
      "Ingrese Semana: 40-2\n"
     ]
    }
   ],
   "source": [
    "semana = input(\"Ingrese Semana: \")"
   ]
  },
  {
   "cell_type": "markdown",
   "metadata": {},
   "source": [
    "# Carga de Datos"
   ]
  },
  {
   "cell_type": "code",
   "execution_count": 3,
   "metadata": {},
   "outputs": [],
   "source": [
    "mainpath = \"C:/Users/mromo/Desktop/Rappi/Datasets/S\"+semana+\"/Data\"\n",
    "ganancias_path = \"Detalle Ganancia S\"+semana+\".csv\"\n",
    "deuda_path = \"Detalle Deuda S\"+semana+\".csv\"\n",
    "dmanual_path = \"Deuda Manual S\"+semana+\".csv\"\n",
    "garantias_path = \"Garantias Semanales.xlsx\"\n",
    "conexion_path = \"Info Conexion.csv\"\n",
    "incentivos_path = \"Incentivos Sem \"+semana+\".xlsx\"\n",
    "\n",
    "fp_earn = os.path.join(mainpath,ganancias_path)\n",
    "fp_debt = os.path.join(mainpath,deuda_path)\n",
    "fp_mandebt = os.path.join(mainpath,dmanual_path)\n",
    "fp_garantias = os.path.join(mainpath,garantias_path)\n",
    "fp_incentivos = os.path.join(mainpath,incentivos_path)\n",
    "fp_conexion = os.path.join(mainpath,conexion_path)"
   ]
  },
  {
   "cell_type": "markdown",
   "metadata": {},
   "source": [
    "# Data Frames"
   ]
  },
  {
   "cell_type": "code",
   "execution_count": 4,
   "metadata": {},
   "outputs": [],
   "source": [
    "df_earn = pd.read_csv(fp_earn, parse_dates = ['created_at'])\n",
    "df_debt = pd.read_csv(fp_debt, parse_dates = ['created_at'])\n",
    "df_mandebt= pd.read_csv(fp_mandebt, parse_dates = ['created_at'])\n",
    "#df_bonus25 = pd.read_excel(fp_incentivos, sheet_name = 'P25')\n",
    "#df_bonus60 = pd.read_excel(fp_incentivos, sheet_name = 'P60')\n",
    "#df_vBonus = pd.read_excel(fp_incentivos, sheet_name = 'Incentivos por Dia')\n",
    "df_conexion = pd.read_csv(fp_conexion, parse_dates = ['fecha'])"
   ]
  },
  {
   "cell_type": "code",
   "execution_count": 5,
   "metadata": {},
   "outputs": [],
   "source": [
    "ids_vina = [10440, 12061, 12062, 12064, 12065, 12066, 12068, 12081,12082,12083,12084,12085,12086,12088,12391,12096,\n",
    "12098,12097,12099,12138,12140,12141,12142,12208,12145,12212,12209,12211,12244,12241,12242,12250,\n",
    "12249,12243,12247,12248,12246,12245,12253,12254,12302,12319,12326,12325,12310,12460]\n",
    "df_vina = df_conexion[df_conexion['skid'].isin(ids_vina)]"
   ]
  },
  {
   "cell_type": "markdown",
   "metadata": {
    "scrolled": true
   },
   "source": [
    "df_bonus25 = df_bonus25.fillna(0)\n",
    "df_bonus60 = df_bonus60.fillna(0)\n",
    "df_conexion = df_conexion.fillna(0)"
   ]
  },
  {
   "cell_type": "code",
   "execution_count": 6,
   "metadata": {
    "scrolled": true
   },
   "outputs": [],
   "source": [
    "df_earn = df_earn[df_earn['storekeeper_id']!=48]\n",
    "df_earn = df_earn[df_earn['storekeeper_id']!=12060]"
   ]
  },
  {
   "cell_type": "code",
   "execution_count": 7,
   "metadata": {
    "scrolled": true
   },
   "outputs": [
    {
     "data": {
      "text/html": [
       "<div>\n",
       "<style scoped>\n",
       "    .dataframe tbody tr th:only-of-type {\n",
       "        vertical-align: middle;\n",
       "    }\n",
       "\n",
       "    .dataframe tbody tr th {\n",
       "        vertical-align: top;\n",
       "    }\n",
       "\n",
       "    .dataframe thead th {\n",
       "        text-align: right;\n",
       "    }\n",
       "</style>\n",
       "<table border=\"1\" class=\"dataframe\">\n",
       "  <thead>\n",
       "    <tr style=\"text-align: right;\">\n",
       "      <th></th>\n",
       "      <th>storekeeper_id</th>\n",
       "      <th>created_at</th>\n",
       "      <th>name</th>\n",
       "      <th>model_id</th>\n",
       "      <th>total</th>\n",
       "      <th>description</th>\n",
       "    </tr>\n",
       "  </thead>\n",
       "  <tbody>\n",
       "    <tr>\n",
       "      <th>0</th>\n",
       "      <td>10042</td>\n",
       "      <td>2018-10-06 12:54:17.416</td>\n",
       "      <td>service_cost</td>\n",
       "      <td>265236</td>\n",
       "      <td>1400.0</td>\n",
       "      <td>NaN</td>\n",
       "    </tr>\n",
       "    <tr>\n",
       "      <th>1</th>\n",
       "      <td>10042</td>\n",
       "      <td>2018-10-06 12:54:17.448</td>\n",
       "      <td>surcharge_paid_for_rappi</td>\n",
       "      <td>265236</td>\n",
       "      <td>100.0</td>\n",
       "      <td>NaN</td>\n",
       "    </tr>\n",
       "    <tr>\n",
       "      <th>2</th>\n",
       "      <td>10042</td>\n",
       "      <td>2018-10-06 13:25:30.721</td>\n",
       "      <td>service_cost</td>\n",
       "      <td>265362</td>\n",
       "      <td>1400.0</td>\n",
       "      <td>NaN</td>\n",
       "    </tr>\n",
       "    <tr>\n",
       "      <th>3</th>\n",
       "      <td>10042</td>\n",
       "      <td>2018-10-06 13:57:42.251</td>\n",
       "      <td>service_cost</td>\n",
       "      <td>265714</td>\n",
       "      <td>1400.0</td>\n",
       "      <td>NaN</td>\n",
       "    </tr>\n",
       "    <tr>\n",
       "      <th>4</th>\n",
       "      <td>10042</td>\n",
       "      <td>2018-10-06 14:42:13.668</td>\n",
       "      <td>service_cost</td>\n",
       "      <td>266092</td>\n",
       "      <td>1400.0</td>\n",
       "      <td>NaN</td>\n",
       "    </tr>\n",
       "    <tr>\n",
       "      <th>5</th>\n",
       "      <td>10042</td>\n",
       "      <td>2018-10-06 14:42:13.691</td>\n",
       "      <td>surcharge_paid_for_rappi</td>\n",
       "      <td>266092</td>\n",
       "      <td>75.0</td>\n",
       "      <td>NaN</td>\n",
       "    </tr>\n",
       "    <tr>\n",
       "      <th>6</th>\n",
       "      <td>10042</td>\n",
       "      <td>2018-10-06 15:21:44.181</td>\n",
       "      <td>service_cost</td>\n",
       "      <td>266534</td>\n",
       "      <td>1400.0</td>\n",
       "      <td>NaN</td>\n",
       "    </tr>\n",
       "    <tr>\n",
       "      <th>7</th>\n",
       "      <td>10042</td>\n",
       "      <td>2018-10-06 15:21:44.203</td>\n",
       "      <td>tip</td>\n",
       "      <td>266534</td>\n",
       "      <td>1000.0</td>\n",
       "      <td>NaN</td>\n",
       "    </tr>\n",
       "    <tr>\n",
       "      <th>8</th>\n",
       "      <td>10042</td>\n",
       "      <td>2018-10-06 15:57:15.274</td>\n",
       "      <td>service_cost</td>\n",
       "      <td>266646</td>\n",
       "      <td>1400.0</td>\n",
       "      <td>NaN</td>\n",
       "    </tr>\n",
       "    <tr>\n",
       "      <th>9</th>\n",
       "      <td>10042</td>\n",
       "      <td>2018-10-06 17:38:34.712</td>\n",
       "      <td>service_cost</td>\n",
       "      <td>267737</td>\n",
       "      <td>1400.0</td>\n",
       "      <td>NaN</td>\n",
       "    </tr>\n",
       "  </tbody>\n",
       "</table>\n",
       "</div>"
      ],
      "text/plain": [
       "   storekeeper_id              created_at                      name  model_id  \\\n",
       "0           10042 2018-10-06 12:54:17.416              service_cost    265236   \n",
       "1           10042 2018-10-06 12:54:17.448  surcharge_paid_for_rappi    265236   \n",
       "2           10042 2018-10-06 13:25:30.721              service_cost    265362   \n",
       "3           10042 2018-10-06 13:57:42.251              service_cost    265714   \n",
       "4           10042 2018-10-06 14:42:13.668              service_cost    266092   \n",
       "5           10042 2018-10-06 14:42:13.691  surcharge_paid_for_rappi    266092   \n",
       "6           10042 2018-10-06 15:21:44.181              service_cost    266534   \n",
       "7           10042 2018-10-06 15:21:44.203                       tip    266534   \n",
       "8           10042 2018-10-06 15:57:15.274              service_cost    266646   \n",
       "9           10042 2018-10-06 17:38:34.712              service_cost    267737   \n",
       "\n",
       "    total description  \n",
       "0  1400.0         NaN  \n",
       "1   100.0         NaN  \n",
       "2  1400.0         NaN  \n",
       "3  1400.0         NaN  \n",
       "4  1400.0         NaN  \n",
       "5    75.0         NaN  \n",
       "6  1400.0         NaN  \n",
       "7  1000.0         NaN  \n",
       "8  1400.0         NaN  \n",
       "9  1400.0         NaN  "
      ]
     },
     "execution_count": 7,
     "metadata": {},
     "output_type": "execute_result"
    }
   ],
   "source": [
    "df_earn.head(10)"
   ]
  },
  {
   "cell_type": "code",
   "execution_count": 8,
   "metadata": {
    "scrolled": true
   },
   "outputs": [
    {
     "data": {
      "text/html": [
       "<div>\n",
       "<style scoped>\n",
       "    .dataframe tbody tr th:only-of-type {\n",
       "        vertical-align: middle;\n",
       "    }\n",
       "\n",
       "    .dataframe tbody tr th {\n",
       "        vertical-align: top;\n",
       "    }\n",
       "\n",
       "    .dataframe thead th {\n",
       "        text-align: right;\n",
       "    }\n",
       "</style>\n",
       "<table border=\"1\" class=\"dataframe\">\n",
       "  <thead>\n",
       "    <tr style=\"text-align: right;\">\n",
       "      <th></th>\n",
       "      <th>skid</th>\n",
       "      <th>fecha</th>\n",
       "      <th>hora</th>\n",
       "      <th>time</th>\n",
       "      <th>orders</th>\n",
       "      <th>ganancia</th>\n",
       "      <th>tenia_cupo</th>\n",
       "    </tr>\n",
       "  </thead>\n",
       "  <tbody>\n",
       "    <tr>\n",
       "      <th>0</th>\n",
       "      <td>1</td>\n",
       "      <td>2018-10-04</td>\n",
       "      <td>0</td>\n",
       "      <td>1.450000</td>\n",
       "      <td>NaN</td>\n",
       "      <td>NaN</td>\n",
       "      <td>No</td>\n",
       "    </tr>\n",
       "    <tr>\n",
       "      <th>1</th>\n",
       "      <td>1</td>\n",
       "      <td>2018-10-04</td>\n",
       "      <td>1</td>\n",
       "      <td>1.833333</td>\n",
       "      <td>NaN</td>\n",
       "      <td>NaN</td>\n",
       "      <td>No</td>\n",
       "    </tr>\n",
       "    <tr>\n",
       "      <th>2</th>\n",
       "      <td>1</td>\n",
       "      <td>2018-10-04</td>\n",
       "      <td>2</td>\n",
       "      <td>1.450000</td>\n",
       "      <td>NaN</td>\n",
       "      <td>NaN</td>\n",
       "      <td>No</td>\n",
       "    </tr>\n",
       "    <tr>\n",
       "      <th>3</th>\n",
       "      <td>1</td>\n",
       "      <td>2018-10-04</td>\n",
       "      <td>3</td>\n",
       "      <td>1.550000</td>\n",
       "      <td>NaN</td>\n",
       "      <td>NaN</td>\n",
       "      <td>No</td>\n",
       "    </tr>\n",
       "    <tr>\n",
       "      <th>4</th>\n",
       "      <td>1</td>\n",
       "      <td>2018-10-04</td>\n",
       "      <td>4</td>\n",
       "      <td>1.466667</td>\n",
       "      <td>NaN</td>\n",
       "      <td>NaN</td>\n",
       "      <td>No</td>\n",
       "    </tr>\n",
       "    <tr>\n",
       "      <th>5</th>\n",
       "      <td>1</td>\n",
       "      <td>2018-10-04</td>\n",
       "      <td>5</td>\n",
       "      <td>1.400000</td>\n",
       "      <td>NaN</td>\n",
       "      <td>NaN</td>\n",
       "      <td>No</td>\n",
       "    </tr>\n",
       "    <tr>\n",
       "      <th>6</th>\n",
       "      <td>1</td>\n",
       "      <td>2018-10-04</td>\n",
       "      <td>6</td>\n",
       "      <td>1.483333</td>\n",
       "      <td>NaN</td>\n",
       "      <td>NaN</td>\n",
       "      <td>No</td>\n",
       "    </tr>\n",
       "    <tr>\n",
       "      <th>7</th>\n",
       "      <td>1</td>\n",
       "      <td>2018-10-04</td>\n",
       "      <td>7</td>\n",
       "      <td>1.533333</td>\n",
       "      <td>NaN</td>\n",
       "      <td>NaN</td>\n",
       "      <td>No</td>\n",
       "    </tr>\n",
       "    <tr>\n",
       "      <th>8</th>\n",
       "      <td>1</td>\n",
       "      <td>2018-10-04</td>\n",
       "      <td>8</td>\n",
       "      <td>1.883333</td>\n",
       "      <td>NaN</td>\n",
       "      <td>NaN</td>\n",
       "      <td>No</td>\n",
       "    </tr>\n",
       "    <tr>\n",
       "      <th>9</th>\n",
       "      <td>1</td>\n",
       "      <td>2018-10-04</td>\n",
       "      <td>9</td>\n",
       "      <td>1.950000</td>\n",
       "      <td>NaN</td>\n",
       "      <td>NaN</td>\n",
       "      <td>No</td>\n",
       "    </tr>\n",
       "  </tbody>\n",
       "</table>\n",
       "</div>"
      ],
      "text/plain": [
       "   skid      fecha  hora      time  orders  ganancia tenia_cupo\n",
       "0     1 2018-10-04     0  1.450000     NaN       NaN         No\n",
       "1     1 2018-10-04     1  1.833333     NaN       NaN         No\n",
       "2     1 2018-10-04     2  1.450000     NaN       NaN         No\n",
       "3     1 2018-10-04     3  1.550000     NaN       NaN         No\n",
       "4     1 2018-10-04     4  1.466667     NaN       NaN         No\n",
       "5     1 2018-10-04     5  1.400000     NaN       NaN         No\n",
       "6     1 2018-10-04     6  1.483333     NaN       NaN         No\n",
       "7     1 2018-10-04     7  1.533333     NaN       NaN         No\n",
       "8     1 2018-10-04     8  1.883333     NaN       NaN         No\n",
       "9     1 2018-10-04     9  1.950000     NaN       NaN         No"
      ]
     },
     "execution_count": 8,
     "metadata": {},
     "output_type": "execute_result"
    }
   ],
   "source": [
    "df_conexion.head(10)"
   ]
  },
  {
   "cell_type": "markdown",
   "metadata": {},
   "source": [
    "df_bonus25 = df_bonus25.set_index('Inicio')\n",
    "df_bonus60 = df_bonus60.set_index('Inicio')"
   ]
  },
  {
   "cell_type": "markdown",
   "metadata": {},
   "source": [
    "# Garantias Dias"
   ]
  },
  {
   "cell_type": "code",
   "execution_count": 9,
   "metadata": {
    "scrolled": true
   },
   "outputs": [],
   "source": [
    "#Dataframes por Dia\n",
    "df_sab = df_conexion[df_conexion['fecha']=='2018-10-06']\n",
    "df_dom = df_conexion[df_conexion['fecha']=='2018-10-07']"
   ]
  },
  {
   "cell_type": "code",
   "execution_count": 10,
   "metadata": {},
   "outputs": [],
   "source": [
    "df_sab = df_sab[df_sab['skid']!=1]\n",
    "df_dom = df_dom[df_dom['skid']!=1]"
   ]
  },
  {
   "cell_type": "code",
   "execution_count": 11,
   "metadata": {},
   "outputs": [],
   "source": [
    "df_garDias = pd.merge(df_sab,df_dom,how='outer', on='skid')\n",
    "df_garDias = df_garDias.fillna(0)"
   ]
  },
  {
   "cell_type": "markdown",
   "metadata": {},
   "source": [
    "df_hSab1 = df_sab[df_sab['hora']>=9]\n",
    "df_hSab2 = df_sab[df_sab['hora']<=12]\n",
    "df_hSab = pd.merge(df_hSab1, df_hSab2, how ='inner', \n",
    "                      on=['hora','skid','time','orders','ganancia','tenia_cupo','fecha'])\n",
    "df1 = df_hSab.groupby('skid').orders.sum()\n",
    "df1 = pd.DataFrame(df1)\n",
    "df_gSab1 = df1[df1['orders']>2]"
   ]
  },
  {
   "cell_type": "markdown",
   "metadata": {},
   "source": [
    "df_hDom1 = df_dom30[df_dom30['hora']>=9]\n",
    "df_hDom2 = df_dom30[df_dom30['hora']<=12]\n",
    "df_hDom = pd.merge(df_hDom1, df_hDom2, how ='inner', \n",
    "                      on=['hora','skid','time','orders','ganancia','tenia_cupo','fecha'])\n",
    "df1 = df_hDom.groupby('skid').orders.sum()\n",
    "df1 = pd.DataFrame(df1)\n",
    "df_gDom1 = df1[df1['orders']>2]"
   ]
  },
  {
   "cell_type": "markdown",
   "metadata": {
    "scrolled": true
   },
   "source": [
    "df_gDias = pd.merge(df_gSab1,df_gDom1, how ='outer', on ='skid')\n",
    "df_gDias = df_gDias.fillna(0)"
   ]
  },
  {
   "cell_type": "markdown",
   "metadata": {},
   "source": [
    "# Totales "
   ]
  },
  {
   "cell_type": "code",
   "execution_count": 12,
   "metadata": {
    "scrolled": false
   },
   "outputs": [
    {
     "data": {
      "text/html": [
       "<div>\n",
       "<style scoped>\n",
       "    .dataframe tbody tr th:only-of-type {\n",
       "        vertical-align: middle;\n",
       "    }\n",
       "\n",
       "    .dataframe tbody tr th {\n",
       "        vertical-align: top;\n",
       "    }\n",
       "\n",
       "    .dataframe thead th {\n",
       "        text-align: right;\n",
       "    }\n",
       "</style>\n",
       "<table border=\"1\" class=\"dataframe\">\n",
       "  <thead>\n",
       "    <tr style=\"text-align: right;\">\n",
       "      <th></th>\n",
       "      <th>dispersion_id</th>\n",
       "      <th>storekeeper_id</th>\n",
       "      <th>created_at</th>\n",
       "      <th>name</th>\n",
       "      <th>model_id</th>\n",
       "      <th>total</th>\n",
       "    </tr>\n",
       "  </thead>\n",
       "  <tbody>\n",
       "    <tr>\n",
       "      <th>0</th>\n",
       "      <td>328490</td>\n",
       "      <td>10702</td>\n",
       "      <td>2018-10-04 00:01:48.878</td>\n",
       "      <td>order_not_delivered_manual_debt</td>\n",
       "      <td>5288</td>\n",
       "      <td>-47400.0</td>\n",
       "    </tr>\n",
       "    <tr>\n",
       "      <th>38</th>\n",
       "      <td>328791</td>\n",
       "      <td>12000</td>\n",
       "      <td>2018-10-04 10:11:58.835</td>\n",
       "      <td>order_not_delivered_manual_debt</td>\n",
       "      <td>5290</td>\n",
       "      <td>-10490.0</td>\n",
       "    </tr>\n",
       "    <tr>\n",
       "      <th>1210</th>\n",
       "      <td>333221</td>\n",
       "      <td>10944</td>\n",
       "      <td>2018-10-04 18:04:45.112</td>\n",
       "      <td>order_not_delivered_manual_debt</td>\n",
       "      <td>5303</td>\n",
       "      <td>-38758.0</td>\n",
       "    </tr>\n",
       "    <tr>\n",
       "      <th>1234</th>\n",
       "      <td>333456</td>\n",
       "      <td>11262</td>\n",
       "      <td>2018-10-04 18:40:01.169</td>\n",
       "      <td>order_not_delivered_manual_debt</td>\n",
       "      <td>5304</td>\n",
       "      <td>-15880.0</td>\n",
       "    </tr>\n",
       "    <tr>\n",
       "      <th>1575</th>\n",
       "      <td>338970</td>\n",
       "      <td>11262</td>\n",
       "      <td>2018-10-05 14:35:02.313</td>\n",
       "      <td>order_not_delivered_manual_debt</td>\n",
       "      <td>5350</td>\n",
       "      <td>-13980.0</td>\n",
       "    </tr>\n",
       "    <tr>\n",
       "      <th>1867</th>\n",
       "      <td>341500</td>\n",
       "      <td>10640</td>\n",
       "      <td>2018-10-05 18:36:42.113</td>\n",
       "      <td>order_not_delivered_manual_debt</td>\n",
       "      <td>5361</td>\n",
       "      <td>-3600.0</td>\n",
       "    </tr>\n",
       "    <tr>\n",
       "      <th>3955</th>\n",
       "      <td>362141</td>\n",
       "      <td>10894</td>\n",
       "      <td>2018-10-08 21:18:23.616</td>\n",
       "      <td>order_not_delivered_manual_debt</td>\n",
       "      <td>5401</td>\n",
       "      <td>-42160.0</td>\n",
       "    </tr>\n",
       "  </tbody>\n",
       "</table>\n",
       "</div>"
      ],
      "text/plain": [
       "      dispersion_id  storekeeper_id              created_at  \\\n",
       "0            328490           10702 2018-10-04 00:01:48.878   \n",
       "38           328791           12000 2018-10-04 10:11:58.835   \n",
       "1210         333221           10944 2018-10-04 18:04:45.112   \n",
       "1234         333456           11262 2018-10-04 18:40:01.169   \n",
       "1575         338970           11262 2018-10-05 14:35:02.313   \n",
       "1867         341500           10640 2018-10-05 18:36:42.113   \n",
       "3955         362141           10894 2018-10-08 21:18:23.616   \n",
       "\n",
       "                                 name  model_id    total  \n",
       "0     order_not_delivered_manual_debt      5288 -47400.0  \n",
       "38    order_not_delivered_manual_debt      5290 -10490.0  \n",
       "1210  order_not_delivered_manual_debt      5303 -38758.0  \n",
       "1234  order_not_delivered_manual_debt      5304 -15880.0  \n",
       "1575  order_not_delivered_manual_debt      5350 -13980.0  \n",
       "1867  order_not_delivered_manual_debt      5361  -3600.0  \n",
       "3955  order_not_delivered_manual_debt      5401 -42160.0  "
      ]
     },
     "execution_count": 12,
     "metadata": {},
     "output_type": "execute_result"
    }
   ],
   "source": [
    "df_debt[df_debt['name'].str.startswith(\"order\")]"
   ]
  },
  {
   "cell_type": "code",
   "execution_count": 13,
   "metadata": {},
   "outputs": [],
   "source": [
    "df_calcGarantias = df_conexion\n",
    "df_resumen = df_conexion\n",
    "df_resumen = df_resumen.drop(labels = ['hora'], axis =1)"
   ]
  },
  {
   "cell_type": "code",
   "execution_count": 14,
   "metadata": {},
   "outputs": [],
   "source": [
    "dias_trabajados = df_resumen.groupby(['skid','fecha'])"
   ]
  },
  {
   "cell_type": "code",
   "execution_count": 15,
   "metadata": {},
   "outputs": [],
   "source": [
    "#Totales Minutos, Ganancias, etc\n",
    "df_resumen = df_resumen.groupby('skid').sum()"
   ]
  },
  {
   "cell_type": "code",
   "execution_count": 16,
   "metadata": {
    "scrolled": false
   },
   "outputs": [
    {
     "data": {
      "text/html": [
       "<div>\n",
       "<style scoped>\n",
       "    .dataframe tbody tr th:only-of-type {\n",
       "        vertical-align: middle;\n",
       "    }\n",
       "\n",
       "    .dataframe tbody tr th {\n",
       "        vertical-align: top;\n",
       "    }\n",
       "\n",
       "    .dataframe thead th {\n",
       "        text-align: right;\n",
       "    }\n",
       "</style>\n",
       "<table border=\"1\" class=\"dataframe\">\n",
       "  <thead>\n",
       "    <tr style=\"text-align: right;\">\n",
       "      <th></th>\n",
       "      <th>skid</th>\n",
       "      <th>fecha</th>\n",
       "      <th>hora</th>\n",
       "      <th>time</th>\n",
       "      <th>orders</th>\n",
       "      <th>ganancia</th>\n",
       "      <th>tenia_cupo</th>\n",
       "    </tr>\n",
       "  </thead>\n",
       "  <tbody>\n",
       "    <tr>\n",
       "      <th>0</th>\n",
       "      <td>1</td>\n",
       "      <td>2018-10-04</td>\n",
       "      <td>0</td>\n",
       "      <td>1.450000</td>\n",
       "      <td>NaN</td>\n",
       "      <td>NaN</td>\n",
       "      <td>No</td>\n",
       "    </tr>\n",
       "    <tr>\n",
       "      <th>1</th>\n",
       "      <td>1</td>\n",
       "      <td>2018-10-04</td>\n",
       "      <td>1</td>\n",
       "      <td>1.833333</td>\n",
       "      <td>NaN</td>\n",
       "      <td>NaN</td>\n",
       "      <td>No</td>\n",
       "    </tr>\n",
       "    <tr>\n",
       "      <th>2</th>\n",
       "      <td>1</td>\n",
       "      <td>2018-10-04</td>\n",
       "      <td>2</td>\n",
       "      <td>1.450000</td>\n",
       "      <td>NaN</td>\n",
       "      <td>NaN</td>\n",
       "      <td>No</td>\n",
       "    </tr>\n",
       "    <tr>\n",
       "      <th>3</th>\n",
       "      <td>1</td>\n",
       "      <td>2018-10-04</td>\n",
       "      <td>3</td>\n",
       "      <td>1.550000</td>\n",
       "      <td>NaN</td>\n",
       "      <td>NaN</td>\n",
       "      <td>No</td>\n",
       "    </tr>\n",
       "    <tr>\n",
       "      <th>4</th>\n",
       "      <td>1</td>\n",
       "      <td>2018-10-04</td>\n",
       "      <td>4</td>\n",
       "      <td>1.466667</td>\n",
       "      <td>NaN</td>\n",
       "      <td>NaN</td>\n",
       "      <td>No</td>\n",
       "    </tr>\n",
       "    <tr>\n",
       "      <th>5</th>\n",
       "      <td>1</td>\n",
       "      <td>2018-10-04</td>\n",
       "      <td>5</td>\n",
       "      <td>1.400000</td>\n",
       "      <td>NaN</td>\n",
       "      <td>NaN</td>\n",
       "      <td>No</td>\n",
       "    </tr>\n",
       "    <tr>\n",
       "      <th>6</th>\n",
       "      <td>1</td>\n",
       "      <td>2018-10-04</td>\n",
       "      <td>6</td>\n",
       "      <td>1.483333</td>\n",
       "      <td>NaN</td>\n",
       "      <td>NaN</td>\n",
       "      <td>No</td>\n",
       "    </tr>\n",
       "    <tr>\n",
       "      <th>7</th>\n",
       "      <td>1</td>\n",
       "      <td>2018-10-04</td>\n",
       "      <td>7</td>\n",
       "      <td>1.533333</td>\n",
       "      <td>NaN</td>\n",
       "      <td>NaN</td>\n",
       "      <td>No</td>\n",
       "    </tr>\n",
       "    <tr>\n",
       "      <th>8</th>\n",
       "      <td>1</td>\n",
       "      <td>2018-10-04</td>\n",
       "      <td>8</td>\n",
       "      <td>1.883333</td>\n",
       "      <td>NaN</td>\n",
       "      <td>NaN</td>\n",
       "      <td>No</td>\n",
       "    </tr>\n",
       "    <tr>\n",
       "      <th>9</th>\n",
       "      <td>1</td>\n",
       "      <td>2018-10-04</td>\n",
       "      <td>9</td>\n",
       "      <td>1.950000</td>\n",
       "      <td>NaN</td>\n",
       "      <td>NaN</td>\n",
       "      <td>No</td>\n",
       "    </tr>\n",
       "  </tbody>\n",
       "</table>\n",
       "</div>"
      ],
      "text/plain": [
       "   skid      fecha  hora      time  orders  ganancia tenia_cupo\n",
       "0     1 2018-10-04     0  1.450000     NaN       NaN         No\n",
       "1     1 2018-10-04     1  1.833333     NaN       NaN         No\n",
       "2     1 2018-10-04     2  1.450000     NaN       NaN         No\n",
       "3     1 2018-10-04     3  1.550000     NaN       NaN         No\n",
       "4     1 2018-10-04     4  1.466667     NaN       NaN         No\n",
       "5     1 2018-10-04     5  1.400000     NaN       NaN         No\n",
       "6     1 2018-10-04     6  1.483333     NaN       NaN         No\n",
       "7     1 2018-10-04     7  1.533333     NaN       NaN         No\n",
       "8     1 2018-10-04     8  1.883333     NaN       NaN         No\n",
       "9     1 2018-10-04     9  1.950000     NaN       NaN         No"
      ]
     },
     "execution_count": 16,
     "metadata": {},
     "output_type": "execute_result"
    }
   ],
   "source": [
    "df_calcGarantias.head(10)"
   ]
  },
  {
   "cell_type": "code",
   "execution_count": 17,
   "metadata": {},
   "outputs": [],
   "source": [
    "df_calcGarantias.insert(6,\"Total Pedidos\",0)"
   ]
  },
  {
   "cell_type": "code",
   "execution_count": 18,
   "metadata": {},
   "outputs": [],
   "source": [
    "df_calcGarantias.insert(7,\"garantia horas\",0)"
   ]
  },
  {
   "cell_type": "code",
   "execution_count": 19,
   "metadata": {},
   "outputs": [],
   "source": [
    "df_calcGarantias.insert(8,\"garantia especial\",0)"
   ]
  },
  {
   "cell_type": "code",
   "execution_count": 20,
   "metadata": {
    "scrolled": true
   },
   "outputs": [],
   "source": [
    "#df con horas para garantia\n",
    "df_calcGarantias = df_calcGarantias.fillna(0)"
   ]
  },
  {
   "cell_type": "code",
   "execution_count": 21,
   "metadata": {},
   "outputs": [],
   "source": [
    "dias_trabajados = dias_trabajados.sum().reset_index()"
   ]
  },
  {
   "cell_type": "code",
   "execution_count": 22,
   "metadata": {
    "scrolled": true
   },
   "outputs": [
    {
     "data": {
      "text/plain": [
       "skid\n",
       "1        5\n",
       "10042    1\n",
       "10045    1\n",
       "10047    4\n",
       "10048    5\n",
       "10057    1\n",
       "10059    5\n",
       "10061    4\n",
       "10065    4\n",
       "10066    5\n",
       "Name: fecha, dtype: int64"
      ]
     },
     "execution_count": 22,
     "metadata": {},
     "output_type": "execute_result"
    }
   ],
   "source": [
    "#Suma total Dias Trabajados por RT\n",
    "dtrab = dias_trabajados.groupby('skid').fecha.count()\n",
    "dtrab.head(10)"
   ]
  },
  {
   "cell_type": "code",
   "execution_count": 23,
   "metadata": {},
   "outputs": [],
   "source": [
    "df_mandebt = df_mandebt.sort_values('storekeeper_id',ascending = True)\n",
    "df_mandebt['amount'] = df_mandebt['amount'].astype(int)"
   ]
  },
  {
   "cell_type": "code",
   "execution_count": 24,
   "metadata": {
    "scrolled": true
   },
   "outputs": [],
   "source": [
    "df_debt = df_debt.sort_values('storekeeper_id',ascending = True)\n",
    "df_debt['total'] = df_debt['total'].astype(int)"
   ]
  },
  {
   "cell_type": "code",
   "execution_count": 25,
   "metadata": {
    "scrolled": true
   },
   "outputs": [
    {
     "data": {
      "text/html": [
       "<div>\n",
       "<style scoped>\n",
       "    .dataframe tbody tr th:only-of-type {\n",
       "        vertical-align: middle;\n",
       "    }\n",
       "\n",
       "    .dataframe tbody tr th {\n",
       "        vertical-align: top;\n",
       "    }\n",
       "\n",
       "    .dataframe thead th {\n",
       "        text-align: right;\n",
       "    }\n",
       "</style>\n",
       "<table border=\"1\" class=\"dataframe\">\n",
       "  <thead>\n",
       "    <tr style=\"text-align: right;\">\n",
       "      <th></th>\n",
       "      <th>dispersion_id</th>\n",
       "      <th>storekeeper_id</th>\n",
       "      <th>created_at</th>\n",
       "      <th>name</th>\n",
       "      <th>model_id</th>\n",
       "      <th>total</th>\n",
       "    </tr>\n",
       "  </thead>\n",
       "  <tbody>\n",
       "    <tr>\n",
       "      <th>2294</th>\n",
       "      <td>348832</td>\n",
       "      <td>10042</td>\n",
       "      <td>2018-10-06 17:38:34.697</td>\n",
       "      <td>cash_base</td>\n",
       "      <td>267737</td>\n",
       "      <td>-347</td>\n",
       "    </tr>\n",
       "    <tr>\n",
       "      <th>62</th>\n",
       "      <td>329027</td>\n",
       "      <td>10042</td>\n",
       "      <td>2018-10-04 11:46:08.989</td>\n",
       "      <td>debt_by_balance</td>\n",
       "      <td>14</td>\n",
       "      <td>-1175</td>\n",
       "    </tr>\n",
       "  </tbody>\n",
       "</table>\n",
       "</div>"
      ],
      "text/plain": [
       "      dispersion_id  storekeeper_id              created_at             name  \\\n",
       "2294         348832           10042 2018-10-06 17:38:34.697        cash_base   \n",
       "62           329027           10042 2018-10-04 11:46:08.989  debt_by_balance   \n",
       "\n",
       "      model_id  total  \n",
       "2294    267737   -347  \n",
       "62          14  -1175  "
      ]
     },
     "execution_count": 25,
     "metadata": {},
     "output_type": "execute_result"
    }
   ],
   "source": [
    "df_debt[df_debt['storekeeper_id']== 10042]"
   ]
  },
  {
   "cell_type": "code",
   "execution_count": 26,
   "metadata": {},
   "outputs": [],
   "source": [
    "df_earn = df_earn.sort_values('storekeeper_id',ascending = True)\n",
    "df_earn['total'] = df_earn['total'].astype(int)"
   ]
  },
  {
   "cell_type": "code",
   "execution_count": 27,
   "metadata": {},
   "outputs": [
    {
     "data": {
      "text/plain": [
       "Index(['storekeeper_id', 'created_at', 'name', 'model_id', 'total',\n",
       "       'description'],\n",
       "      dtype='object')"
      ]
     },
     "execution_count": 27,
     "metadata": {},
     "output_type": "execute_result"
    }
   ],
   "source": [
    "df_earn.columns"
   ]
  },
  {
   "cell_type": "code",
   "execution_count": 28,
   "metadata": {},
   "outputs": [],
   "source": [
    "df_incentivos = pd.DataFrame(df_earn.groupby('description').total.sum())"
   ]
  },
  {
   "cell_type": "code",
   "execution_count": 29,
   "metadata": {},
   "outputs": [
    {
     "data": {
      "text/html": [
       "<div>\n",
       "<style scoped>\n",
       "    .dataframe tbody tr th:only-of-type {\n",
       "        vertical-align: middle;\n",
       "    }\n",
       "\n",
       "    .dataframe tbody tr th {\n",
       "        vertical-align: top;\n",
       "    }\n",
       "\n",
       "    .dataframe thead th {\n",
       "        text-align: right;\n",
       "    }\n",
       "</style>\n",
       "<table border=\"1\" class=\"dataframe\">\n",
       "  <thead>\n",
       "    <tr style=\"text-align: right;\">\n",
       "      <th></th>\n",
       "      <th>total</th>\n",
       "    </tr>\n",
       "    <tr>\n",
       "      <th>description</th>\n",
       "      <th></th>\n",
       "    </tr>\n",
       "  </thead>\n",
       "  <tbody>\n",
       "    <tr>\n",
       "      <th>03 Oct -Miercoles 12 a 15</th>\n",
       "      <td>28000</td>\n",
       "    </tr>\n",
       "    <tr>\n",
       "      <th>03 Oct -Miercoles 8 a 12</th>\n",
       "      <td>96000</td>\n",
       "    </tr>\n",
       "    <tr>\n",
       "      <th>10 Oct - Domingo 9 a 12</th>\n",
       "      <td>8000</td>\n",
       "    </tr>\n",
       "    <tr>\n",
       "      <th>11 Oct - Domingo 9 a 12</th>\n",
       "      <td>8000</td>\n",
       "    </tr>\n",
       "    <tr>\n",
       "      <th>12 Oct - Domingo 9 a 12</th>\n",
       "      <td>8000</td>\n",
       "    </tr>\n",
       "    <tr>\n",
       "      <th>12094</th>\n",
       "      <td>30000</td>\n",
       "    </tr>\n",
       "    <tr>\n",
       "      <th>12192</th>\n",
       "      <td>30000</td>\n",
       "    </tr>\n",
       "    <tr>\n",
       "      <th>12232</th>\n",
       "      <td>30000</td>\n",
       "    </tr>\n",
       "    <tr>\n",
       "      <th>13 Oct - Domingo 9 a 12</th>\n",
       "      <td>8000</td>\n",
       "    </tr>\n",
       "    <tr>\n",
       "      <th>14 Oct - Domingo 9 a 12</th>\n",
       "      <td>8000</td>\n",
       "    </tr>\n",
       "    <tr>\n",
       "      <th>15 Oct - Domingo 9 a 12</th>\n",
       "      <td>8000</td>\n",
       "    </tr>\n",
       "    <tr>\n",
       "      <th>16 Oct - Domingo 9 a 12</th>\n",
       "      <td>8000</td>\n",
       "    </tr>\n",
       "    <tr>\n",
       "      <th>17 Oct - Domingo 9 a 12</th>\n",
       "      <td>8000</td>\n",
       "    </tr>\n",
       "    <tr>\n",
       "      <th>18 Oct - Domingo 9 a 12</th>\n",
       "      <td>8000</td>\n",
       "    </tr>\n",
       "    <tr>\n",
       "      <th>3 Oct -Miercoles 12 a 15</th>\n",
       "      <td>700000</td>\n",
       "    </tr>\n",
       "    <tr>\n",
       "      <th>3 Oct -Miercoles 19 a 22</th>\n",
       "      <td>1008000</td>\n",
       "    </tr>\n",
       "    <tr>\n",
       "      <th>5 Oct - Viernes 12 a 15</th>\n",
       "      <td>1694000</td>\n",
       "    </tr>\n",
       "    <tr>\n",
       "      <th>5 Oct - Viernes 13 a 15</th>\n",
       "      <td>119000</td>\n",
       "    </tr>\n",
       "    <tr>\n",
       "      <th>5 Oct - Viernes 19 a 22</th>\n",
       "      <td>1644000</td>\n",
       "    </tr>\n",
       "    <tr>\n",
       "      <th>5 Oct - Viernes 8 a 12</th>\n",
       "      <td>256000</td>\n",
       "    </tr>\n",
       "    <tr>\n",
       "      <th>6 Oct - Sabado 12 a 15</th>\n",
       "      <td>910000</td>\n",
       "    </tr>\n",
       "    <tr>\n",
       "      <th>7 Oct - Domingo 12 a 15</th>\n",
       "      <td>710000</td>\n",
       "    </tr>\n",
       "    <tr>\n",
       "      <th>7 Oct - Domingo 19 a 22</th>\n",
       "      <td>580000</td>\n",
       "    </tr>\n",
       "    <tr>\n",
       "      <th>7 Oct - Domingo 9 a 12</th>\n",
       "      <td>8000</td>\n",
       "    </tr>\n",
       "    <tr>\n",
       "      <th>8 Oct - Domingo 9 a 12</th>\n",
       "      <td>8000</td>\n",
       "    </tr>\n",
       "    <tr>\n",
       "      <th>9 Oct - Domingo 9 a 12</th>\n",
       "      <td>8000</td>\n",
       "    </tr>\n",
       "    <tr>\n",
       "      <th>Club Mate</th>\n",
       "      <td>14000</td>\n",
       "    </tr>\n",
       "    <tr>\n",
       "      <th>Incentivo Domingo 8 a 13</th>\n",
       "      <td>160000</td>\n",
       "    </tr>\n",
       "    <tr>\n",
       "      <th>Incentivo Jueves 12 a 15</th>\n",
       "      <td>1694000</td>\n",
       "    </tr>\n",
       "    <tr>\n",
       "      <th>Incentivo Jueves 19 a 22</th>\n",
       "      <td>1120000</td>\n",
       "    </tr>\n",
       "    <tr>\n",
       "      <th>Incentivo Jueves 20 a 22</th>\n",
       "      <td>248000</td>\n",
       "    </tr>\n",
       "    <tr>\n",
       "      <th>Incentivo Jueves 8 a 12</th>\n",
       "      <td>216000</td>\n",
       "    </tr>\n",
       "    <tr>\n",
       "      <th>Incentivo Sabado 9 a 13</th>\n",
       "      <td>272000</td>\n",
       "    </tr>\n",
       "    <tr>\n",
       "      <th>incentivo 2018-09-28</th>\n",
       "      <td>176000</td>\n",
       "    </tr>\n",
       "  </tbody>\n",
       "</table>\n",
       "</div>"
      ],
      "text/plain": [
       "                             total\n",
       "description                       \n",
       "03 Oct -Miercoles 12 a 15    28000\n",
       "03 Oct -Miercoles 8 a 12     96000\n",
       "10 Oct - Domingo 9 a 12       8000\n",
       "11 Oct - Domingo 9 a 12       8000\n",
       "12 Oct - Domingo 9 a 12       8000\n",
       "12094                        30000\n",
       "12192                        30000\n",
       "12232                        30000\n",
       "13 Oct - Domingo 9 a 12       8000\n",
       "14 Oct - Domingo 9 a 12       8000\n",
       "15 Oct - Domingo 9 a 12       8000\n",
       "16 Oct - Domingo 9 a 12       8000\n",
       "17 Oct - Domingo 9 a 12       8000\n",
       "18 Oct - Domingo 9 a 12       8000\n",
       "3 Oct -Miercoles 12 a 15    700000\n",
       "3 Oct -Miercoles 19 a 22   1008000\n",
       "5 Oct - Viernes 12 a 15    1694000\n",
       "5 Oct - Viernes 13 a 15     119000\n",
       "5 Oct - Viernes 19 a 22    1644000\n",
       "5 Oct - Viernes 8 a 12      256000\n",
       "6 Oct - Sabado 12 a 15      910000\n",
       "7 Oct - Domingo 12 a 15     710000\n",
       "7 Oct - Domingo 19 a 22     580000\n",
       "7 Oct - Domingo 9 a 12        8000\n",
       "8 Oct - Domingo 9 a 12        8000\n",
       "9 Oct - Domingo 9 a 12        8000\n",
       "Club Mate                    14000\n",
       "Incentivo Domingo 8 a 13    160000\n",
       "Incentivo Jueves 12 a 15   1694000\n",
       "Incentivo Jueves 19 a 22   1120000\n",
       "Incentivo Jueves 20 a 22    248000\n",
       "Incentivo Jueves 8 a 12     216000\n",
       "Incentivo Sabado 9 a 13     272000\n",
       "incentivo 2018-09-28        176000"
      ]
     },
     "execution_count": 29,
     "metadata": {},
     "output_type": "execute_result"
    }
   ],
   "source": [
    "df_incentivos"
   ]
  },
  {
   "cell_type": "markdown",
   "metadata": {},
   "source": [
    "Probar Despues:\n",
    "for i in df_calcGarantias.index:\n",
    "    df_calcGarantias['garantia horas'][i] = getMonto(25,df_calcGarantias['hora'][i],3)"
   ]
  },
  {
   "cell_type": "code",
   "execution_count": 30,
   "metadata": {},
   "outputs": [],
   "source": [
    "earn_res = df_earn.groupby('storekeeper_id')"
   ]
  },
  {
   "cell_type": "code",
   "execution_count": 31,
   "metadata": {},
   "outputs": [],
   "source": [
    "earn_res = earn_res.total.sum()"
   ]
  },
  {
   "cell_type": "code",
   "execution_count": 32,
   "metadata": {},
   "outputs": [],
   "source": [
    "df_ganancia = pd.DataFrame(earn_res)"
   ]
  },
  {
   "cell_type": "code",
   "execution_count": 33,
   "metadata": {
    "scrolled": true
   },
   "outputs": [
    {
     "data": {
      "text/html": [
       "<div>\n",
       "<style scoped>\n",
       "    .dataframe tbody tr th:only-of-type {\n",
       "        vertical-align: middle;\n",
       "    }\n",
       "\n",
       "    .dataframe tbody tr th {\n",
       "        vertical-align: top;\n",
       "    }\n",
       "\n",
       "    .dataframe thead th {\n",
       "        text-align: right;\n",
       "    }\n",
       "</style>\n",
       "<table border=\"1\" class=\"dataframe\">\n",
       "  <thead>\n",
       "    <tr style=\"text-align: right;\">\n",
       "      <th></th>\n",
       "      <th>total</th>\n",
       "    </tr>\n",
       "    <tr>\n",
       "      <th>storekeeper_id</th>\n",
       "      <th></th>\n",
       "    </tr>\n",
       "  </thead>\n",
       "  <tbody>\n",
       "    <tr>\n",
       "      <th>10042</th>\n",
       "      <td>14975</td>\n",
       "    </tr>\n",
       "    <tr>\n",
       "      <th>10047</th>\n",
       "      <td>21800</td>\n",
       "    </tr>\n",
       "    <tr>\n",
       "      <th>10048</th>\n",
       "      <td>161800</td>\n",
       "    </tr>\n",
       "    <tr>\n",
       "      <th>10059</th>\n",
       "      <td>166825</td>\n",
       "    </tr>\n",
       "    <tr>\n",
       "      <th>10065</th>\n",
       "      <td>92225</td>\n",
       "    </tr>\n",
       "    <tr>\n",
       "      <th>10066</th>\n",
       "      <td>140175</td>\n",
       "    </tr>\n",
       "    <tr>\n",
       "      <th>10067</th>\n",
       "      <td>103410</td>\n",
       "    </tr>\n",
       "    <tr>\n",
       "      <th>10075</th>\n",
       "      <td>14000</td>\n",
       "    </tr>\n",
       "    <tr>\n",
       "      <th>10082</th>\n",
       "      <td>118450</td>\n",
       "    </tr>\n",
       "    <tr>\n",
       "      <th>10083</th>\n",
       "      <td>99950</td>\n",
       "    </tr>\n",
       "  </tbody>\n",
       "</table>\n",
       "</div>"
      ],
      "text/plain": [
       "                 total\n",
       "storekeeper_id        \n",
       "10042            14975\n",
       "10047            21800\n",
       "10048           161800\n",
       "10059           166825\n",
       "10065            92225\n",
       "10066           140175\n",
       "10067           103410\n",
       "10075            14000\n",
       "10082           118450\n",
       "10083            99950"
      ]
     },
     "execution_count": 33,
     "metadata": {},
     "output_type": "execute_result"
    }
   ],
   "source": [
    "df_ganancia.head(10)"
   ]
  },
  {
   "cell_type": "code",
   "execution_count": 34,
   "metadata": {
    "scrolled": true
   },
   "outputs": [
    {
     "data": {
      "text/html": [
       "<div>\n",
       "<style scoped>\n",
       "    .dataframe tbody tr th:only-of-type {\n",
       "        vertical-align: middle;\n",
       "    }\n",
       "\n",
       "    .dataframe tbody tr th {\n",
       "        vertical-align: top;\n",
       "    }\n",
       "\n",
       "    .dataframe thead th {\n",
       "        text-align: right;\n",
       "    }\n",
       "</style>\n",
       "<table border=\"1\" class=\"dataframe\">\n",
       "  <thead>\n",
       "    <tr style=\"text-align: right;\">\n",
       "      <th></th>\n",
       "      <th>dispersion_id</th>\n",
       "      <th>storekeeper_id</th>\n",
       "      <th>created_at</th>\n",
       "      <th>name</th>\n",
       "      <th>model_id</th>\n",
       "      <th>total</th>\n",
       "    </tr>\n",
       "  </thead>\n",
       "  <tbody>\n",
       "    <tr>\n",
       "      <th>2294</th>\n",
       "      <td>348832</td>\n",
       "      <td>10042</td>\n",
       "      <td>2018-10-06 17:38:34.697</td>\n",
       "      <td>cash_base</td>\n",
       "      <td>267737</td>\n",
       "      <td>-347</td>\n",
       "    </tr>\n",
       "    <tr>\n",
       "      <th>62</th>\n",
       "      <td>329027</td>\n",
       "      <td>10042</td>\n",
       "      <td>2018-10-04 11:46:08.989</td>\n",
       "      <td>debt_by_balance</td>\n",
       "      <td>14</td>\n",
       "      <td>-1175</td>\n",
       "    </tr>\n",
       "  </tbody>\n",
       "</table>\n",
       "</div>"
      ],
      "text/plain": [
       "      dispersion_id  storekeeper_id              created_at             name  \\\n",
       "2294         348832           10042 2018-10-06 17:38:34.697        cash_base   \n",
       "62           329027           10042 2018-10-04 11:46:08.989  debt_by_balance   \n",
       "\n",
       "      model_id  total  \n",
       "2294    267737   -347  \n",
       "62          14  -1175  "
      ]
     },
     "execution_count": 34,
     "metadata": {},
     "output_type": "execute_result"
    }
   ],
   "source": [
    "df_debt[df_debt['storekeeper_id']==10042]"
   ]
  },
  {
   "cell_type": "code",
   "execution_count": 35,
   "metadata": {},
   "outputs": [],
   "source": [
    "debt_res = df_debt.groupby(['storekeeper_id','name'])"
   ]
  },
  {
   "cell_type": "code",
   "execution_count": 36,
   "metadata": {},
   "outputs": [],
   "source": [
    "debt_res = pd.DataFrame(debt_res.total.sum())"
   ]
  },
  {
   "cell_type": "code",
   "execution_count": 37,
   "metadata": {
    "scrolled": true
   },
   "outputs": [
    {
     "data": {
      "text/html": [
       "<div>\n",
       "<style scoped>\n",
       "    .dataframe tbody tr th:only-of-type {\n",
       "        vertical-align: middle;\n",
       "    }\n",
       "\n",
       "    .dataframe tbody tr th {\n",
       "        vertical-align: top;\n",
       "    }\n",
       "\n",
       "    .dataframe thead th {\n",
       "        text-align: right;\n",
       "    }\n",
       "</style>\n",
       "<table border=\"1\" class=\"dataframe\">\n",
       "  <thead>\n",
       "    <tr style=\"text-align: right;\">\n",
       "      <th></th>\n",
       "      <th></th>\n",
       "      <th>total</th>\n",
       "    </tr>\n",
       "    <tr>\n",
       "      <th>storekeeper_id</th>\n",
       "      <th>name</th>\n",
       "      <th></th>\n",
       "    </tr>\n",
       "  </thead>\n",
       "  <tbody>\n",
       "    <tr>\n",
       "      <th rowspan=\"2\" valign=\"top\">10042</th>\n",
       "      <th>cash_base</th>\n",
       "      <td>-347</td>\n",
       "    </tr>\n",
       "    <tr>\n",
       "      <th>debt_by_balance</th>\n",
       "      <td>-1175</td>\n",
       "    </tr>\n",
       "    <tr>\n",
       "      <th>10043</th>\n",
       "      <th>debt_by_balance</th>\n",
       "      <td>-28000</td>\n",
       "    </tr>\n",
       "    <tr>\n",
       "      <th>10045</th>\n",
       "      <th>debt_by_balance</th>\n",
       "      <td>-2115</td>\n",
       "    </tr>\n",
       "    <tr>\n",
       "      <th>10046</th>\n",
       "      <th>debt_by_balance</th>\n",
       "      <td>-12500</td>\n",
       "    </tr>\n",
       "    <tr>\n",
       "      <th rowspan=\"3\" valign=\"top\">10047</th>\n",
       "      <th>cash_base</th>\n",
       "      <td>-2574</td>\n",
       "    </tr>\n",
       "    <tr>\n",
       "      <th>debt_by_balance</th>\n",
       "      <td>-58619</td>\n",
       "    </tr>\n",
       "    <tr>\n",
       "      <th>pay_debt</th>\n",
       "      <td>75025</td>\n",
       "    </tr>\n",
       "    <tr>\n",
       "      <th rowspan=\"2\" valign=\"top\">10048</th>\n",
       "      <th>cash_base</th>\n",
       "      <td>-66191</td>\n",
       "    </tr>\n",
       "    <tr>\n",
       "      <th>pay_debt</th>\n",
       "      <td>94862</td>\n",
       "    </tr>\n",
       "  </tbody>\n",
       "</table>\n",
       "</div>"
      ],
      "text/plain": [
       "                                total\n",
       "storekeeper_id name                  \n",
       "10042          cash_base         -347\n",
       "               debt_by_balance  -1175\n",
       "10043          debt_by_balance -28000\n",
       "10045          debt_by_balance  -2115\n",
       "10046          debt_by_balance -12500\n",
       "10047          cash_base        -2574\n",
       "               debt_by_balance -58619\n",
       "               pay_debt         75025\n",
       "10048          cash_base       -66191\n",
       "               pay_debt         94862"
      ]
     },
     "execution_count": 37,
     "metadata": {},
     "output_type": "execute_result"
    }
   ],
   "source": [
    "debt_res.head(10)"
   ]
  },
  {
   "cell_type": "code",
   "execution_count": 38,
   "metadata": {},
   "outputs": [],
   "source": [
    "#Resumen total deuda\n",
    "df_deuda = pd.DataFrame(debt_res)\n",
    "df_deuda = df_deuda.groupby('storekeeper_id').total.sum()"
   ]
  },
  {
   "cell_type": "code",
   "execution_count": 39,
   "metadata": {},
   "outputs": [],
   "source": [
    "df_deuda2 = pd.DataFrame(df_deuda)"
   ]
  },
  {
   "cell_type": "code",
   "execution_count": 40,
   "metadata": {},
   "outputs": [
    {
     "data": {
      "text/html": [
       "<div>\n",
       "<style scoped>\n",
       "    .dataframe tbody tr th:only-of-type {\n",
       "        vertical-align: middle;\n",
       "    }\n",
       "\n",
       "    .dataframe tbody tr th {\n",
       "        vertical-align: top;\n",
       "    }\n",
       "\n",
       "    .dataframe thead th {\n",
       "        text-align: right;\n",
       "    }\n",
       "</style>\n",
       "<table border=\"1\" class=\"dataframe\">\n",
       "  <thead>\n",
       "    <tr style=\"text-align: right;\">\n",
       "      <th></th>\n",
       "      <th>total</th>\n",
       "    </tr>\n",
       "    <tr>\n",
       "      <th>storekeeper_id</th>\n",
       "      <th></th>\n",
       "    </tr>\n",
       "  </thead>\n",
       "  <tbody>\n",
       "    <tr>\n",
       "      <th>10042</th>\n",
       "      <td>-1522</td>\n",
       "    </tr>\n",
       "    <tr>\n",
       "      <th>10043</th>\n",
       "      <td>-28000</td>\n",
       "    </tr>\n",
       "    <tr>\n",
       "      <th>10045</th>\n",
       "      <td>-2115</td>\n",
       "    </tr>\n",
       "    <tr>\n",
       "      <th>10046</th>\n",
       "      <td>-12500</td>\n",
       "    </tr>\n",
       "    <tr>\n",
       "      <th>10047</th>\n",
       "      <td>13832</td>\n",
       "    </tr>\n",
       "    <tr>\n",
       "      <th>10048</th>\n",
       "      <td>28671</td>\n",
       "    </tr>\n",
       "    <tr>\n",
       "      <th>10049</th>\n",
       "      <td>-351765</td>\n",
       "    </tr>\n",
       "    <tr>\n",
       "      <th>10050</th>\n",
       "      <td>0</td>\n",
       "    </tr>\n",
       "    <tr>\n",
       "      <th>10054</th>\n",
       "      <td>-14551</td>\n",
       "    </tr>\n",
       "    <tr>\n",
       "      <th>10057</th>\n",
       "      <td>-73963</td>\n",
       "    </tr>\n",
       "  </tbody>\n",
       "</table>\n",
       "</div>"
      ],
      "text/plain": [
       "                 total\n",
       "storekeeper_id        \n",
       "10042            -1522\n",
       "10043           -28000\n",
       "10045            -2115\n",
       "10046           -12500\n",
       "10047            13832\n",
       "10048            28671\n",
       "10049          -351765\n",
       "10050                0\n",
       "10054           -14551\n",
       "10057           -73963"
      ]
     },
     "execution_count": 40,
     "metadata": {},
     "output_type": "execute_result"
    }
   ],
   "source": [
    "df_deuda2.head(10)"
   ]
  },
  {
   "cell_type": "code",
   "execution_count": 41,
   "metadata": {
    "scrolled": true
   },
   "outputs": [
    {
     "data": {
      "text/plain": [
       "storekeeper_id                                              1005900\n",
       "name              tipservice_costtiptipservice_costtipservice_co...\n",
       "model_id                                                   24883839\n",
       "total                                                        166825\n",
       "dtype: object"
      ]
     },
     "execution_count": 41,
     "metadata": {},
     "output_type": "execute_result"
    }
   ],
   "source": [
    "df_earn[df_earn['storekeeper_id']==10059].sum()"
   ]
  },
  {
   "cell_type": "code",
   "execution_count": 42,
   "metadata": {
    "scrolled": true
   },
   "outputs": [
    {
     "data": {
      "text/html": [
       "<div>\n",
       "<style scoped>\n",
       "    .dataframe tbody tr th:only-of-type {\n",
       "        vertical-align: middle;\n",
       "    }\n",
       "\n",
       "    .dataframe tbody tr th {\n",
       "        vertical-align: top;\n",
       "    }\n",
       "\n",
       "    .dataframe thead th {\n",
       "        text-align: right;\n",
       "    }\n",
       "</style>\n",
       "<table border=\"1\" class=\"dataframe\">\n",
       "  <thead>\n",
       "    <tr style=\"text-align: right;\">\n",
       "      <th></th>\n",
       "      <th>storekeeper_id</th>\n",
       "      <th>created_at</th>\n",
       "      <th>id</th>\n",
       "      <th>amount</th>\n",
       "      <th>comment</th>\n",
       "    </tr>\n",
       "  </thead>\n",
       "  <tbody>\n",
       "    <tr>\n",
       "      <th>63</th>\n",
       "      <td>10059</td>\n",
       "      <td>2018-10-05 09:50:57.003</td>\n",
       "      <td>5338</td>\n",
       "      <td>-100000</td>\n",
       "      <td>Carga de deuda por Daniel Alfaro</td>\n",
       "    </tr>\n",
       "    <tr>\n",
       "      <th>40</th>\n",
       "      <td>10640</td>\n",
       "      <td>2018-10-05 18:36:42.026</td>\n",
       "      <td>5361</td>\n",
       "      <td>-3600</td>\n",
       "      <td>pedido liberado y no entregado</td>\n",
       "    </tr>\n",
       "    <tr>\n",
       "      <th>44</th>\n",
       "      <td>10683</td>\n",
       "      <td>2018-10-05 16:55:33.147</td>\n",
       "      <td>5357</td>\n",
       "      <td>-30081</td>\n",
       "      <td>Se le deposito mas de lo que se debia. Revisad...</td>\n",
       "    </tr>\n",
       "    <tr>\n",
       "      <th>113</th>\n",
       "      <td>10702</td>\n",
       "      <td>2018-10-04 00:01:48.784</td>\n",
       "      <td>5288</td>\n",
       "      <td>-47400</td>\n",
       "      <td>Repartidor libera orden luego de cobrar al cli...</td>\n",
       "    </tr>\n",
       "    <tr>\n",
       "      <th>0</th>\n",
       "      <td>10894</td>\n",
       "      <td>2018-10-08 21:18:23.514</td>\n",
       "      <td>5401</td>\n",
       "      <td>-42160</td>\n",
       "      <td>no trae pedido a la oficina</td>\n",
       "    </tr>\n",
       "    <tr>\n",
       "      <th>98</th>\n",
       "      <td>10944</td>\n",
       "      <td>2018-10-04 18:04:45.001</td>\n",
       "      <td>5303</td>\n",
       "      <td>-38758</td>\n",
       "      <td>Rt tramita todo el proceso de la orden en 2 mi...</td>\n",
       "    </tr>\n",
       "    <tr>\n",
       "      <th>51</th>\n",
       "      <td>11262</td>\n",
       "      <td>2018-10-05 14:35:02.158</td>\n",
       "      <td>5350</td>\n",
       "      <td>-13980</td>\n",
       "      <td>Mal uso de App - castigo</td>\n",
       "    </tr>\n",
       "    <tr>\n",
       "      <th>97</th>\n",
       "      <td>11262</td>\n",
       "      <td>2018-10-04 18:40:01.086</td>\n",
       "      <td>5304</td>\n",
       "      <td>-15880</td>\n",
       "      <td>repartidor libera orden y no entrega</td>\n",
       "    </tr>\n",
       "    <tr>\n",
       "      <th>3</th>\n",
       "      <td>11757</td>\n",
       "      <td>2018-10-08 18:02:04.394</td>\n",
       "      <td>5398</td>\n",
       "      <td>-9400</td>\n",
       "      <td>Datos mal ingresados. MR</td>\n",
       "    </tr>\n",
       "    <tr>\n",
       "      <th>111</th>\n",
       "      <td>12000</td>\n",
       "      <td>2018-10-04 10:11:58.732</td>\n",
       "      <td>5290</td>\n",
       "      <td>-10490</td>\n",
       "      <td>Rt tramita orden y no entrega al cliente.</td>\n",
       "    </tr>\n",
       "  </tbody>\n",
       "</table>\n",
       "</div>"
      ],
      "text/plain": [
       "     storekeeper_id              created_at    id  amount  \\\n",
       "63            10059 2018-10-05 09:50:57.003  5338 -100000   \n",
       "40            10640 2018-10-05 18:36:42.026  5361   -3600   \n",
       "44            10683 2018-10-05 16:55:33.147  5357  -30081   \n",
       "113           10702 2018-10-04 00:01:48.784  5288  -47400   \n",
       "0             10894 2018-10-08 21:18:23.514  5401  -42160   \n",
       "98            10944 2018-10-04 18:04:45.001  5303  -38758   \n",
       "51            11262 2018-10-05 14:35:02.158  5350  -13980   \n",
       "97            11262 2018-10-04 18:40:01.086  5304  -15880   \n",
       "3             11757 2018-10-08 18:02:04.394  5398   -9400   \n",
       "111           12000 2018-10-04 10:11:58.732  5290  -10490   \n",
       "\n",
       "                                               comment  \n",
       "63                    Carga de deuda por Daniel Alfaro  \n",
       "40                      pedido liberado y no entregado  \n",
       "44   Se le deposito mas de lo que se debia. Revisad...  \n",
       "113  Repartidor libera orden luego de cobrar al cli...  \n",
       "0                          no trae pedido a la oficina  \n",
       "98   Rt tramita todo el proceso de la orden en 2 mi...  \n",
       "51                            Mal uso de App - castigo  \n",
       "97                repartidor libera orden y no entrega  \n",
       "3                             Datos mal ingresados. MR  \n",
       "111          Rt tramita orden y no entrega al cliente.  "
      ]
     },
     "execution_count": 42,
     "metadata": {},
     "output_type": "execute_result"
    }
   ],
   "source": [
    "df_mandebt.head(10)"
   ]
  },
  {
   "cell_type": "code",
   "execution_count": 43,
   "metadata": {},
   "outputs": [],
   "source": [
    "mandebt_res = df_mandebt.groupby(['storekeeper_id','comment'])"
   ]
  },
  {
   "cell_type": "code",
   "execution_count": 44,
   "metadata": {},
   "outputs": [],
   "source": [
    "mandebt_res = mandebt_res.amount.sum()"
   ]
  },
  {
   "cell_type": "code",
   "execution_count": 45,
   "metadata": {},
   "outputs": [],
   "source": [
    "#Resumen Deuda Manual por ID\n",
    "df_dmanual = pd.DataFrame(mandebt_res)"
   ]
  },
  {
   "cell_type": "code",
   "execution_count": 46,
   "metadata": {
    "scrolled": false
   },
   "outputs": [
    {
     "data": {
      "text/html": [
       "<div>\n",
       "<style scoped>\n",
       "    .dataframe tbody tr th:only-of-type {\n",
       "        vertical-align: middle;\n",
       "    }\n",
       "\n",
       "    .dataframe tbody tr th {\n",
       "        vertical-align: top;\n",
       "    }\n",
       "\n",
       "    .dataframe thead th {\n",
       "        text-align: right;\n",
       "    }\n",
       "</style>\n",
       "<table border=\"1\" class=\"dataframe\">\n",
       "  <thead>\n",
       "    <tr style=\"text-align: right;\">\n",
       "      <th></th>\n",
       "      <th>storekeeper_id</th>\n",
       "      <th>created_at</th>\n",
       "      <th>id</th>\n",
       "      <th>amount</th>\n",
       "      <th>comment</th>\n",
       "    </tr>\n",
       "  </thead>\n",
       "  <tbody>\n",
       "  </tbody>\n",
       "</table>\n",
       "</div>"
      ],
      "text/plain": [
       "Empty DataFrame\n",
       "Columns: [storekeeper_id, created_at, id, amount, comment]\n",
       "Index: []"
      ]
     },
     "execution_count": 46,
     "metadata": {},
     "output_type": "execute_result"
    }
   ],
   "source": [
    "df_mandebt[df_mandebt['storekeeper_id'] == 10336]"
   ]
  },
  {
   "cell_type": "code",
   "execution_count": 47,
   "metadata": {},
   "outputs": [
    {
     "data": {
      "text/plain": [
       "42023573"
      ]
     },
     "execution_count": 47,
     "metadata": {},
     "output_type": "execute_result"
    }
   ],
   "source": [
    "#Total Ganado Semana\n",
    "df_ganancia['total'].values.ravel().sum()"
   ]
  },
  {
   "cell_type": "code",
   "execution_count": 48,
   "metadata": {},
   "outputs": [
    {
     "data": {
      "text/plain": [
       "-53032195"
      ]
     },
     "execution_count": 48,
     "metadata": {},
     "output_type": "execute_result"
    }
   ],
   "source": [
    "#Total Cobros Semana\n",
    "df_debt['total'].values.ravel().sum()"
   ]
  },
  {
   "cell_type": "code",
   "execution_count": 49,
   "metadata": {},
   "outputs": [],
   "source": [
    "df_final = pd.merge(df_ganancia,df_deuda2,how='outer',on = 'storekeeper_id')\n",
    "df_final = df_final.fillna(0).sort_values('storekeeper_id')\n",
    "df_final.insert(2,'Total a Pagar', df_final.total_x + df_final.total_y)"
   ]
  },
  {
   "cell_type": "code",
   "execution_count": 50,
   "metadata": {},
   "outputs": [],
   "source": [
    "df_garantias = df_earn[df_earn['name']=='service_cost']"
   ]
  },
  {
   "cell_type": "code",
   "execution_count": 51,
   "metadata": {},
   "outputs": [
    {
     "data": {
      "text/plain": [
       "-53032195"
      ]
     },
     "execution_count": 51,
     "metadata": {},
     "output_type": "execute_result"
    }
   ],
   "source": [
    "#Total Cobros Semana\n",
    "df_debt['total'].values.ravel().sum()"
   ]
  },
  {
   "cell_type": "code",
   "execution_count": 52,
   "metadata": {},
   "outputs": [],
   "source": [
    "#Dataframe con Total de Ordenes por RT\n",
    "df_ppay = df_garantias.groupby('storekeeper_id').total.count()\n",
    "df_ppay2 = pd.DataFrame(df_ppay)\n",
    "df_ppay2 = df_ppay2.reset_index()"
   ]
  },
  {
   "cell_type": "code",
   "execution_count": 53,
   "metadata": {
    "scrolled": true
   },
   "outputs": [
    {
     "data": {
      "text/html": [
       "<div>\n",
       "<style scoped>\n",
       "    .dataframe tbody tr th:only-of-type {\n",
       "        vertical-align: middle;\n",
       "    }\n",
       "\n",
       "    .dataframe tbody tr th {\n",
       "        vertical-align: top;\n",
       "    }\n",
       "\n",
       "    .dataframe thead th {\n",
       "        text-align: right;\n",
       "    }\n",
       "</style>\n",
       "<table border=\"1\" class=\"dataframe\">\n",
       "  <thead>\n",
       "    <tr style=\"text-align: right;\">\n",
       "      <th></th>\n",
       "      <th>dispersion_id</th>\n",
       "      <th>storekeeper_id</th>\n",
       "      <th>created_at</th>\n",
       "      <th>name</th>\n",
       "      <th>model_id</th>\n",
       "      <th>total</th>\n",
       "    </tr>\n",
       "  </thead>\n",
       "  <tbody>\n",
       "    <tr>\n",
       "      <th>1867</th>\n",
       "      <td>341500</td>\n",
       "      <td>10640</td>\n",
       "      <td>2018-10-05 18:36:42.113</td>\n",
       "      <td>order_not_delivered_manual_debt</td>\n",
       "      <td>5361</td>\n",
       "      <td>-3600</td>\n",
       "    </tr>\n",
       "    <tr>\n",
       "      <th>0</th>\n",
       "      <td>328490</td>\n",
       "      <td>10702</td>\n",
       "      <td>2018-10-04 00:01:48.878</td>\n",
       "      <td>order_not_delivered_manual_debt</td>\n",
       "      <td>5288</td>\n",
       "      <td>-47400</td>\n",
       "    </tr>\n",
       "    <tr>\n",
       "      <th>3955</th>\n",
       "      <td>362141</td>\n",
       "      <td>10894</td>\n",
       "      <td>2018-10-08 21:18:23.616</td>\n",
       "      <td>order_not_delivered_manual_debt</td>\n",
       "      <td>5401</td>\n",
       "      <td>-42160</td>\n",
       "    </tr>\n",
       "    <tr>\n",
       "      <th>1210</th>\n",
       "      <td>333221</td>\n",
       "      <td>10944</td>\n",
       "      <td>2018-10-04 18:04:45.112</td>\n",
       "      <td>order_not_delivered_manual_debt</td>\n",
       "      <td>5303</td>\n",
       "      <td>-38758</td>\n",
       "    </tr>\n",
       "    <tr>\n",
       "      <th>1575</th>\n",
       "      <td>338970</td>\n",
       "      <td>11262</td>\n",
       "      <td>2018-10-05 14:35:02.313</td>\n",
       "      <td>order_not_delivered_manual_debt</td>\n",
       "      <td>5350</td>\n",
       "      <td>-13980</td>\n",
       "    </tr>\n",
       "    <tr>\n",
       "      <th>1234</th>\n",
       "      <td>333456</td>\n",
       "      <td>11262</td>\n",
       "      <td>2018-10-04 18:40:01.169</td>\n",
       "      <td>order_not_delivered_manual_debt</td>\n",
       "      <td>5304</td>\n",
       "      <td>-15880</td>\n",
       "    </tr>\n",
       "    <tr>\n",
       "      <th>38</th>\n",
       "      <td>328791</td>\n",
       "      <td>12000</td>\n",
       "      <td>2018-10-04 10:11:58.835</td>\n",
       "      <td>order_not_delivered_manual_debt</td>\n",
       "      <td>5290</td>\n",
       "      <td>-10490</td>\n",
       "    </tr>\n",
       "  </tbody>\n",
       "</table>\n",
       "</div>"
      ],
      "text/plain": [
       "      dispersion_id  storekeeper_id              created_at  \\\n",
       "1867         341500           10640 2018-10-05 18:36:42.113   \n",
       "0            328490           10702 2018-10-04 00:01:48.878   \n",
       "3955         362141           10894 2018-10-08 21:18:23.616   \n",
       "1210         333221           10944 2018-10-04 18:04:45.112   \n",
       "1575         338970           11262 2018-10-05 14:35:02.313   \n",
       "1234         333456           11262 2018-10-04 18:40:01.169   \n",
       "38           328791           12000 2018-10-04 10:11:58.835   \n",
       "\n",
       "                                 name  model_id  total  \n",
       "1867  order_not_delivered_manual_debt      5361  -3600  \n",
       "0     order_not_delivered_manual_debt      5288 -47400  \n",
       "3955  order_not_delivered_manual_debt      5401 -42160  \n",
       "1210  order_not_delivered_manual_debt      5303 -38758  \n",
       "1575  order_not_delivered_manual_debt      5350 -13980  \n",
       "1234  order_not_delivered_manual_debt      5304 -15880  \n",
       "38    order_not_delivered_manual_debt      5290 -10490  "
      ]
     },
     "execution_count": 53,
     "metadata": {},
     "output_type": "execute_result"
    }
   ],
   "source": [
    "df_debt[df_debt['name']=='order_not_delivered_manual_debt'].sort_values('storekeeper_id')"
   ]
  },
  {
   "cell_type": "code",
   "execution_count": 54,
   "metadata": {},
   "outputs": [],
   "source": [
    "df_final = df_final.rename(columns= {'total_x':'Total Produccion S/Garantias','total_y':'Total Deuda'})"
   ]
  },
  {
   "cell_type": "code",
   "execution_count": 55,
   "metadata": {},
   "outputs": [
    {
     "data": {
      "text/html": [
       "<div>\n",
       "<style scoped>\n",
       "    .dataframe tbody tr th:only-of-type {\n",
       "        vertical-align: middle;\n",
       "    }\n",
       "\n",
       "    .dataframe tbody tr th {\n",
       "        vertical-align: top;\n",
       "    }\n",
       "\n",
       "    .dataframe thead th {\n",
       "        text-align: right;\n",
       "    }\n",
       "</style>\n",
       "<table border=\"1\" class=\"dataframe\">\n",
       "  <thead>\n",
       "    <tr style=\"text-align: right;\">\n",
       "      <th></th>\n",
       "      <th>storekeeper_id</th>\n",
       "      <th>Total Produccion S/Garantias</th>\n",
       "      <th>Total Deuda</th>\n",
       "      <th>Total a Pagar</th>\n",
       "    </tr>\n",
       "  </thead>\n",
       "  <tbody>\n",
       "    <tr>\n",
       "      <th>301</th>\n",
       "      <td>10736</td>\n",
       "      <td>1400.0</td>\n",
       "      <td>0.0</td>\n",
       "      <td>1400.0</td>\n",
       "    </tr>\n",
       "  </tbody>\n",
       "</table>\n",
       "</div>"
      ],
      "text/plain": [
       "     storekeeper_id  Total Produccion S/Garantias  Total Deuda  Total a Pagar\n",
       "301           10736                        1400.0          0.0         1400.0"
      ]
     },
     "execution_count": 55,
     "metadata": {},
     "output_type": "execute_result"
    }
   ],
   "source": [
    "df_final = df_final.reset_index()\n",
    "df_final[df_final['storekeeper_id']==10736]"
   ]
  },
  {
   "cell_type": "code",
   "execution_count": 56,
   "metadata": {},
   "outputs": [],
   "source": [
    "writer = pd.ExcelWriter('C:/Users/mromo/Desktop/Rappi/Datasets/S'+semana+'/Resumen S'+semana+'.xlsx')\n",
    "df_earn.to_excel(writer,'Resumen Ganancia')\n",
    "df_debt.to_excel(writer,'Resumen Deuda')\n",
    "df_final.to_excel(writer,'Prod-Deuda')\n",
    "df_dmanual.to_excel(writer, 'Deuda Manual')\n",
    "df_calcGarantias.to_excel(writer, 'Calculo Garantias')\n",
    "df_garDias.to_excel(writer, 'Incentivos fin de Semana')\n",
    "df_ppay2.to_excel(writer, 'Ordenes Totales')\n",
    "df_resumen.to_excel(writer, 'Totales')\n",
    "writer.save()\n",
    "writer.close()"
   ]
  },
  {
   "cell_type": "markdown",
   "metadata": {},
   "source": [
    "Agregar Glosa + Fecha para info que aparecera en la notificacion de la aplicacion."
   ]
  },
  {
   "cell_type": "code",
   "execution_count": 57,
   "metadata": {
    "scrolled": true
   },
   "outputs": [],
   "source": [
    "dtrab.to_excel('C:/Users/mromo/Desktop/Rappi/Datasets/S'+semana+'/Dias Trabajados.xlsx')\n",
    "df_final.to_excel('C:/Users/mromo/Desktop/Rappi/Datasets/S'+semana+'/Pagos S'+semana+'.xlsx')"
   ]
  },
  {
   "cell_type": "code",
   "execution_count": 58,
   "metadata": {},
   "outputs": [],
   "source": [
    "df_incentivos.to_excel('C:/Users/mromo/Desktop/Rappi/Datasets/S'+semana+'/Detalle Incentivos.xlsx')"
   ]
  },
  {
   "cell_type": "code",
   "execution_count": 59,
   "metadata": {},
   "outputs": [],
   "source": [
    "df_vina.to_excel('C:/Users/mromo/Desktop/Rappi/Datasets/S'+semana+'/Info Conexion '+semana+' - Viña.xlsx')"
   ]
  }
 ],
 "metadata": {
  "kernelspec": {
   "display_name": "Python 3",
   "language": "python",
   "name": "python3"
  },
  "language_info": {
   "codemirror_mode": {
    "name": "ipython",
    "version": 3
   },
   "file_extension": ".py",
   "mimetype": "text/x-python",
   "name": "python",
   "nbconvert_exporter": "python",
   "pygments_lexer": "ipython3",
   "version": "3.6.5"
  }
 },
 "nbformat": 4,
 "nbformat_minor": 2
}
